{
  "nbformat": 4,
  "nbformat_minor": 0,
  "metadata": {
    "colab": {
      "provenance": [],
      "authorship_tag": "ABX9TyMCekpzdZhCH48Vgt0gk5s0",
      "include_colab_link": true
    },
    "kernelspec": {
      "name": "python3",
      "display_name": "Python 3"
    },
    "language_info": {
      "name": "python"
    }
  },
  "cells": [
    {
      "cell_type": "markdown",
      "metadata": {
        "id": "view-in-github",
        "colab_type": "text"
      },
      "source": [
        "<a href=\"https://colab.research.google.com/github/generalpacific/zerotohero/blob/main/zerotoheromlp.ipynb\" target=\"_parent\"><img src=\"https://colab.research.google.com/assets/colab-badge.svg\" alt=\"Open In Colab\"/></a>"
      ]
    },
    {
      "cell_type": "markdown",
      "source": [
        "Read data"
      ],
      "metadata": {
        "id": "F5JEbgNSwh1B"
      }
    },
    {
      "cell_type": "code",
      "source": [],
      "metadata": {
        "id": "XpfLbWbUwlN8"
      },
      "execution_count": null,
      "outputs": []
    },
    {
      "cell_type": "markdown",
      "source": [
        "First layer MLP"
      ],
      "metadata": {
        "id": "XBXTnPxgwlqw"
      }
    },
    {
      "cell_type": "code",
      "source": [],
      "metadata": {
        "id": "vIyzUSc6xmsn"
      },
      "execution_count": null,
      "outputs": []
    }
  ]
}