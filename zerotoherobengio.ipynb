{
  "nbformat": 4,
  "nbformat_minor": 0,
  "metadata": {
    "colab": {
      "provenance": [],
      "authorship_tag": "ABX9TyO4di2MuqAALjLx+XYhNdo8"
    },
    "kernelspec": {
      "name": "python3",
      "display_name": "Python 3"
    },
    "language_info": {
      "name": "python"
    }
  },
  "cells": [
    {
      "cell_type": "markdown",
      "source": [
        "# Compile dataset for the neural net"
      ],
      "metadata": {
        "id": "F5JEbgNSwh1B"
      }
    },
    {
      "cell_type": "code",
      "source": [
        "import torch\n",
        "import torch.nn.functional as F\n",
        "import matplotlib.pyplot as plt \n",
        "# The %matplotlib inline command tells the IPython environment to draw the plots immediately after the current cell\n",
        "%matplotlib inline"
      ],
      "metadata": {
        "id": "XpfLbWbUwlN8"
      },
      "execution_count": 2,
      "outputs": []
    },
    {
      "cell_type": "markdown",
      "source": [
        "Read dataset in words"
      ],
      "metadata": {
        "id": "fKJmuGka7nOY"
      }
    },
    {
      "cell_type": "code",
      "source": [
        "words = open('sample_data/names.txt', 'r').read().splitlines()\n",
        "words[:10]"
      ],
      "metadata": {
        "colab": {
          "base_uri": "https://localhost:8080/"
        },
        "id": "c0a0Kh2K5p7c",
        "outputId": "2c4edd29-120d-4a82-dbf9-f91114774e08"
      },
      "execution_count": 4,
      "outputs": [
        {
          "output_type": "execute_result",
          "data": {
            "text/plain": [
              "['emma',\n",
              " 'olivia',\n",
              " 'ava',\n",
              " 'isabella',\n",
              " 'sophia',\n",
              " 'charlotte',\n",
              " 'mia',\n",
              " 'amelia',\n",
              " 'harper',\n",
              " 'evelyn']"
            ]
          },
          "metadata": {},
          "execution_count": 4
        }
      ]
    },
    {
      "cell_type": "markdown",
      "source": [
        "Build mapping of to/from integers"
      ],
      "metadata": {
        "id": "l9E_wfvd6296"
      }
    },
    {
      "cell_type": "code",
      "source": [
        "chars = sorted(list(set(''.join(words))))\n",
        "\n",
        "# character to integer\n",
        "stoi = {s:i + 1 for i,s in enumerate(chars)}\n",
        "stoi['.'] = 0\n",
        "\n",
        "# integer to character\n",
        "itos = {i:s for s,i in stoi.items()}\n",
        "print(itos)\n",
        "\n"
      ],
      "metadata": {
        "colab": {
          "base_uri": "https://localhost:8080/"
        },
        "id": "aGJvTem16oQq",
        "outputId": "07450ac9-882f-4ca4-9338-1e56cc52c056"
      },
      "execution_count": 5,
      "outputs": [
        {
          "output_type": "stream",
          "name": "stdout",
          "text": [
            "{1: 'a', 2: 'b', 3: 'c', 4: 'd', 5: 'e', 6: 'f', 7: 'g', 8: 'h', 9: 'i', 10: 'j', 11: 'k', 12: 'l', 13: 'm', 14: 'n', 15: 'o', 16: 'p', 17: 'q', 18: 'r', 19: 's', 20: 't', 21: 'u', 22: 'v', 23: 'w', 24: 'x', 25: 'y', 26: 'z', 0: '.'}\n"
          ]
        }
      ]
    },
    {
      "cell_type": "markdown",
      "source": [
        "Make the intial data set with the block of input and the next prediction"
      ],
      "metadata": {
        "id": "d3ib8kOe7qTB"
      }
    },
    {
      "cell_type": "code",
      "source": [
        "BLOCK_SIZE = 3\n",
        "\n",
        "X = []\n",
        "Y = []\n",
        "\n",
        "for w in words:\n",
        "  # Read the block.\n",
        "  current_block = [0] * BLOCK_SIZE\n",
        "\n",
        "  for ch in w + '.':\n",
        "    i = stoi[ch]\n",
        "    X.append(current_block)\n",
        "    Y.append(i)\n",
        "    # print(''.join(itos[ib] for ib in current_block), \" -> \" , ch)\n",
        "    current_block = current_block[1:] + [i]\n",
        "\n",
        "\n",
        "X = torch.tensor(X)\n",
        "Y = torch.tensor(Y)"
      ],
      "metadata": {
        "id": "GHHpnXaf8j_G"
      },
      "execution_count": 6,
      "outputs": []
    },
    {
      "cell_type": "code",
      "source": [
        "X.shape, Y.shape"
      ],
      "metadata": {
        "colab": {
          "base_uri": "https://localhost:8080/"
        },
        "id": "cJmktHo-PGJp",
        "outputId": "8ec17bfb-27f5-490b-c24e-d9294454d785"
      },
      "execution_count": 7,
      "outputs": [
        {
          "output_type": "execute_result",
          "data": {
            "text/plain": [
              "(torch.Size([228146, 3]), torch.Size([228146]))"
            ]
          },
          "metadata": {},
          "execution_count": 7
        }
      ]
    },
    {
      "cell_type": "markdown",
      "source": [
        "Embedding Lookup table \n",
        "* decide the embedding size\n"
      ],
      "metadata": {
        "id": "XBXTnPxgwlqw"
      }
    },
    {
      "cell_type": "code",
      "source": [
        "# Lookup table with embedding size 2.\n",
        "C = torch.randn(27,2)\n",
        "\n",
        "# embedding is simply the lookup for each input.\n",
        "embedding = C[X]\n"
      ],
      "metadata": {
        "id": "vIyzUSc6xmsn"
      },
      "execution_count": 8,
      "outputs": []
    },
    {
      "cell_type": "markdown",
      "source": [
        "MLP: First Layer\n",
        "* Decide weights and number of neurons for the first layer\n",
        "* challenge will be how do you multiple embedding which is `32 * 3 * 2` matrix by weights which will be `6 * number of neurons` size."
      ],
      "metadata": {
        "id": "oN8brG32DF0Q"
      }
    },
    {
      "cell_type": "code",
      "source": [
        "NUM_OF_NEURONS = 100\n",
        "\n",
        "W1 = torch.randn(6, NUM_OF_NEURONS)\n",
        "b1 = torch.randn(NUM_OF_NEURONS)\n",
        "\n",
        "h = torch.tanh(embedding.view(embedding.shape[0], 6) @ W1 + b1)"
      ],
      "metadata": {
        "id": "jImAdusdDIXH"
      },
      "execution_count": 9,
      "outputs": []
    },
    {
      "cell_type": "code",
      "source": [
        "h"
      ],
      "metadata": {
        "colab": {
          "base_uri": "https://localhost:8080/"
        },
        "id": "BDXGDm3WFoxQ",
        "outputId": "70956f7f-52ec-4a99-c2b0-2dc524836ada"
      },
      "execution_count": null,
      "outputs": [
        {
          "output_type": "execute_result",
          "data": {
            "text/plain": [
              "tensor([[-1.0000,  1.0000,  0.3543,  ..., -1.0000, -0.9524, -0.9405],\n",
              "        [-0.9997, -0.5203,  0.9990,  ..., -1.0000,  1.0000, -0.9230],\n",
              "        [ 0.9993,  0.9993, -1.0000,  ..., -0.9926, -0.8662, -0.1419],\n",
              "        ...,\n",
              "        [-0.9713,  0.6152, -0.7253,  ..., -0.9419,  0.6753,  0.3512],\n",
              "        [-0.9487,  0.9871, -0.8801,  ...,  0.9602, -0.8803, -0.0933],\n",
              "        [-0.9993, -0.1741,  0.9915,  ..., -0.9999,  0.9375, -0.9140]])"
            ]
          },
          "metadata": {},
          "execution_count": 46
        }
      ]
    },
    {
      "cell_type": "markdown",
      "source": [
        "MLP: Final layer\n",
        "* Outputs logits.\n",
        "* Normalize the logits so that they sum to one."
      ],
      "metadata": {
        "id": "0ORtcqrFGK_h"
      }
    },
    {
      "cell_type": "code",
      "source": [
        "W2 = torch.randn(NUM_OF_NEURONS, 27)\n",
        "b2 = torch.randn(27)\n",
        "\n",
        "logits = h @ W2 + b2\n",
        "\n",
        "# Normalize logits\n",
        "counts = logits.exp()\n",
        "prob = counts / counts.sum(1, keepdims = True)\n",
        "prob[0].sum() "
      ],
      "metadata": {
        "colab": {
          "base_uri": "https://localhost:8080/"
        },
        "id": "gEmCC6RMGN67",
        "outputId": "ed9750cb-c288-4a00-b691-767e7e9e751f"
      },
      "execution_count": 12,
      "outputs": [
        {
          "output_type": "execute_result",
          "data": {
            "text/plain": [
              "tensor(1.0000)"
            ]
          },
          "metadata": {},
          "execution_count": 12
        }
      ]
    },
    {
      "cell_type": "markdown",
      "source": [
        "Implement negative log likelihood loss\n",
        "* Find the prob assigned to Y by the above NN."
      ],
      "metadata": {
        "id": "RC1fppYGHhtb"
      }
    },
    {
      "cell_type": "code",
      "source": [
        "prob_for_Y = prob[torch.arange(32), Y]\n",
        "\n",
        "log_likelyhood = prob_for_Y.log()\n",
        "\n",
        "mean_log_likelyhood = log_likelyhood.mean()\n",
        "\n",
        "# negative log likelyhood\n",
        "loss = -mean_log_likelyhood\n",
        "loss"
      ],
      "metadata": {
        "colab": {
          "base_uri": "https://localhost:8080/",
          "height": 236
        },
        "id": "xoZA179bHnel",
        "outputId": "1a4765f9-ca89-4551-cbec-842909ad6846"
      },
      "execution_count": 11,
      "outputs": [
        {
          "output_type": "error",
          "ename": "IndexError",
          "evalue": "ignored",
          "traceback": [
            "\u001b[0;31m---------------------------------------------------------------------------\u001b[0m",
            "\u001b[0;31mIndexError\u001b[0m                                Traceback (most recent call last)",
            "\u001b[0;32m<ipython-input-11-2c8aa59ac3e1>\u001b[0m in \u001b[0;36m<cell line: 1>\u001b[0;34m()\u001b[0m\n\u001b[0;32m----> 1\u001b[0;31m \u001b[0mprob_for_Y\u001b[0m \u001b[0;34m=\u001b[0m \u001b[0mprob\u001b[0m\u001b[0;34m[\u001b[0m\u001b[0mtorch\u001b[0m\u001b[0;34m.\u001b[0m\u001b[0marange\u001b[0m\u001b[0;34m(\u001b[0m\u001b[0;36m32\u001b[0m\u001b[0;34m)\u001b[0m\u001b[0;34m,\u001b[0m \u001b[0mY\u001b[0m\u001b[0;34m]\u001b[0m\u001b[0;34m\u001b[0m\u001b[0;34m\u001b[0m\u001b[0m\n\u001b[0m\u001b[1;32m      2\u001b[0m \u001b[0;34m\u001b[0m\u001b[0m\n\u001b[1;32m      3\u001b[0m \u001b[0mlog_likelyhood\u001b[0m \u001b[0;34m=\u001b[0m \u001b[0mprob_for_Y\u001b[0m\u001b[0;34m.\u001b[0m\u001b[0mlog\u001b[0m\u001b[0;34m(\u001b[0m\u001b[0;34m)\u001b[0m\u001b[0;34m\u001b[0m\u001b[0;34m\u001b[0m\u001b[0m\n\u001b[1;32m      4\u001b[0m \u001b[0;34m\u001b[0m\u001b[0m\n\u001b[1;32m      5\u001b[0m \u001b[0mmean_log_likelyhood\u001b[0m \u001b[0;34m=\u001b[0m \u001b[0mlog_likelyhood\u001b[0m\u001b[0;34m.\u001b[0m\u001b[0mmean\u001b[0m\u001b[0;34m(\u001b[0m\u001b[0;34m)\u001b[0m\u001b[0;34m\u001b[0m\u001b[0;34m\u001b[0m\u001b[0m\n",
            "\u001b[0;31mIndexError\u001b[0m: shape mismatch: indexing tensors could not be broadcast together with shapes [32], [228146]"
          ]
        }
      ]
    },
    {
      "cell_type": "code",
      "source": [
        "F.cross_entropy(logits, Y)"
      ],
      "metadata": {
        "colab": {
          "base_uri": "https://localhost:8080/"
        },
        "id": "Ol3KlBjZIwrS",
        "outputId": "5b49210f-17f1-48f1-a65e-40be751e6956"
      },
      "execution_count": null,
      "outputs": [
        {
          "output_type": "execute_result",
          "data": {
            "text/plain": [
              "tensor(15.8593)"
            ]
          },
          "metadata": {},
          "execution_count": 59
        }
      ]
    },
    {
      "cell_type": "markdown",
      "source": [
        "Train the model: Lets redefine parameters with same seed.\n"
      ],
      "metadata": {
        "id": "y2R6DfgIIZl1"
      }
    },
    {
      "cell_type": "code",
      "source": [
        "g = torch.Generator().manual_seed(1232132)\n",
        "\n",
        "# Lookup table with embedding size 2.\n",
        "C = torch.randn((27, 2), generator=g)\n",
        "\n",
        "NUM_OF_NEURONS = 100\n",
        "\n",
        "W1 = torch.randn((6, NUM_OF_NEURONS), generator=g)\n",
        "b1 = torch.randn((NUM_OF_NEURONS), generator=g)\n",
        "\n",
        "W2 = torch.randn((NUM_OF_NEURONS, 27), generator=g)\n",
        "b2 = torch.randn((27), generator=g)\n",
        "\n"
      ],
      "metadata": {
        "id": "iGERrf2SKda0"
      },
      "execution_count": 28,
      "outputs": []
    },
    {
      "cell_type": "code",
      "source": [
        "parameters = [C, W1, b1, W2, b2]\n",
        "\n",
        "for p in parameters:\n",
        "  p.requires_grad = True"
      ],
      "metadata": {
        "id": "zttemoJEJeH0"
      },
      "execution_count": 29,
      "outputs": []
    },
    {
      "cell_type": "markdown",
      "source": [
        "Train the model: Forward pass and backward pass on minibatch"
      ],
      "metadata": {
        "id": "ouppKEZsLXY8"
      }
    },
    {
      "cell_type": "code",
      "source": [
        "\n",
        "LEARNING_RATE = 0.1\n",
        "TRAINING_PASSES = 100\n",
        "MINI_BATCH_SIZE = 32\n",
        "\n",
        "for _ in range(TRAINING_PASSES):\n",
        "  # Construct minibatch\n",
        "  mini_batch = torch.randint(0, X.shape[0], (MINI_BATCH_SIZE,))\n",
        "\n",
        "\n",
        "  # forward pass\n",
        "  embedding = C[X[mini_batch]]\n",
        "  h = torch.tanh(embedding.view(-1, 6) @ W1 + b1)\n",
        "  logits = h @ W2 + b2\n",
        "  loss = F.cross_entropy(logits, Y[mini_batch])\n",
        "  print(loss.item())\n",
        "\n",
        "  for p in parameters:\n",
        "    p.grad = None\n",
        "\n",
        "  # backward pass\n",
        "  loss.backward()\n",
        "  for p in parameters:\n",
        "    p.data += (-LEARNING_RATE) * p.grad\n",
        "\n",
        "print(loss.item())\n"
      ],
      "metadata": {
        "colab": {
          "base_uri": "https://localhost:8080/"
        },
        "id": "zAp0PJQfLaOb",
        "outputId": "0d0e1281-6b93-4107-b2f5-dc7662e888d3"
      },
      "execution_count": 17,
      "outputs": [
        {
          "output_type": "stream",
          "name": "stdout",
          "text": [
            "2.8210647106170654\n",
            "2.869075298309326\n",
            "2.3278520107269287\n",
            "2.4833898544311523\n",
            "2.537654399871826\n",
            "2.6448535919189453\n",
            "2.3969340324401855\n",
            "2.3701467514038086\n",
            "2.5030860900878906\n",
            "2.4300777912139893\n",
            "2.8327138423919678\n",
            "2.645392894744873\n",
            "2.286255359649658\n",
            "2.3928725719451904\n",
            "2.942911148071289\n",
            "2.5277979373931885\n",
            "2.589195489883423\n",
            "2.747211217880249\n",
            "2.6386168003082275\n",
            "3.3723833560943604\n",
            "2.6811728477478027\n",
            "3.130000114440918\n",
            "2.5636048316955566\n",
            "2.4600400924682617\n",
            "2.6609067916870117\n",
            "2.3510961532592773\n",
            "2.8747048377990723\n",
            "2.692042589187622\n",
            "2.7457315921783447\n",
            "2.818596839904785\n",
            "2.4956295490264893\n",
            "2.264923095703125\n",
            "2.1903128623962402\n",
            "2.791994333267212\n",
            "2.4047248363494873\n",
            "2.4417331218719482\n",
            "2.7321975231170654\n",
            "2.282588243484497\n",
            "3.0031416416168213\n",
            "2.6987740993499756\n",
            "2.365802049636841\n",
            "2.7428886890411377\n",
            "2.8181397914886475\n",
            "2.4157907962799072\n",
            "2.3822789192199707\n",
            "2.7859292030334473\n",
            "2.7728447914123535\n",
            "2.298225164413452\n",
            "2.9244792461395264\n",
            "2.7443883419036865\n",
            "2.293041467666626\n",
            "2.830132484436035\n",
            "2.484727382659912\n",
            "2.7621192932128906\n",
            "2.403430461883545\n",
            "2.4474923610687256\n",
            "2.7709572315216064\n",
            "2.897027015686035\n",
            "2.6909282207489014\n",
            "2.7013540267944336\n",
            "2.419217824935913\n",
            "2.689323902130127\n",
            "2.7149176597595215\n",
            "2.570305585861206\n",
            "2.753876209259033\n",
            "2.6562764644622803\n",
            "2.4491422176361084\n",
            "2.6426236629486084\n",
            "2.858210563659668\n",
            "2.7778401374816895\n",
            "2.6883959770202637\n",
            "2.4062726497650146\n",
            "2.5804214477539062\n",
            "2.635244369506836\n",
            "2.721160888671875\n",
            "2.914418935775757\n",
            "2.9246938228607178\n",
            "2.7302355766296387\n",
            "2.7209525108337402\n",
            "2.8596715927124023\n",
            "2.6155588626861572\n",
            "2.2090744972229004\n",
            "2.5972378253936768\n",
            "2.2442426681518555\n",
            "2.7679004669189453\n",
            "2.635009765625\n",
            "2.996866464614868\n",
            "2.879366636276245\n",
            "2.83040452003479\n",
            "2.8370347023010254\n",
            "2.674954652786255\n",
            "2.421611785888672\n",
            "2.5617737770080566\n",
            "2.51444411277771\n",
            "2.7061493396759033\n",
            "2.691373109817505\n",
            "2.6310622692108154\n",
            "2.219017505645752\n",
            "3.0265791416168213\n",
            "2.4448626041412354\n",
            "2.4448626041412354\n"
          ]
        }
      ]
    },
    {
      "cell_type": "markdown",
      "source": [
        "Loss on the whole dataset"
      ],
      "metadata": {
        "id": "wmeehZwkRTx5"
      }
    },
    {
      "cell_type": "code",
      "source": [
        "embedding = C[X]\n",
        "h = torch.tanh(embedding.view(-1, 6) @ W1 + b1)\n",
        "logits = h @ W2 + b2\n",
        "loss = F.cross_entropy(logits, Y)\n",
        "loss"
      ],
      "metadata": {
        "colab": {
          "base_uri": "https://localhost:8080/"
        },
        "id": "9dJdkbFZRWWd",
        "outputId": "5fcca810-6e71-4a8f-eb84-d6c5fc302b2f"
      },
      "execution_count": null,
      "outputs": [
        {
          "output_type": "execute_result",
          "data": {
            "text/plain": [
              "tensor(2.5391, grad_fn=<NllLossBackward0>)"
            ]
          },
          "metadata": {},
          "execution_count": 24
        }
      ]
    },
    {
      "cell_type": "markdown",
      "source": [
        "Sample outputs from the neural net.\n"
      ],
      "metadata": {
        "id": "6SEwiN87RzbT"
      }
    },
    {
      "cell_type": "code",
      "source": [
        "g = torch.Generator().manual_seed(2147483647 + 10)\n",
        "\n",
        "for _ in range(20):\n",
        "    \n",
        "    out = []\n",
        "    block = [0] * BLOCK_SIZE # initialize with all ...\n",
        "    while True:\n",
        "      emb = C[torch.tensor([block])] # (1,block_size,d)\n",
        "      h = torch.tanh(emb.view(1, -1) @ W1 + b1)\n",
        "      logits = h @ W2 + b2\n",
        "      probs = F.softmax(logits, dim=1)\n",
        "      ix = torch.multinomial(probs, num_samples=1, generator=g).item()\n",
        "      context = context[1:] + [ix]\n",
        "      out.append(ix)\n",
        "      if ix == 0:\n",
        "        break\n",
        "    \n",
        "    print(''.join(itos[i] for i in out))"
      ],
      "metadata": {
        "colab": {
          "base_uri": "https://localhost:8080/"
        },
        "id": "2QgFtIxlR3At",
        "outputId": "0215d4ea-01b5-49f8-b61a-885c6f0d6f42"
      },
      "execution_count": null,
      "outputs": [
        {
          "output_type": "stream",
          "name": "stdout",
          "text": [
            "mria.\n",
            "kayanhiee.\n",
            "med.\n",
            "ryalo.\n",
            "etursi.\n",
            "jdrlen.\n",
            "adened.\n",
            "elii.\n",
            "eli.\n",
            "jenlekeineananar.\n",
            "katzimhotaa.\n",
            "nosadhergahiries.\n",
            "kinir.\n",
            "jellenntenorou.\n",
            "zenedar.\n",
            "ylene.\n",
            "eha.\n",
            "kae.\n",
            "mustoyan.\n",
            "hal.\n"
          ]
        }
      ]
    },
    {
      "cell_type": "markdown",
      "source": [
        "Figuring out the learning rate"
      ],
      "metadata": {
        "id": "ZmXI4ig7TKqy"
      }
    },
    {
      "cell_type": "code",
      "source": [
        "learning_rate_exponent = torch.linspace(-3, 0, 1000)\n",
        "\n",
        "learning_rates = 10 ** learning_rate_exponent\n",
        "\n",
        "learning_rates"
      ],
      "metadata": {
        "colab": {
          "base_uri": "https://localhost:8080/"
        },
        "id": "CWInndzlTRw0",
        "outputId": "356445ef-033f-4346-e466-6e330310736c"
      },
      "execution_count": 23,
      "outputs": [
        {
          "output_type": "execute_result",
          "data": {
            "text/plain": [
              "tensor([0.0010, 0.0010, 0.0010, 0.0010, 0.0010, 0.0010, 0.0010, 0.0010, 0.0011,\n",
              "        0.0011, 0.0011, 0.0011, 0.0011, 0.0011, 0.0011, 0.0011, 0.0011, 0.0011,\n",
              "        0.0011, 0.0011, 0.0011, 0.0012, 0.0012, 0.0012, 0.0012, 0.0012, 0.0012,\n",
              "        0.0012, 0.0012, 0.0012, 0.0012, 0.0012, 0.0012, 0.0013, 0.0013, 0.0013,\n",
              "        0.0013, 0.0013, 0.0013, 0.0013, 0.0013, 0.0013, 0.0013, 0.0013, 0.0014,\n",
              "        0.0014, 0.0014, 0.0014, 0.0014, 0.0014, 0.0014, 0.0014, 0.0014, 0.0014,\n",
              "        0.0015, 0.0015, 0.0015, 0.0015, 0.0015, 0.0015, 0.0015, 0.0015, 0.0015,\n",
              "        0.0015, 0.0016, 0.0016, 0.0016, 0.0016, 0.0016, 0.0016, 0.0016, 0.0016,\n",
              "        0.0016, 0.0017, 0.0017, 0.0017, 0.0017, 0.0017, 0.0017, 0.0017, 0.0017,\n",
              "        0.0018, 0.0018, 0.0018, 0.0018, 0.0018, 0.0018, 0.0018, 0.0018, 0.0019,\n",
              "        0.0019, 0.0019, 0.0019, 0.0019, 0.0019, 0.0019, 0.0019, 0.0020, 0.0020,\n",
              "        0.0020, 0.0020, 0.0020, 0.0020, 0.0020, 0.0021, 0.0021, 0.0021, 0.0021,\n",
              "        0.0021, 0.0021, 0.0021, 0.0022, 0.0022, 0.0022, 0.0022, 0.0022, 0.0022,\n",
              "        0.0022, 0.0023, 0.0023, 0.0023, 0.0023, 0.0023, 0.0023, 0.0024, 0.0024,\n",
              "        0.0024, 0.0024, 0.0024, 0.0024, 0.0025, 0.0025, 0.0025, 0.0025, 0.0025,\n",
              "        0.0025, 0.0026, 0.0026, 0.0026, 0.0026, 0.0026, 0.0027, 0.0027, 0.0027,\n",
              "        0.0027, 0.0027, 0.0027, 0.0028, 0.0028, 0.0028, 0.0028, 0.0028, 0.0029,\n",
              "        0.0029, 0.0029, 0.0029, 0.0029, 0.0030, 0.0030, 0.0030, 0.0030, 0.0030,\n",
              "        0.0031, 0.0031, 0.0031, 0.0031, 0.0032, 0.0032, 0.0032, 0.0032, 0.0032,\n",
              "        0.0033, 0.0033, 0.0033, 0.0033, 0.0034, 0.0034, 0.0034, 0.0034, 0.0034,\n",
              "        0.0035, 0.0035, 0.0035, 0.0035, 0.0036, 0.0036, 0.0036, 0.0036, 0.0037,\n",
              "        0.0037, 0.0037, 0.0037, 0.0038, 0.0038, 0.0038, 0.0039, 0.0039, 0.0039,\n",
              "        0.0039, 0.0040, 0.0040, 0.0040, 0.0040, 0.0041, 0.0041, 0.0041, 0.0042,\n",
              "        0.0042, 0.0042, 0.0042, 0.0043, 0.0043, 0.0043, 0.0044, 0.0044, 0.0044,\n",
              "        0.0045, 0.0045, 0.0045, 0.0045, 0.0046, 0.0046, 0.0046, 0.0047, 0.0047,\n",
              "        0.0047, 0.0048, 0.0048, 0.0048, 0.0049, 0.0049, 0.0049, 0.0050, 0.0050,\n",
              "        0.0050, 0.0051, 0.0051, 0.0051, 0.0052, 0.0052, 0.0053, 0.0053, 0.0053,\n",
              "        0.0054, 0.0054, 0.0054, 0.0055, 0.0055, 0.0056, 0.0056, 0.0056, 0.0057,\n",
              "        0.0057, 0.0058, 0.0058, 0.0058, 0.0059, 0.0059, 0.0060, 0.0060, 0.0060,\n",
              "        0.0061, 0.0061, 0.0062, 0.0062, 0.0062, 0.0063, 0.0063, 0.0064, 0.0064,\n",
              "        0.0065, 0.0065, 0.0066, 0.0066, 0.0067, 0.0067, 0.0067, 0.0068, 0.0068,\n",
              "        0.0069, 0.0069, 0.0070, 0.0070, 0.0071, 0.0071, 0.0072, 0.0072, 0.0073,\n",
              "        0.0073, 0.0074, 0.0074, 0.0075, 0.0075, 0.0076, 0.0076, 0.0077, 0.0077,\n",
              "        0.0078, 0.0079, 0.0079, 0.0080, 0.0080, 0.0081, 0.0081, 0.0082, 0.0082,\n",
              "        0.0083, 0.0084, 0.0084, 0.0085, 0.0085, 0.0086, 0.0086, 0.0087, 0.0088,\n",
              "        0.0088, 0.0089, 0.0090, 0.0090, 0.0091, 0.0091, 0.0092, 0.0093, 0.0093,\n",
              "        0.0094, 0.0095, 0.0095, 0.0096, 0.0097, 0.0097, 0.0098, 0.0099, 0.0099,\n",
              "        0.0100, 0.0101, 0.0101, 0.0102, 0.0103, 0.0104, 0.0104, 0.0105, 0.0106,\n",
              "        0.0106, 0.0107, 0.0108, 0.0109, 0.0109, 0.0110, 0.0111, 0.0112, 0.0112,\n",
              "        0.0113, 0.0114, 0.0115, 0.0116, 0.0116, 0.0117, 0.0118, 0.0119, 0.0120,\n",
              "        0.0121, 0.0121, 0.0122, 0.0123, 0.0124, 0.0125, 0.0126, 0.0127, 0.0127,\n",
              "        0.0128, 0.0129, 0.0130, 0.0131, 0.0132, 0.0133, 0.0134, 0.0135, 0.0136,\n",
              "        0.0137, 0.0137, 0.0138, 0.0139, 0.0140, 0.0141, 0.0142, 0.0143, 0.0144,\n",
              "        0.0145, 0.0146, 0.0147, 0.0148, 0.0149, 0.0150, 0.0151, 0.0152, 0.0154,\n",
              "        0.0155, 0.0156, 0.0157, 0.0158, 0.0159, 0.0160, 0.0161, 0.0162, 0.0163,\n",
              "        0.0165, 0.0166, 0.0167, 0.0168, 0.0169, 0.0170, 0.0171, 0.0173, 0.0174,\n",
              "        0.0175, 0.0176, 0.0178, 0.0179, 0.0180, 0.0181, 0.0182, 0.0184, 0.0185,\n",
              "        0.0186, 0.0188, 0.0189, 0.0190, 0.0192, 0.0193, 0.0194, 0.0196, 0.0197,\n",
              "        0.0198, 0.0200, 0.0201, 0.0202, 0.0204, 0.0205, 0.0207, 0.0208, 0.0210,\n",
              "        0.0211, 0.0212, 0.0214, 0.0215, 0.0217, 0.0218, 0.0220, 0.0221, 0.0223,\n",
              "        0.0225, 0.0226, 0.0228, 0.0229, 0.0231, 0.0232, 0.0234, 0.0236, 0.0237,\n",
              "        0.0239, 0.0241, 0.0242, 0.0244, 0.0246, 0.0247, 0.0249, 0.0251, 0.0253,\n",
              "        0.0254, 0.0256, 0.0258, 0.0260, 0.0261, 0.0263, 0.0265, 0.0267, 0.0269,\n",
              "        0.0271, 0.0273, 0.0274, 0.0276, 0.0278, 0.0280, 0.0282, 0.0284, 0.0286,\n",
              "        0.0288, 0.0290, 0.0292, 0.0294, 0.0296, 0.0298, 0.0300, 0.0302, 0.0304,\n",
              "        0.0307, 0.0309, 0.0311, 0.0313, 0.0315, 0.0317, 0.0320, 0.0322, 0.0324,\n",
              "        0.0326, 0.0328, 0.0331, 0.0333, 0.0335, 0.0338, 0.0340, 0.0342, 0.0345,\n",
              "        0.0347, 0.0350, 0.0352, 0.0354, 0.0357, 0.0359, 0.0362, 0.0364, 0.0367,\n",
              "        0.0369, 0.0372, 0.0375, 0.0377, 0.0380, 0.0382, 0.0385, 0.0388, 0.0390,\n",
              "        0.0393, 0.0396, 0.0399, 0.0401, 0.0404, 0.0407, 0.0410, 0.0413, 0.0416,\n",
              "        0.0418, 0.0421, 0.0424, 0.0427, 0.0430, 0.0433, 0.0436, 0.0439, 0.0442,\n",
              "        0.0445, 0.0448, 0.0451, 0.0455, 0.0458, 0.0461, 0.0464, 0.0467, 0.0471,\n",
              "        0.0474, 0.0477, 0.0480, 0.0484, 0.0487, 0.0491, 0.0494, 0.0497, 0.0501,\n",
              "        0.0504, 0.0508, 0.0511, 0.0515, 0.0518, 0.0522, 0.0526, 0.0529, 0.0533,\n",
              "        0.0537, 0.0540, 0.0544, 0.0548, 0.0552, 0.0556, 0.0559, 0.0563, 0.0567,\n",
              "        0.0571, 0.0575, 0.0579, 0.0583, 0.0587, 0.0591, 0.0595, 0.0599, 0.0604,\n",
              "        0.0608, 0.0612, 0.0616, 0.0621, 0.0625, 0.0629, 0.0634, 0.0638, 0.0642,\n",
              "        0.0647, 0.0651, 0.0656, 0.0660, 0.0665, 0.0670, 0.0674, 0.0679, 0.0684,\n",
              "        0.0688, 0.0693, 0.0698, 0.0703, 0.0708, 0.0713, 0.0718, 0.0723, 0.0728,\n",
              "        0.0733, 0.0738, 0.0743, 0.0748, 0.0753, 0.0758, 0.0764, 0.0769, 0.0774,\n",
              "        0.0780, 0.0785, 0.0790, 0.0796, 0.0802, 0.0807, 0.0813, 0.0818, 0.0824,\n",
              "        0.0830, 0.0835, 0.0841, 0.0847, 0.0853, 0.0859, 0.0865, 0.0871, 0.0877,\n",
              "        0.0883, 0.0889, 0.0895, 0.0901, 0.0908, 0.0914, 0.0920, 0.0927, 0.0933,\n",
              "        0.0940, 0.0946, 0.0953, 0.0959, 0.0966, 0.0973, 0.0979, 0.0986, 0.0993,\n",
              "        0.1000, 0.1007, 0.1014, 0.1021, 0.1028, 0.1035, 0.1042, 0.1050, 0.1057,\n",
              "        0.1064, 0.1072, 0.1079, 0.1087, 0.1094, 0.1102, 0.1109, 0.1117, 0.1125,\n",
              "        0.1133, 0.1140, 0.1148, 0.1156, 0.1164, 0.1172, 0.1181, 0.1189, 0.1197,\n",
              "        0.1205, 0.1214, 0.1222, 0.1231, 0.1239, 0.1248, 0.1256, 0.1265, 0.1274,\n",
              "        0.1283, 0.1292, 0.1301, 0.1310, 0.1319, 0.1328, 0.1337, 0.1346, 0.1356,\n",
              "        0.1365, 0.1374, 0.1384, 0.1394, 0.1403, 0.1413, 0.1423, 0.1433, 0.1443,\n",
              "        0.1453, 0.1463, 0.1473, 0.1483, 0.1493, 0.1504, 0.1514, 0.1525, 0.1535,\n",
              "        0.1546, 0.1557, 0.1567, 0.1578, 0.1589, 0.1600, 0.1611, 0.1623, 0.1634,\n",
              "        0.1645, 0.1657, 0.1668, 0.1680, 0.1691, 0.1703, 0.1715, 0.1727, 0.1739,\n",
              "        0.1751, 0.1763, 0.1775, 0.1788, 0.1800, 0.1812, 0.1825, 0.1838, 0.1850,\n",
              "        0.1863, 0.1876, 0.1889, 0.1902, 0.1916, 0.1929, 0.1942, 0.1956, 0.1969,\n",
              "        0.1983, 0.1997, 0.2010, 0.2024, 0.2038, 0.2053, 0.2067, 0.2081, 0.2096,\n",
              "        0.2110, 0.2125, 0.2140, 0.2154, 0.2169, 0.2184, 0.2200, 0.2215, 0.2230,\n",
              "        0.2246, 0.2261, 0.2277, 0.2293, 0.2309, 0.2325, 0.2341, 0.2357, 0.2373,\n",
              "        0.2390, 0.2406, 0.2423, 0.2440, 0.2457, 0.2474, 0.2491, 0.2508, 0.2526,\n",
              "        0.2543, 0.2561, 0.2579, 0.2597, 0.2615, 0.2633, 0.2651, 0.2669, 0.2688,\n",
              "        0.2707, 0.2725, 0.2744, 0.2763, 0.2783, 0.2802, 0.2821, 0.2841, 0.2861,\n",
              "        0.2880, 0.2900, 0.2921, 0.2941, 0.2961, 0.2982, 0.3002, 0.3023, 0.3044,\n",
              "        0.3065, 0.3087, 0.3108, 0.3130, 0.3151, 0.3173, 0.3195, 0.3217, 0.3240,\n",
              "        0.3262, 0.3285, 0.3308, 0.3331, 0.3354, 0.3377, 0.3400, 0.3424, 0.3448,\n",
              "        0.3472, 0.3496, 0.3520, 0.3544, 0.3569, 0.3594, 0.3619, 0.3644, 0.3669,\n",
              "        0.3695, 0.3720, 0.3746, 0.3772, 0.3798, 0.3825, 0.3851, 0.3878, 0.3905,\n",
              "        0.3932, 0.3959, 0.3987, 0.4014, 0.4042, 0.4070, 0.4098, 0.4127, 0.4155,\n",
              "        0.4184, 0.4213, 0.4243, 0.4272, 0.4302, 0.4331, 0.4362, 0.4392, 0.4422,\n",
              "        0.4453, 0.4484, 0.4515, 0.4546, 0.4578, 0.4610, 0.4642, 0.4674, 0.4706,\n",
              "        0.4739, 0.4772, 0.4805, 0.4838, 0.4872, 0.4906, 0.4940, 0.4974, 0.5008,\n",
              "        0.5043, 0.5078, 0.5113, 0.5149, 0.5185, 0.5221, 0.5257, 0.5293, 0.5330,\n",
              "        0.5367, 0.5404, 0.5442, 0.5479, 0.5517, 0.5556, 0.5594, 0.5633, 0.5672,\n",
              "        0.5712, 0.5751, 0.5791, 0.5831, 0.5872, 0.5913, 0.5954, 0.5995, 0.6036,\n",
              "        0.6078, 0.6120, 0.6163, 0.6206, 0.6249, 0.6292, 0.6336, 0.6380, 0.6424,\n",
              "        0.6469, 0.6513, 0.6559, 0.6604, 0.6650, 0.6696, 0.6743, 0.6789, 0.6837,\n",
              "        0.6884, 0.6932, 0.6980, 0.7028, 0.7077, 0.7126, 0.7176, 0.7225, 0.7275,\n",
              "        0.7326, 0.7377, 0.7428, 0.7480, 0.7531, 0.7584, 0.7636, 0.7689, 0.7743,\n",
              "        0.7796, 0.7850, 0.7905, 0.7960, 0.8015, 0.8071, 0.8127, 0.8183, 0.8240,\n",
              "        0.8297, 0.8355, 0.8412, 0.8471, 0.8530, 0.8589, 0.8648, 0.8708, 0.8769,\n",
              "        0.8830, 0.8891, 0.8953, 0.9015, 0.9077, 0.9140, 0.9204, 0.9268, 0.9332,\n",
              "        0.9397, 0.9462, 0.9528, 0.9594, 0.9660, 0.9727, 0.9795, 0.9863, 0.9931,\n",
              "        1.0000])"
            ]
          },
          "metadata": {},
          "execution_count": 23
        }
      ]
    },
    {
      "cell_type": "code",
      "source": [
        "MINI_BATCH_SIZE = 32\n",
        "\n",
        "learning_rates_used = []\n",
        "loss_at_learning_rate = []\n",
        "for i in range(1000):\n",
        "  # Construct minibatch\n",
        "  mini_batch = torch.randint(0, X.shape[0], (MINI_BATCH_SIZE,))\n",
        "\n",
        "\n",
        "  # forward pass\n",
        "  embedding = C[X[mini_batch]]\n",
        "  h = torch.tanh(embedding.view(-1, 6) @ W1 + b1)\n",
        "  logits = h @ W2 + b2\n",
        "  loss = F.cross_entropy(logits, Y[mini_batch])\n",
        "\n",
        "  for p in parameters:\n",
        "    p.grad = None\n",
        "\n",
        "  # backward pass\n",
        "  loss.backward()\n",
        "  learning_rate = learning_rates[i]\n",
        "  for p in parameters:\n",
        "    p.data += (-learning_rate) * p.grad\n",
        "\n",
        "  learning_rates_used.append(learning_rate)\n",
        "  loss_at_learning_rate.append(loss.item())\n"
      ],
      "metadata": {
        "id": "0mP2wMh4T6IU"
      },
      "execution_count": 24,
      "outputs": []
    },
    {
      "cell_type": "code",
      "source": [
        "plt.plot(learning_rates_used, loss_at_learning_rate)"
      ],
      "metadata": {
        "colab": {
          "base_uri": "https://localhost:8080/",
          "height": 447
        },
        "id": "yf3GKGOCUuAu",
        "outputId": "908d907b-1dfe-46d3-e41f-528a12c44b81"
      },
      "execution_count": 25,
      "outputs": [
        {
          "output_type": "execute_result",
          "data": {
            "text/plain": [
              "[<matplotlib.lines.Line2D at 0x7fb1b71ec520>]"
            ]
          },
          "metadata": {},
          "execution_count": 25
        },
        {
          "output_type": "display_data",
          "data": {
            "text/plain": [
              "<Figure size 640x480 with 1 Axes>"
            ],
            "image/png": "[encoded data removed]"
          },
          "metadata": {}
        }
      ]
    },
    {
      "cell_type": "markdown",
      "source": [
        "The above plot shows that the learning rate of 0.1 is good since it gives the lowest loss.\n",
        "\n",
        "So, lets train with that rate and plot how it behaves."
      ],
      "metadata": {
        "id": "8AcIM4bYU9Pv"
      }
    },
    {
      "cell_type": "code",
      "source": [
        "MINI_BATCH_SIZE = 32\n",
        "\n",
        "step_index = []\n",
        "loss_at_index = []\n",
        "for i in range(100000):\n",
        "  # Construct minibatch\n",
        "  mini_batch = torch.randint(0, X.shape[0], (MINI_BATCH_SIZE,))\n",
        "\n",
        "\n",
        "  # forward pass\n",
        "  embedding = C[X[mini_batch]]\n",
        "  h = torch.tanh(embedding.view(-1, 6) @ W1 + b1)\n",
        "  logits = h @ W2 + b2\n",
        "  loss = F.cross_entropy(logits, Y[mini_batch])\n",
        "\n",
        "  for p in parameters:\n",
        "    p.grad = None\n",
        "\n",
        "  # backward pass\n",
        "  loss.backward()\n",
        "  for p in parameters:\n",
        "    p.data += (-0.1) * p.grad\n",
        "  step_index.append(i)\n",
        "  loss_at_index.append(loss.item())\n"
      ],
      "metadata": {
        "id": "2UQHhiawVDF7"
      },
      "execution_count": 30,
      "outputs": []
    },
    {
      "cell_type": "code",
      "source": [
        "plt.plot(step_index, loss_at_index)"
      ],
      "metadata": {
        "colab": {
          "base_uri": "https://localhost:8080/",
          "height": 447
        },
        "id": "SVT2qKDxV3Qo",
        "outputId": "d73ba472-280d-4a69-cb12-12ef234fd506"
      },
      "execution_count": 31,
      "outputs": [
        {
          "output_type": "execute_result",
          "data": {
            "text/plain": [
              "[<matplotlib.lines.Line2D at 0x7fb1b71e0430>]"
            ]
          },
          "metadata": {},
          "execution_count": 31
        },
        {
          "output_type": "display_data",
          "data": {
            "text/plain": [
              "<Figure size 640x480 with 1 Axes>"
            ],
            "image/png": "[encoded data removed]"
          },
          "metadata": {}
        }
      ]
    }
  ]
}