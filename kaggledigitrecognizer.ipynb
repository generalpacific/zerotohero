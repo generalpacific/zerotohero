{
  "nbformat": 4,
  "nbformat_minor": 0,
  "metadata": {
    "colab": {
      "provenance": [],
      "authorship_tag": "ABX9TyNnaHRdu4jbj7f3JjfrRwNs"
    },
    "kernelspec": {
      "name": "python3",
      "display_name": "Python 3"
    },
    "language_info": {
      "name": "python"
    }
  },
  "cells": [
    {
      "cell_type": "markdown",
      "source": [
        "# Kaggle Digit Recognizer\n",
        "\n",
        "Code note book for https://www.kaggle.com/competitions/digit-recognizer/overview\n"
      ],
      "metadata": {
        "id": "VPQjWRIzmga9"
      }
    },
    {
      "cell_type": "code",
      "execution_count": null,
      "metadata": {
        "id": "xZ-TzRsun4nS"
      },
      "outputs": [],
      "source": [
        "import tensorflow as tf\n",
        "import matplotlib.pyplot as plt\n",
        "from keras.models import Sequential\n",
        "from keras.layers import Dense\n",
        "from keras.layers import Normalization\n",
        "from keras.layers import Conv2D\n",
        "import numpy as np\n",
        "import pandas as pd\n",
        "import csv"
      ]
    },
    {
      "cell_type": "markdown",
      "source": [
        "Explore data"
      ],
      "metadata": {
        "id": "OETiHn-VohHK"
      }
    },
    {
      "cell_type": "code",
      "source": [
        "digits_train = pd.read_csv(\n",
        "    \"train.csv\")\n",
        "\n",
        "x_train = digits_train.copy()\n",
        "print(x_train.shape)\n",
        "y_train = x_train.pop('label')\n",
        "print(x_train.shape)\n",
        "print(y_train.shape)\n",
        "\n",
        "x_val, y_val = x_train[-2100:], y_train[-2100:]\n",
        "x_train, y_train = x_train[:-2100], y_train[:-2100]\n",
        "\n",
        "x_val = x_val / 255.\n",
        "x_train = x_train / 255.\n",
        "print(x_train.shape)\n",
        "print(x_val.shape)"
      ],
      "metadata": {
        "colab": {
          "base_uri": "https://localhost:8080/"
        },
        "id": "D1qdO7e7oi3P",
        "outputId": "46650c14-eeb9-47bd-b863-17072d63ebb0"
      },
      "execution_count": null,
      "outputs": [
        {
          "output_type": "stream",
          "name": "stdout",
          "text": [
            "(42000, 785)\n",
            "(42000, 784)\n",
            "(42000,)\n",
            "(39900, 784)\n",
            "(2100, 784)\n"
          ]
        }
      ]
    },
    {
      "cell_type": "code",
      "source": [
        "\n",
        "print(x_train.shape)\n",
        "print(y_train.shape)\n",
        "\n"
      ],
      "metadata": {
        "colab": {
          "base_uri": "https://localhost:8080/"
        },
        "id": "chvZ2Hj6qIz3",
        "outputId": "d49bae09-9c4d-45c9-cd79-fc446a63e546"
      },
      "execution_count": null,
      "outputs": [
        {
          "output_type": "stream",
          "name": "stdout",
          "text": [
            "(39900, 784)\n",
            "(39900,)\n"
          ]
        },
        {
          "output_type": "execute_result",
          "data": {
            "text/plain": [
              "0    1\n",
              "1    0\n",
              "2    1\n",
              "3    4\n",
              "4    0\n",
              "Name: label, dtype: int64"
            ]
          },
          "metadata": {},
          "execution_count": 85
        }
      ]
    },
    {
      "cell_type": "markdown",
      "source": [
        "Explore digits in matplot"
      ],
      "metadata": {
        "id": "nwHaujc2qjcS"
      }
    },
    {
      "cell_type": "code",
      "source": [
        "for i in range(5):\n",
        "  print(y_train.iloc[i])\n",
        "  reshape = pd.DataFrame(x_train.iloc[i].values.reshape(28, 28))\n",
        "  plt.imshow(reshape, cmap='gray')\n",
        "  plt.axis('off')\n",
        "plt.show()"
      ],
      "metadata": {
        "colab": {
          "base_uri": "https://localhost:8080/",
          "height": 493
        },
        "id": "6VwuVaG9ql16",
        "outputId": "37becbb0-036d-4f2a-f392-458279ebc2a2"
      },
      "execution_count": null,
      "outputs": [
        {
          "output_type": "stream",
          "name": "stdout",
          "text": [
            "1\n",
            "0\n",
            "1\n",
            "4\n",
            "0\n"
          ]
        },
        {
          "output_type": "display_data",
          "data": {
            "text/plain": [
              "<Figure size 640x480 with 1 Axes>"
            ],
            "image/png": "[encoded data removed]"
          },
          "metadata": {}
        }
      ]
    },
    {
      "cell_type": "markdown",
      "source": [
        "Build NN"
      ],
      "metadata": {
        "id": "RxZXcS9rr7C1"
      }
    },
    {
      "cell_type": "code",
      "source": [
        "\n",
        "model = Sequential([\n",
        "tf.keras.layers.Input(shape=[784]),\n",
        "Dense(1000, activation=\"relu\"),\n",
        "Dense(1000, activation=\"relu\"),\n",
        "Dense(10, activation=\"softmax\")])\n",
        "\n",
        "model.summary()"
      ],
      "metadata": {
        "colab": {
          "base_uri": "https://localhost:8080/"
        },
        "id": "Pf4FY54Sr8NZ",
        "outputId": "c43677a1-136e-4550-bb97-27467e66b64d"
      },
      "execution_count": null,
      "outputs": [
        {
          "output_type": "stream",
          "name": "stdout",
          "text": [
            "Model: \"sequential_2\"\n",
            "_________________________________________________________________\n",
            " Layer (type)                Output Shape              Param #   \n",
            "=================================================================\n",
            " dense_6 (Dense)             (None, 1000)              785000    \n",
            "                                                                 \n",
            " dense_7 (Dense)             (None, 1000)              1001000   \n",
            "                                                                 \n",
            " dense_8 (Dense)             (None, 10)                10010     \n",
            "                                                                 \n",
            "=================================================================\n",
            "Total params: 1,796,010\n",
            "Trainable params: 1,796,010\n",
            "Non-trainable params: 0\n",
            "_________________________________________________________________\n"
          ]
        }
      ]
    },
    {
      "cell_type": "code",
      "source": [
        "model.compile(loss=\"sparse_categorical_crossentropy\", optimizer='adam', metrics=[\"accuracy\"])"
      ],
      "metadata": {
        "id": "GSi2_YKtsNWK"
      },
      "execution_count": null,
      "outputs": []
    },
    {
      "cell_type": "code",
      "source": [
        "history = model.fit(x_train, y_train, epochs=30, validation_data=(x_val, y_val))"
      ],
      "metadata": {
        "colab": {
          "base_uri": "https://localhost:8080/"
        },
        "id": "FpS2FAK2sOdd",
        "outputId": "67084ef3-1277-49e3-db49-67c112f968f8"
      },
      "execution_count": null,
      "outputs": [
        {
          "output_type": "stream",
          "name": "stdout",
          "text": [
            "Epoch 1/30\n",
            "1247/1247 [==============================] - 36s 29ms/step - loss: 0.2044 - accuracy: 0.9365 - val_loss: 0.1507 - val_accuracy: 0.9581\n",
            "Epoch 2/30\n",
            "1247/1247 [==============================] - 33s 27ms/step - loss: 0.0916 - accuracy: 0.9727 - val_loss: 0.1138 - val_accuracy: 0.9662\n",
            "Epoch 3/30\n",
            "1247/1247 [==============================] - 33s 27ms/step - loss: 0.0606 - accuracy: 0.9807 - val_loss: 0.1262 - val_accuracy: 0.9686\n",
            "Epoch 4/30\n",
            "1247/1247 [==============================] - 33s 26ms/step - loss: 0.0477 - accuracy: 0.9851 - val_loss: 0.1250 - val_accuracy: 0.9700\n",
            "Epoch 5/30\n",
            "1247/1247 [==============================] - 33s 27ms/step - loss: 0.0402 - accuracy: 0.9869 - val_loss: 0.1151 - val_accuracy: 0.9729\n",
            "Epoch 6/30\n",
            "1247/1247 [==============================] - 33s 26ms/step - loss: 0.0314 - accuracy: 0.9911 - val_loss: 0.1767 - val_accuracy: 0.9671\n",
            "Epoch 7/30\n",
            "1247/1247 [==============================] - 33s 27ms/step - loss: 0.0309 - accuracy: 0.9912 - val_loss: 0.1730 - val_accuracy: 0.9629\n",
            "Epoch 8/30\n",
            "1247/1247 [==============================] - 33s 26ms/step - loss: 0.0264 - accuracy: 0.9922 - val_loss: 0.1331 - val_accuracy: 0.9724\n",
            "Epoch 9/30\n",
            "1247/1247 [==============================] - 33s 26ms/step - loss: 0.0217 - accuracy: 0.9936 - val_loss: 0.1508 - val_accuracy: 0.9686\n",
            "Epoch 10/30\n",
            "1247/1247 [==============================] - 32s 26ms/step - loss: 0.0245 - accuracy: 0.9928 - val_loss: 0.1468 - val_accuracy: 0.9705\n",
            "Epoch 11/30\n",
            "1247/1247 [==============================] - 34s 27ms/step - loss: 0.0177 - accuracy: 0.9951 - val_loss: 0.1532 - val_accuracy: 0.9757\n",
            "Epoch 12/30\n",
            "1247/1247 [==============================] - 33s 26ms/step - loss: 0.0231 - accuracy: 0.9939 - val_loss: 0.1574 - val_accuracy: 0.9771\n",
            "Epoch 13/30\n",
            "1247/1247 [==============================] - 33s 27ms/step - loss: 0.0156 - accuracy: 0.9954 - val_loss: 0.1691 - val_accuracy: 0.9738\n",
            "Epoch 14/30\n",
            "1247/1247 [==============================] - 35s 28ms/step - loss: 0.0193 - accuracy: 0.9952 - val_loss: 0.1628 - val_accuracy: 0.9714\n",
            "Epoch 15/30\n",
            "1247/1247 [==============================] - 33s 27ms/step - loss: 0.0171 - accuracy: 0.9961 - val_loss: 0.1737 - val_accuracy: 0.9757\n",
            "Epoch 16/30\n",
            "1247/1247 [==============================] - 34s 27ms/step - loss: 0.0164 - accuracy: 0.9956 - val_loss: 0.1749 - val_accuracy: 0.9743\n",
            "Epoch 17/30\n",
            "1247/1247 [==============================] - 33s 26ms/step - loss: 0.0198 - accuracy: 0.9953 - val_loss: 0.2252 - val_accuracy: 0.9714\n",
            "Epoch 18/30\n",
            "1247/1247 [==============================] - 34s 27ms/step - loss: 0.0132 - accuracy: 0.9963 - val_loss: 0.2020 - val_accuracy: 0.9738\n",
            "Epoch 19/30\n",
            "1247/1247 [==============================] - 32s 26ms/step - loss: 0.0133 - accuracy: 0.9969 - val_loss: 0.2893 - val_accuracy: 0.9719\n",
            "Epoch 20/30\n",
            "1247/1247 [==============================] - 33s 27ms/step - loss: 0.0175 - accuracy: 0.9962 - val_loss: 0.2440 - val_accuracy: 0.9719\n",
            "Epoch 21/30\n",
            "1247/1247 [==============================] - 33s 27ms/step - loss: 0.0138 - accuracy: 0.9964 - val_loss: 0.2270 - val_accuracy: 0.9733\n",
            "Epoch 22/30\n",
            "1247/1247 [==============================] - 33s 26ms/step - loss: 0.0132 - accuracy: 0.9969 - val_loss: 0.2104 - val_accuracy: 0.9743\n",
            "Epoch 23/30\n",
            "1247/1247 [==============================] - 33s 27ms/step - loss: 0.0177 - accuracy: 0.9967 - val_loss: 0.2632 - val_accuracy: 0.9700\n",
            "Epoch 24/30\n",
            "1247/1247 [==============================] - 32s 26ms/step - loss: 0.0134 - accuracy: 0.9970 - val_loss: 0.2266 - val_accuracy: 0.9714\n",
            "Epoch 25/30\n",
            "1247/1247 [==============================] - 33s 27ms/step - loss: 0.0138 - accuracy: 0.9969 - val_loss: 0.2102 - val_accuracy: 0.9748\n",
            "Epoch 26/30\n",
            "1247/1247 [==============================] - 33s 26ms/step - loss: 0.0129 - accuracy: 0.9970 - val_loss: 0.2482 - val_accuracy: 0.9767\n",
            "Epoch 27/30\n",
            "1247/1247 [==============================] - 33s 27ms/step - loss: 0.0114 - accuracy: 0.9976 - val_loss: 0.2383 - val_accuracy: 0.9790\n",
            "Epoch 28/30\n",
            "1247/1247 [==============================] - 32s 26ms/step - loss: 0.0168 - accuracy: 0.9970 - val_loss: 0.1979 - val_accuracy: 0.9729\n",
            "Epoch 29/30\n",
            "1247/1247 [==============================] - 33s 27ms/step - loss: 0.0106 - accuracy: 0.9981 - val_loss: 0.2990 - val_accuracy: 0.9771\n",
            "Epoch 30/30\n",
            "1247/1247 [==============================] - 32s 26ms/step - loss: 0.0147 - accuracy: 0.9969 - val_loss: 0.2187 - val_accuracy: 0.9752\n"
          ]
        }
      ]
    },
    {
      "cell_type": "markdown",
      "source": [
        "Predictions for test data"
      ],
      "metadata": {
        "id": "m6XGozU8v2kD"
      }
    },
    {
      "cell_type": "code",
      "source": [
        "x_test = pd.read_csv(\"test.csv\")\n",
        "\n",
        "print(x_test.shape)\n",
        "\n",
        "y_test = model.predict(x_test)\n",
        "\n",
        "y_pred = y_test.argmax(axis=-1)\n",
        "\n"
      ],
      "metadata": {
        "colab": {
          "base_uri": "https://localhost:8080/"
        },
        "id": "yrkTTkLpv4r2",
        "outputId": "e13f299b-8dc4-4a8e-c9e3-2c05def964df"
      },
      "execution_count": null,
      "outputs": [
        {
          "output_type": "stream",
          "name": "stdout",
          "text": [
            "(28000, 784)\n",
            "875/875 [==============================] - 6s 7ms/step\n"
          ]
        }
      ]
    },
    {
      "cell_type": "code",
      "source": [
        "y_pred[:10]\n",
        "y_test[:10]"
      ],
      "metadata": {
        "colab": {
          "base_uri": "https://localhost:8080/"
        },
        "id": "UdqczcnrwRAN",
        "outputId": "8804f01f-6f5d-40cc-e9f5-027007776924"
      },
      "execution_count": null,
      "outputs": [
        {
          "output_type": "execute_result",
          "data": {
            "text/plain": [
              "array([[0.        , 0.        , 0.99999994, 0.        , 0.        ,\n",
              "        0.        , 0.        , 0.        , 0.        , 0.        ],\n",
              "       [0.99999994, 0.        , 0.        , 0.        , 0.        ,\n",
              "        0.        , 0.        , 0.        , 0.        , 0.        ],\n",
              "       [0.        , 0.        , 0.        , 0.        , 0.        ,\n",
              "        0.        , 0.        , 0.        , 0.        , 0.99999994],\n",
              "       [0.        , 0.        , 0.        , 0.        , 0.        ,\n",
              "        0.        , 0.        , 0.        , 0.        , 0.99999994],\n",
              "       [0.        , 0.        , 0.        , 0.99999994, 0.        ,\n",
              "        0.        , 0.        , 0.        , 0.        , 0.        ],\n",
              "       [0.        , 0.        , 0.        , 0.        , 0.        ,\n",
              "        0.        , 0.        , 0.99999994, 0.        , 0.        ],\n",
              "       [0.99999994, 0.        , 0.        , 0.        , 0.        ,\n",
              "        0.        , 0.        , 0.        , 0.        , 0.        ],\n",
              "       [0.        , 0.        , 0.        , 0.99999994, 0.        ,\n",
              "        0.        , 0.        , 0.        , 0.        , 0.        ],\n",
              "       [0.99999994, 0.        , 0.        , 0.        , 0.        ,\n",
              "        0.        , 0.        , 0.        , 0.        , 0.        ],\n",
              "       [0.        , 0.        , 0.        , 0.99999994, 0.        ,\n",
              "        0.        , 0.        , 0.        , 0.        , 0.        ]],\n",
              "      dtype=float32)"
            ]
          },
          "metadata": {},
          "execution_count": 100
        }
      ]
    },
    {
      "cell_type": "markdown",
      "source": [
        "Store to CSV"
      ],
      "metadata": {
        "id": "d6zdOkJ2wxsj"
      }
    },
    {
      "cell_type": "code",
      "source": [
        "with open('predictions.csv', 'w', newline='') as csvfile:\n",
        "    writer = csv.writer(csvfile)\n",
        "    writer.writerow(['ImageId','Label'])\n",
        "    for i in range(y_pred.size):\n",
        "        writer.writerow([i + 1, y_pred[i]])"
      ],
      "metadata": {
        "id": "HQ9DHKy7w0OI"
      },
      "execution_count": null,
      "outputs": []
    }
  ]
}