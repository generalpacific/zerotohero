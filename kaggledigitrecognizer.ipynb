{
  "nbformat": 4,
  "nbformat_minor": 0,
  "metadata": {
    "colab": {
      "provenance": [],
      "authorship_tag": "ABX9TyMgMtEahO/fQR+zkD7MlTAh"
    },
    "kernelspec": {
      "name": "python3",
      "display_name": "Python 3"
    },
    "language_info": {
      "name": "python"
    }
  },
  "cells": [
    {
      "cell_type": "markdown",
      "source": [
        "# Kaggle Digit Recognizer\n",
        "\n",
        "Code note book for https://www.kaggle.com/competitions/digit-recognizer/overview\n"
      ],
      "metadata": {
        "id": "VPQjWRIzmga9"
      }
    },
    {
      "cell_type": "code",
      "execution_count": 21,
      "metadata": {
        "id": "xZ-TzRsun4nS"
      },
      "outputs": [],
      "source": [
        "import tensorflow as tf\n",
        "import matplotlib.pyplot as plt\n",
        "from keras.models import Sequential\n",
        "from keras.layers import Dense\n",
        "from keras.layers import Normalization\n",
        "from keras.layers import Conv2D\n",
        "from keras.layers import MaxPooling2D \n",
        "from keras.layers import Flatten\n",
        "from keras.layers import Dropout \n",
        "import numpy as np\n",
        "import pandas as pd\n",
        "import csv"
      ]
    },
    {
      "cell_type": "markdown",
      "source": [
        "Explore data"
      ],
      "metadata": {
        "id": "OETiHn-VohHK"
      }
    },
    {
      "cell_type": "code",
      "source": [
        "digits_train = pd.read_csv(\n",
        "    \"train.csv\")\n",
        "  \n",
        "digits_train = digits_train.values\n",
        "\n",
        "x_train = digits_train.copy()\n",
        "print(x_train.shape)\n",
        "y_train = x_train[:, -1]\n",
        "print(x_train.shape)\n",
        "print(y_train.shape)\n",
        "\n",
        "x_train = x_train[:, :-1].reshape(-1, 28, 28, 1)\n",
        "input_shape = (28, 28, 1)\n",
        "x_train = x_train.astype('float32')\n",
        "\n",
        "x_train = x_train / 255.\n",
        "print(x_train.shape)"
      ],
      "metadata": {
        "colab": {
          "base_uri": "https://localhost:8080/"
        },
        "id": "D1qdO7e7oi3P",
        "outputId": "839fe8c7-2559-48fa-a3f1-4ca1484c6b59"
      },
      "execution_count": 19,
      "outputs": [
        {
          "output_type": "stream",
          "name": "stdout",
          "text": [
            "(42000, 785)\n",
            "(42000, 785)\n",
            "(42000,)\n",
            "(42000, 28, 28, 1)\n"
          ]
        }
      ]
    },
    {
      "cell_type": "code",
      "source": [
        "\n",
        "print(x_train.shape)\n",
        "print(y_train.shape)\n",
        "\n"
      ],
      "metadata": {
        "colab": {
          "base_uri": "https://localhost:8080/"
        },
        "id": "chvZ2Hj6qIz3",
        "outputId": "a279d0c4-09a7-4afd-ae5a-9c9d6ef0cf4c"
      },
      "execution_count": 20,
      "outputs": [
        {
          "output_type": "stream",
          "name": "stdout",
          "text": [
            "(42000, 28, 28, 1)\n",
            "(42000,)\n"
          ]
        }
      ]
    },
    {
      "cell_type": "markdown",
      "source": [
        "Explore digits in matplot"
      ],
      "metadata": {
        "id": "nwHaujc2qjcS"
      }
    },
    {
      "cell_type": "code",
      "source": [
        "for i in range(5):\n",
        "  print(y_train.iloc[i])\n",
        "  reshape = pd.DataFrame(x_train.iloc[i].values.reshape(28, 28))\n",
        "  plt.imshow(reshape, cmap='gray')\n",
        "  plt.axis('off')\n",
        "plt.show()"
      ],
      "metadata": {
        "colab": {
          "base_uri": "https://localhost:8080/",
          "height": 493
        },
        "id": "6VwuVaG9ql16",
        "outputId": "37becbb0-036d-4f2a-f392-458279ebc2a2"
      },
      "execution_count": null,
      "outputs": [
        {
          "output_type": "stream",
          "name": "stdout",
          "text": [
            "1\n",
            "0\n",
            "1\n",
            "4\n",
            "0\n"
          ]
        },
        {
          "output_type": "display_data",
          "data": {
            "text/plain": [
              "<Figure size 640x480 with 1 Axes>"
            ],
            "image/png": "[encoded data removed]"
          },
          "metadata": {}
        }
      ]
    },
    {
      "cell_type": "markdown",
      "source": [
        "Build NN"
      ],
      "metadata": {
        "id": "RxZXcS9rr7C1"
      }
    },
    {
      "cell_type": "code",
      "source": [
        "\n",
        "model = Sequential([\n",
        "Conv2D(28, kernel_size=(3,3), input_shape=input_shape),\n",
        "MaxPooling2D(pool_size=(2, 2)),\n",
        "Flatten(),\n",
        "Dense(128, activation=tf.nn.relu),\n",
        "Dropout(0.2),\n",
        "Dense(10,activation=tf.nn.softmax)])\n",
        "\n",
        "model.summary()"
      ],
      "metadata": {
        "colab": {
          "base_uri": "https://localhost:8080/"
        },
        "id": "Pf4FY54Sr8NZ",
        "outputId": "fa2464af-99bd-4ebc-8641-bbaae29b4a47"
      },
      "execution_count": 22,
      "outputs": [
        {
          "output_type": "stream",
          "name": "stdout",
          "text": [
            "Model: \"sequential_3\"\n",
            "_________________________________________________________________\n",
            " Layer (type)                Output Shape              Param #   \n",
            "=================================================================\n",
            " conv2d_1 (Conv2D)           (None, 26, 26, 28)        280       \n",
            "                                                                 \n",
            " max_pooling2d (MaxPooling2D  (None, 13, 13, 28)       0         \n",
            " )                                                               \n",
            "                                                                 \n",
            " flatten (Flatten)           (None, 4732)              0         \n",
            "                                                                 \n",
            " dense_9 (Dense)             (None, 128)               605824    \n",
            "                                                                 \n",
            " dropout (Dropout)           (None, 128)               0         \n",
            "                                                                 \n",
            " dense_10 (Dense)            (None, 10)                1290      \n",
            "                                                                 \n",
            "=================================================================\n",
            "Total params: 607,394\n",
            "Trainable params: 607,394\n",
            "Non-trainable params: 0\n",
            "_________________________________________________________________\n"
          ]
        }
      ]
    },
    {
      "cell_type": "code",
      "source": [
        "model.compile(loss=\"sparse_categorical_crossentropy\", optimizer='adam', metrics=[\"accuracy\"])"
      ],
      "metadata": {
        "id": "GSi2_YKtsNWK"
      },
      "execution_count": 23,
      "outputs": []
    },
    {
      "cell_type": "code",
      "source": [
        "history = model.fit(x_train, y_train, epochs=5)"
      ],
      "metadata": {
        "colab": {
          "base_uri": "https://localhost:8080/"
        },
        "id": "FpS2FAK2sOdd",
        "outputId": "b532b7e1-9403-44af-c5c2-7a55bbedad37"
      },
      "execution_count": 25,
      "outputs": [
        {
          "output_type": "stream",
          "name": "stdout",
          "text": [
            "Epoch 1/5\n",
            "1313/1313 [==============================] - 30s 22ms/step - loss: 6.9728e-08 - accuracy: 1.0000\n",
            "Epoch 2/5\n",
            "1313/1313 [==============================] - 29s 22ms/step - loss: 3.6174e-08 - accuracy: 1.0000\n",
            "Epoch 3/5\n",
            "1313/1313 [==============================] - 29s 22ms/step - loss: 2.1934e-08 - accuracy: 1.0000\n",
            "Epoch 4/5\n",
            "1313/1313 [==============================] - 28s 22ms/step - loss: 1.0788e-08 - accuracy: 1.0000\n",
            "Epoch 5/5\n",
            "1313/1313 [==============================] - 29s 22ms/step - loss: 5.7277e-09 - accuracy: 1.0000\n"
          ]
        }
      ]
    },
    {
      "cell_type": "markdown",
      "source": [
        "Predictions for test data"
      ],
      "metadata": {
        "id": "m6XGozU8v2kD"
      }
    },
    {
      "cell_type": "code",
      "source": [
        "x_test = pd.read_csv(\"test.csv\")\n",
        "\n",
        "print(x_test.shape)\n",
        "\n",
        "x_test = x_test.values\n",
        "\n",
        "x_test = x_test.reshape(-1, 28, 28, 1)\n",
        "\n",
        "y_test = model.predict(x_test)\n",
        "\n",
        "y_pred = y_test.argmax(axis=-1)\n",
        "\n"
      ],
      "metadata": {
        "colab": {
          "base_uri": "https://localhost:8080/"
        },
        "id": "yrkTTkLpv4r2",
        "outputId": "b7b4eb8b-94c5-482a-a6dc-e6b672d95633"
      },
      "execution_count": 26,
      "outputs": [
        {
          "output_type": "stream",
          "name": "stdout",
          "text": [
            "(28000, 784)\n",
            "875/875 [==============================] - 6s 7ms/step\n"
          ]
        }
      ]
    },
    {
      "cell_type": "code",
      "source": [
        "y_pred[:10]\n",
        "y_test[:10]"
      ],
      "metadata": {
        "colab": {
          "base_uri": "https://localhost:8080/"
        },
        "id": "UdqczcnrwRAN",
        "outputId": "72233d17-d326-47ef-e75d-dd8b0c1c3495"
      },
      "execution_count": 28,
      "outputs": [
        {
          "output_type": "execute_result",
          "data": {
            "text/plain": [
              "array([[0.99999994, 0.        , 0.        , 0.        , 0.        ,\n",
              "        0.        , 0.        , 0.        , 0.        , 0.        ],\n",
              "       [0.99999994, 0.        , 0.        , 0.        , 0.        ,\n",
              "        0.        , 0.        , 0.        , 0.        , 0.        ],\n",
              "       [0.99999994, 0.        , 0.        , 0.        , 0.        ,\n",
              "        0.        , 0.        , 0.        , 0.        , 0.        ],\n",
              "       [0.99999994, 0.        , 0.        , 0.        , 0.        ,\n",
              "        0.        , 0.        , 0.        , 0.        , 0.        ],\n",
              "       [0.99999994, 0.        , 0.        , 0.        , 0.        ,\n",
              "        0.        , 0.        , 0.        , 0.        , 0.        ],\n",
              "       [0.99999994, 0.        , 0.        , 0.        , 0.        ,\n",
              "        0.        , 0.        , 0.        , 0.        , 0.        ],\n",
              "       [0.99999994, 0.        , 0.        , 0.        , 0.        ,\n",
              "        0.        , 0.        , 0.        , 0.        , 0.        ],\n",
              "       [0.99999994, 0.        , 0.        , 0.        , 0.        ,\n",
              "        0.        , 0.        , 0.        , 0.        , 0.        ],\n",
              "       [0.99999994, 0.        , 0.        , 0.        , 0.        ,\n",
              "        0.        , 0.        , 0.        , 0.        , 0.        ],\n",
              "       [0.99999994, 0.        , 0.        , 0.        , 0.        ,\n",
              "        0.        , 0.        , 0.        , 0.        , 0.        ]],\n",
              "      dtype=float32)"
            ]
          },
          "metadata": {},
          "execution_count": 28
        }
      ]
    },
    {
      "cell_type": "markdown",
      "source": [
        "Store to CSV"
      ],
      "metadata": {
        "id": "d6zdOkJ2wxsj"
      }
    },
    {
      "cell_type": "code",
      "source": [
        "with open('predictions.csv', 'w', newline='') as csvfile:\n",
        "    writer = csv.writer(csvfile)\n",
        "    writer.writerow(['ImageId','Label'])\n",
        "    for i in range(y_pred.size):\n",
        "        writer.writerow([i + 1, y_pred[i]])"
      ],
      "metadata": {
        "id": "HQ9DHKy7w0OI"
      },
      "execution_count": 27,
      "outputs": []
    }
  ]
}