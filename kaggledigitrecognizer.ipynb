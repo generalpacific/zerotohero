{
  "nbformat": 4,
  "nbformat_minor": 0,
  "metadata": {
    "colab": {
      "provenance": [],
      "authorship_tag": "ABX9TyOLb3hLleJY2xpZCAYs4BXB"
    },
    "kernelspec": {
      "name": "python3",
      "display_name": "Python 3"
    },
    "language_info": {
      "name": "python"
    }
  },
  "cells": [
    {
      "cell_type": "code",
      "execution_count": 61,
      "metadata": {
        "id": "xZ-TzRsun4nS"
      },
      "outputs": [],
      "source": [
        "import tensorflow as tf\n",
        "import matplotlib.pyplot as plt\n",
        "from keras.models import Sequential\n",
        "from keras.layers import Dense\n",
        "from keras.layers import Normalization\n",
        "import numpy as np\n",
        "import pandas as pd\n",
        "import csv"
      ]
    },
    {
      "cell_type": "markdown",
      "source": [
        "Explore data"
      ],
      "metadata": {
        "id": "OETiHn-VohHK"
      }
    },
    {
      "cell_type": "code",
      "source": [
        "digits_train = pd.read_csv(\n",
        "    \"train.csv\")\n",
        "\n",
        "x_train = digits_train.copy()\n",
        "print(x_train.shape)\n",
        "y_train = x_train.pop('label')\n",
        "print(x_train.shape)\n",
        "print(y_train.shape)\n",
        "\n",
        "x_val, y_val = x_train[-2100:], y_train[-2100:]\n",
        "x_train, y_train = x_train[:-2100], y_train[:-2100]\n",
        "\n",
        "x_val = x_val / 255.\n",
        "x_train = x_train / 255.\n",
        "print(x_train.shape)\n",
        "print(x_val.shape)"
      ],
      "metadata": {
        "colab": {
          "base_uri": "https://localhost:8080/"
        },
        "id": "D1qdO7e7oi3P",
        "outputId": "25772c8d-216e-4ea3-e990-bfe605027672"
      },
      "execution_count": 95,
      "outputs": [
        {
          "output_type": "stream",
          "name": "stdout",
          "text": [
            "(42000, 785)\n",
            "(42000, 784)\n",
            "(42000,)\n",
            "(39900, 784)\n",
            "(2100, 784)\n"
          ]
        }
      ]
    },
    {
      "cell_type": "code",
      "source": [
        "\n",
        "print(x_train.shape)\n",
        "print(y_train.shape)\n",
        "\n"
      ],
      "metadata": {
        "colab": {
          "base_uri": "https://localhost:8080/"
        },
        "id": "chvZ2Hj6qIz3",
        "outputId": "d49bae09-9c4d-45c9-cd79-fc446a63e546"
      },
      "execution_count": 85,
      "outputs": [
        {
          "output_type": "stream",
          "name": "stdout",
          "text": [
            "(39900, 784)\n",
            "(39900,)\n"
          ]
        },
        {
          "output_type": "execute_result",
          "data": {
            "text/plain": [
              "0    1\n",
              "1    0\n",
              "2    1\n",
              "3    4\n",
              "4    0\n",
              "Name: label, dtype: int64"
            ]
          },
          "metadata": {},
          "execution_count": 85
        }
      ]
    },
    {
      "cell_type": "markdown",
      "source": [
        "Explore digits in matplot"
      ],
      "metadata": {
        "id": "nwHaujc2qjcS"
      }
    },
    {
      "cell_type": "code",
      "source": [
        "for i in range(5):\n",
        "  print(y_train.iloc[i])\n",
        "  reshape = pd.DataFrame(x_train.iloc[i].values.reshape(28, 28))\n",
        "  plt.imshow(reshape, cmap='gray')\n",
        "  plt.axis('off')\n",
        "plt.show()"
      ],
      "metadata": {
        "colab": {
          "base_uri": "https://localhost:8080/",
          "height": 493
        },
        "id": "6VwuVaG9ql16",
        "outputId": "37becbb0-036d-4f2a-f392-458279ebc2a2"
      },
      "execution_count": 79,
      "outputs": [
        {
          "output_type": "stream",
          "name": "stdout",
          "text": [
            "1\n",
            "0\n",
            "1\n",
            "4\n",
            "0\n"
          ]
        },
        {
          "output_type": "display_data",
          "data": {
            "text/plain": [
              "<Figure size 640x480 with 1 Axes>"
            ],
            "image/png": "[encoded data removed]"
          },
          "metadata": {}
        }
      ]
    },
    {
      "cell_type": "markdown",
      "source": [
        "Build NN"
      ],
      "metadata": {
        "id": "RxZXcS9rr7C1"
      }
    },
    {
      "cell_type": "code",
      "source": [
        "\n",
        "model = Sequential([\n",
        "tf.keras.layers.Input(shape=[784]),\n",
        "Dense(1000, activation=\"relu\"),\n",
        "Dense(1000, activation=\"relu\"),\n",
        "Dense(10, activation=\"softmax\")])\n",
        "\n",
        "model.summary()"
      ],
      "metadata": {
        "colab": {
          "base_uri": "https://localhost:8080/"
        },
        "id": "Pf4FY54Sr8NZ",
        "outputId": "e542bdce-0e03-42eb-e17f-851cbdeef088"
      },
      "execution_count": 96,
      "outputs": [
        {
          "output_type": "stream",
          "name": "stdout",
          "text": [
            "Model: \"sequential_13\"\n",
            "_________________________________________________________________\n",
            " Layer (type)                Output Shape              Param #   \n",
            "=================================================================\n",
            " dense_39 (Dense)            (None, 1000)              785000    \n",
            "                                                                 \n",
            " dense_40 (Dense)            (None, 1000)              1001000   \n",
            "                                                                 \n",
            " dense_41 (Dense)            (None, 10)                10010     \n",
            "                                                                 \n",
            "=================================================================\n",
            "Total params: 1,796,010\n",
            "Trainable params: 1,796,010\n",
            "Non-trainable params: 0\n",
            "_________________________________________________________________\n"
          ]
        }
      ]
    },
    {
      "cell_type": "code",
      "source": [
        "model.compile(loss=\"sparse_categorical_crossentropy\", optimizer=tf.keras.optimizers.SGD(learning_rate=0.1), metrics=[\"accuracy\"])"
      ],
      "metadata": {
        "id": "GSi2_YKtsNWK"
      },
      "execution_count": 97,
      "outputs": []
    },
    {
      "cell_type": "code",
      "source": [
        "history = model.fit(x_train, y_train, epochs=30, validation_data=(x_val, y_val))"
      ],
      "metadata": {
        "colab": {
          "base_uri": "https://localhost:8080/"
        },
        "id": "FpS2FAK2sOdd",
        "outputId": "634d727c-ac44-4c3c-ee39-093391495f76"
      },
      "execution_count": 98,
      "outputs": [
        {
          "output_type": "stream",
          "name": "stdout",
          "text": [
            "Epoch 1/30\n",
            "1247/1247 [==============================] - 22s 17ms/step - loss: 0.2833 - accuracy: 0.9153 - val_loss: 0.1728 - val_accuracy: 0.9495\n",
            "Epoch 2/30\n",
            "1247/1247 [==============================] - 22s 17ms/step - loss: 0.1118 - accuracy: 0.9660 - val_loss: 0.1367 - val_accuracy: 0.9600\n",
            "Epoch 3/30\n",
            "1247/1247 [==============================] - 22s 18ms/step - loss: 0.0718 - accuracy: 0.9785 - val_loss: 0.0978 - val_accuracy: 0.9690\n",
            "Epoch 4/30\n",
            "1247/1247 [==============================] - 24s 20ms/step - loss: 0.0493 - accuracy: 0.9851 - val_loss: 0.1069 - val_accuracy: 0.9686\n",
            "Epoch 5/30\n",
            "1247/1247 [==============================] - 22s 17ms/step - loss: 0.0353 - accuracy: 0.9897 - val_loss: 0.0799 - val_accuracy: 0.9752\n",
            "Epoch 6/30\n",
            "1247/1247 [==============================] - 23s 18ms/step - loss: 0.0239 - accuracy: 0.9937 - val_loss: 0.0907 - val_accuracy: 0.9743\n",
            "Epoch 7/30\n",
            "1247/1247 [==============================] - 21s 16ms/step - loss: 0.0168 - accuracy: 0.9958 - val_loss: 0.0957 - val_accuracy: 0.9743\n",
            "Epoch 8/30\n",
            "1247/1247 [==============================] - 22s 17ms/step - loss: 0.0110 - accuracy: 0.9977 - val_loss: 0.0901 - val_accuracy: 0.9719\n",
            "Epoch 9/30\n",
            "1247/1247 [==============================] - 21s 17ms/step - loss: 0.0069 - accuracy: 0.9990 - val_loss: 0.0955 - val_accuracy: 0.9748\n",
            "Epoch 10/30\n",
            "1247/1247 [==============================] - 20s 16ms/step - loss: 0.0039 - accuracy: 0.9997 - val_loss: 0.0906 - val_accuracy: 0.9752\n",
            "Epoch 11/30\n",
            "1247/1247 [==============================] - 22s 17ms/step - loss: 0.0027 - accuracy: 0.9999 - val_loss: 0.0902 - val_accuracy: 0.9757\n",
            "Epoch 12/30\n",
            "1247/1247 [==============================] - 21s 17ms/step - loss: 0.0018 - accuracy: 1.0000 - val_loss: 0.0870 - val_accuracy: 0.9776\n",
            "Epoch 13/30\n",
            "1247/1247 [==============================] - 20s 16ms/step - loss: 0.0015 - accuracy: 1.0000 - val_loss: 0.0926 - val_accuracy: 0.9757\n",
            "Epoch 14/30\n",
            "1247/1247 [==============================] - 21s 17ms/step - loss: 0.0013 - accuracy: 1.0000 - val_loss: 0.0917 - val_accuracy: 0.9776\n",
            "Epoch 15/30\n",
            "1247/1247 [==============================] - 20s 16ms/step - loss: 0.0011 - accuracy: 1.0000 - val_loss: 0.0953 - val_accuracy: 0.9767\n",
            "Epoch 16/30\n",
            "1247/1247 [==============================] - 23s 18ms/step - loss: 9.4391e-04 - accuracy: 1.0000 - val_loss: 0.0934 - val_accuracy: 0.9762\n",
            "Epoch 17/30\n",
            "1247/1247 [==============================] - 21s 17ms/step - loss: 8.3771e-04 - accuracy: 1.0000 - val_loss: 0.0964 - val_accuracy: 0.9771\n",
            "Epoch 18/30\n",
            "1247/1247 [==============================] - 20s 16ms/step - loss: 7.6516e-04 - accuracy: 1.0000 - val_loss: 0.0963 - val_accuracy: 0.9767\n",
            "Epoch 19/30\n",
            "1247/1247 [==============================] - 21s 17ms/step - loss: 7.0097e-04 - accuracy: 1.0000 - val_loss: 0.0964 - val_accuracy: 0.9767\n",
            "Epoch 20/30\n",
            "1247/1247 [==============================] - 21s 17ms/step - loss: 6.4105e-04 - accuracy: 1.0000 - val_loss: 0.0990 - val_accuracy: 0.9762\n",
            "Epoch 21/30\n",
            "1247/1247 [==============================] - 20s 16ms/step - loss: 5.9494e-04 - accuracy: 1.0000 - val_loss: 0.0982 - val_accuracy: 0.9767\n",
            "Epoch 22/30\n",
            "1247/1247 [==============================] - 21s 17ms/step - loss: 5.5084e-04 - accuracy: 1.0000 - val_loss: 0.0995 - val_accuracy: 0.9767\n",
            "Epoch 23/30\n",
            "1247/1247 [==============================] - 20s 16ms/step - loss: 5.1537e-04 - accuracy: 1.0000 - val_loss: 0.1009 - val_accuracy: 0.9762\n",
            "Epoch 24/30\n",
            "1247/1247 [==============================] - 21s 17ms/step - loss: 4.8353e-04 - accuracy: 1.0000 - val_loss: 0.1003 - val_accuracy: 0.9762\n",
            "Epoch 25/30\n",
            "1247/1247 [==============================] - 21s 17ms/step - loss: 4.5424e-04 - accuracy: 1.0000 - val_loss: 0.1006 - val_accuracy: 0.9767\n",
            "Epoch 26/30\n",
            "1247/1247 [==============================] - 21s 17ms/step - loss: 4.3094e-04 - accuracy: 1.0000 - val_loss: 0.1017 - val_accuracy: 0.9767\n",
            "Epoch 27/30\n",
            "1247/1247 [==============================] - 21s 17ms/step - loss: 4.0645e-04 - accuracy: 1.0000 - val_loss: 0.1017 - val_accuracy: 0.9771\n",
            "Epoch 28/30\n",
            "1247/1247 [==============================] - 21s 17ms/step - loss: 3.8760e-04 - accuracy: 1.0000 - val_loss: 0.1025 - val_accuracy: 0.9767\n",
            "Epoch 29/30\n",
            "1247/1247 [==============================] - 20s 16ms/step - loss: 3.6744e-04 - accuracy: 1.0000 - val_loss: 0.1037 - val_accuracy: 0.9767\n",
            "Epoch 30/30\n",
            "1247/1247 [==============================] - 21s 17ms/step - loss: 3.5007e-04 - accuracy: 1.0000 - val_loss: 0.1031 - val_accuracy: 0.9767\n"
          ]
        }
      ]
    },
    {
      "cell_type": "markdown",
      "source": [
        "Predictions for test data"
      ],
      "metadata": {
        "id": "m6XGozU8v2kD"
      }
    },
    {
      "cell_type": "code",
      "source": [
        "x_test = pd.read_csv(\"test.csv\")\n",
        "\n",
        "print(x_test.shape)\n",
        "\n",
        "y_test = model.predict(x_test)\n",
        "\n",
        "y_pred = y_test.argmax(axis=-1)\n",
        "\n"
      ],
      "metadata": {
        "colab": {
          "base_uri": "https://localhost:8080/"
        },
        "id": "yrkTTkLpv4r2",
        "outputId": "f5af81bd-6950-4ee4-a111-c88852a06f9a"
      },
      "execution_count": 99,
      "outputs": [
        {
          "output_type": "stream",
          "name": "stdout",
          "text": [
            "(28000, 784)\n",
            "875/875 [==============================] - 5s 6ms/step\n"
          ]
        }
      ]
    },
    {
      "cell_type": "code",
      "source": [
        "y_pred[:10]\n",
        "y_test[:10]"
      ],
      "metadata": {
        "colab": {
          "base_uri": "https://localhost:8080/"
        },
        "id": "UdqczcnrwRAN",
        "outputId": "8804f01f-6f5d-40cc-e9f5-027007776924"
      },
      "execution_count": 100,
      "outputs": [
        {
          "output_type": "execute_result",
          "data": {
            "text/plain": [
              "array([[0.        , 0.        , 0.99999994, 0.        , 0.        ,\n",
              "        0.        , 0.        , 0.        , 0.        , 0.        ],\n",
              "       [0.99999994, 0.        , 0.        , 0.        , 0.        ,\n",
              "        0.        , 0.        , 0.        , 0.        , 0.        ],\n",
              "       [0.        , 0.        , 0.        , 0.        , 0.        ,\n",
              "        0.        , 0.        , 0.        , 0.        , 0.99999994],\n",
              "       [0.        , 0.        , 0.        , 0.        , 0.        ,\n",
              "        0.        , 0.        , 0.        , 0.        , 0.99999994],\n",
              "       [0.        , 0.        , 0.        , 0.99999994, 0.        ,\n",
              "        0.        , 0.        , 0.        , 0.        , 0.        ],\n",
              "       [0.        , 0.        , 0.        , 0.        , 0.        ,\n",
              "        0.        , 0.        , 0.99999994, 0.        , 0.        ],\n",
              "       [0.99999994, 0.        , 0.        , 0.        , 0.        ,\n",
              "        0.        , 0.        , 0.        , 0.        , 0.        ],\n",
              "       [0.        , 0.        , 0.        , 0.99999994, 0.        ,\n",
              "        0.        , 0.        , 0.        , 0.        , 0.        ],\n",
              "       [0.99999994, 0.        , 0.        , 0.        , 0.        ,\n",
              "        0.        , 0.        , 0.        , 0.        , 0.        ],\n",
              "       [0.        , 0.        , 0.        , 0.99999994, 0.        ,\n",
              "        0.        , 0.        , 0.        , 0.        , 0.        ]],\n",
              "      dtype=float32)"
            ]
          },
          "metadata": {},
          "execution_count": 100
        }
      ]
    },
    {
      "cell_type": "markdown",
      "source": [
        "Store to CSV"
      ],
      "metadata": {
        "id": "d6zdOkJ2wxsj"
      }
    },
    {
      "cell_type": "code",
      "source": [
        "with open('predictions.csv', 'w', newline='') as csvfile:\n",
        "    writer = csv.writer(csvfile)\n",
        "    writer.writerow(['ImageId','Label'])\n",
        "    for i in range(y_pred.size):\n",
        "        writer.writerow([i + 1, y_pred[i]])"
      ],
      "metadata": {
        "id": "HQ9DHKy7w0OI"
      },
      "execution_count": 101,
      "outputs": []
    }
  ]
}