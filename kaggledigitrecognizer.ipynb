{
  "nbformat": 4,
  "nbformat_minor": 0,
  "metadata": {
    "colab": {
      "provenance": [],
      "authorship_tag": "ABX9TyMXc9fKbwn0uFoS+0YvoHAY"
    },
    "kernelspec": {
      "name": "python3",
      "display_name": "Python 3"
    },
    "language_info": {
      "name": "python"
    }
  },
  "cells": [
    {
      "cell_type": "code",
      "execution_count": 61,
      "metadata": {
        "id": "xZ-TzRsun4nS"
      },
      "outputs": [],
      "source": [
        "import tensorflow as tf\n",
        "import matplotlib.pyplot as plt\n",
        "from keras.models import Sequential\n",
        "from keras.layers import Dense\n",
        "from keras.layers import Normalization\n",
        "import numpy as np\n",
        "import pandas as pd\n",
        "import csv"
      ]
    },
    {
      "cell_type": "markdown",
      "source": [
        "Explore data"
      ],
      "metadata": {
        "id": "OETiHn-VohHK"
      }
    },
    {
      "cell_type": "code",
      "source": [
        "digits_train = pd.read_csv(\n",
        "    \"train.csv\")\n",
        "\n",
        "x_train = digits_train.copy()\n",
        "y_train = x_train.pop('label')\n",
        "\n",
        "x_val, y_val = x_train[-2100:], y_train[-2100:]\n",
        "x_train, y_train = x_train[:-2100], y_train[:-2100]\n"
      ],
      "metadata": {
        "id": "D1qdO7e7oi3P"
      },
      "execution_count": 57,
      "outputs": []
    },
    {
      "cell_type": "code",
      "source": [
        "\n",
        "print(x_train.shape)\n",
        "print(y_train.shape)\n"
      ],
      "metadata": {
        "colab": {
          "base_uri": "https://localhost:8080/"
        },
        "id": "chvZ2Hj6qIz3",
        "outputId": "9f512c26-33ea-423b-cd41-0c334a1dfc93"
      },
      "execution_count": 54,
      "outputs": [
        {
          "output_type": "stream",
          "name": "stdout",
          "text": [
            "(39900, 784)\n",
            "(39900,)\n"
          ]
        }
      ]
    },
    {
      "cell_type": "markdown",
      "source": [
        "Explore digits in matplot"
      ],
      "metadata": {
        "id": "nwHaujc2qjcS"
      }
    },
    {
      "cell_type": "code",
      "source": [
        "for i in range(5):\n",
        "  print(y_train.iloc[i])\n",
        "  reshape = pd.DataFrame(x_train.iloc[i].values.reshape(28, 28))\n",
        "  plt.imshow(reshape, cmap='gray')"
      ],
      "metadata": {
        "colab": {
          "base_uri": "https://localhost:8080/",
          "height": 517
        },
        "id": "6VwuVaG9ql16",
        "outputId": "dc7be508-8ea5-49d6-a101-0b570ae12b02"
      },
      "execution_count": 34,
      "outputs": [
        {
          "output_type": "stream",
          "name": "stdout",
          "text": [
            "1\n",
            "0\n",
            "1\n",
            "4\n",
            "0\n"
          ]
        },
        {
          "output_type": "display_data",
          "data": {
            "text/plain": [
              "<Figure size 640x480 with 1 Axes>"
            ],
            "image/png": "[encoded data removed]"
          },
          "metadata": {}
        }
      ]
    },
    {
      "cell_type": "markdown",
      "source": [
        "Build NN"
      ],
      "metadata": {
        "id": "RxZXcS9rr7C1"
      }
    },
    {
      "cell_type": "code",
      "source": [
        "\n",
        "model = Sequential([\n",
        "tf.keras.layers.Input(shape=[784]),\n",
        "Normalization(),\n",
        "Dense(300, activation=\"relu\"),\n",
        "Dense(100, activation=\"relu\"),\n",
        "Dense(10, activation=\"softmax\")])\n",
        "\n",
        "model.summary()"
      ],
      "metadata": {
        "colab": {
          "base_uri": "https://localhost:8080/"
        },
        "id": "Pf4FY54Sr8NZ",
        "outputId": "6f616e6f-85fe-42a2-e007-4ef394c75c90"
      },
      "execution_count": 58,
      "outputs": [
        {
          "output_type": "stream",
          "name": "stdout",
          "text": [
            "Model: \"sequential_7\"\n",
            "_________________________________________________________________\n",
            " Layer (type)                Output Shape              Param #   \n",
            "=================================================================\n",
            " normalization (Normalizatio  (None, 784)              1569      \n",
            " n)                                                              \n",
            "                                                                 \n",
            " dense_21 (Dense)            (None, 300)               235500    \n",
            "                                                                 \n",
            " dense_22 (Dense)            (None, 100)               30100     \n",
            "                                                                 \n",
            " dense_23 (Dense)            (None, 10)                1010      \n",
            "                                                                 \n",
            "=================================================================\n",
            "Total params: 268,179\n",
            "Trainable params: 266,610\n",
            "Non-trainable params: 1,569\n",
            "_________________________________________________________________\n"
          ]
        }
      ]
    },
    {
      "cell_type": "code",
      "source": [
        "model.compile(loss=\"sparse_categorical_crossentropy\", optimizer=tf.keras.optimizers.SGD(learning_rate=0.1), metrics=[\"accuracy\"])"
      ],
      "metadata": {
        "id": "GSi2_YKtsNWK"
      },
      "execution_count": 59,
      "outputs": []
    },
    {
      "cell_type": "code",
      "source": [
        "history = model.fit(x_train, y_train, epochs=30, validation_data=(x_val, y_val))"
      ],
      "metadata": {
        "colab": {
          "base_uri": "https://localhost:8080/"
        },
        "id": "FpS2FAK2sOdd",
        "outputId": "108f0a71-7857-4d58-b8ed-a6fc8df2e07c"
      },
      "execution_count": 60,
      "outputs": [
        {
          "output_type": "stream",
          "name": "stdout",
          "text": [
            "Epoch 1/30\n",
            "1247/1247 [==============================] - 6s 5ms/step - loss: 2920691269632.0000 - accuracy: 0.1075 - val_loss: 2.3014 - val_accuracy: 0.1143\n",
            "Epoch 2/30\n",
            "1247/1247 [==============================] - 6s 5ms/step - loss: 2.3019 - accuracy: 0.1087 - val_loss: 2.3008 - val_accuracy: 0.1143\n",
            "Epoch 3/30\n",
            "1247/1247 [==============================] - 6s 4ms/step - loss: 2.3021 - accuracy: 0.1088 - val_loss: 2.3021 - val_accuracy: 0.1143\n",
            "Epoch 4/30\n",
            "1247/1247 [==============================] - 6s 5ms/step - loss: 2.3022 - accuracy: 0.1101 - val_loss: 2.2999 - val_accuracy: 0.1143\n",
            "Epoch 5/30\n",
            "1247/1247 [==============================] - 6s 5ms/step - loss: 2.3020 - accuracy: 0.1089 - val_loss: 2.2996 - val_accuracy: 0.1143\n",
            "Epoch 6/30\n",
            "1247/1247 [==============================] - 5s 4ms/step - loss: 2.3019 - accuracy: 0.1110 - val_loss: 2.3021 - val_accuracy: 0.1143\n",
            "Epoch 7/30\n",
            "1247/1247 [==============================] - 7s 6ms/step - loss: 2.3020 - accuracy: 0.1094 - val_loss: 2.3006 - val_accuracy: 0.1143\n",
            "Epoch 8/30\n",
            "1247/1247 [==============================] - 5s 4ms/step - loss: 2.3021 - accuracy: 0.1092 - val_loss: 2.3019 - val_accuracy: 0.1143\n",
            "Epoch 9/30\n",
            "1247/1247 [==============================] - 7s 5ms/step - loss: 2.3020 - accuracy: 0.1098 - val_loss: 2.3005 - val_accuracy: 0.1143\n",
            "Epoch 10/30\n",
            "1247/1247 [==============================] - 5s 4ms/step - loss: 2.3021 - accuracy: 0.1099 - val_loss: 2.3011 - val_accuracy: 0.1143\n",
            "Epoch 11/30\n",
            "1247/1247 [==============================] - 7s 5ms/step - loss: 2.3020 - accuracy: 0.1093 - val_loss: 2.2999 - val_accuracy: 0.1143\n",
            "Epoch 12/30\n",
            "1247/1247 [==============================] - 6s 4ms/step - loss: 2.3019 - accuracy: 0.1096 - val_loss: 2.3005 - val_accuracy: 0.1033\n",
            "Epoch 13/30\n",
            "1247/1247 [==============================] - 8s 7ms/step - loss: 2.3020 - accuracy: 0.1099 - val_loss: 2.3019 - val_accuracy: 0.0981\n",
            "Epoch 14/30\n",
            "1247/1247 [==============================] - 6s 4ms/step - loss: 2.3018 - accuracy: 0.1090 - val_loss: 2.3019 - val_accuracy: 0.1143\n",
            "Epoch 15/30\n",
            "1247/1247 [==============================] - 7s 5ms/step - loss: 2.3019 - accuracy: 0.1082 - val_loss: 2.3015 - val_accuracy: 0.1143\n",
            "Epoch 16/30\n",
            "1247/1247 [==============================] - 5s 4ms/step - loss: 2.3020 - accuracy: 0.1091 - val_loss: 2.3009 - val_accuracy: 0.1143\n",
            "Epoch 17/30\n",
            "1247/1247 [==============================] - 7s 5ms/step - loss: 2.3020 - accuracy: 0.1085 - val_loss: 2.3026 - val_accuracy: 0.1143\n",
            "Epoch 18/30\n",
            "1247/1247 [==============================] - 5s 4ms/step - loss: 2.3020 - accuracy: 0.1108 - val_loss: 2.3025 - val_accuracy: 0.1143\n",
            "Epoch 19/30\n",
            "1247/1247 [==============================] - 6s 5ms/step - loss: 2.3020 - accuracy: 0.1088 - val_loss: 2.3006 - val_accuracy: 0.1143\n",
            "Epoch 20/30\n",
            "1247/1247 [==============================] - 6s 5ms/step - loss: 2.3020 - accuracy: 0.1086 - val_loss: 2.3020 - val_accuracy: 0.1143\n",
            "Epoch 21/30\n",
            "1247/1247 [==============================] - 6s 4ms/step - loss: 2.3020 - accuracy: 0.1096 - val_loss: 2.3010 - val_accuracy: 0.1143\n",
            "Epoch 22/30\n",
            "1247/1247 [==============================] - 7s 5ms/step - loss: 2.3020 - accuracy: 0.1102 - val_loss: 2.3002 - val_accuracy: 0.1143\n",
            "Epoch 23/30\n",
            "1247/1247 [==============================] - 10s 8ms/step - loss: 2.3019 - accuracy: 0.1079 - val_loss: 2.3031 - val_accuracy: 0.1143\n",
            "Epoch 24/30\n",
            "1247/1247 [==============================] - 8s 6ms/step - loss: 2.3020 - accuracy: 0.1099 - val_loss: 2.3014 - val_accuracy: 0.1033\n",
            "Epoch 25/30\n",
            "1247/1247 [==============================] - 7s 5ms/step - loss: 2.3020 - accuracy: 0.1092 - val_loss: 2.3006 - val_accuracy: 0.1143\n",
            "Epoch 26/30\n",
            "1247/1247 [==============================] - 7s 5ms/step - loss: 2.3018 - accuracy: 0.1103 - val_loss: 2.3011 - val_accuracy: 0.0981\n",
            "Epoch 27/30\n",
            "1247/1247 [==============================] - 6s 5ms/step - loss: 2.3021 - accuracy: 0.1103 - val_loss: 2.3021 - val_accuracy: 0.1033\n",
            "Epoch 28/30\n",
            "1247/1247 [==============================] - 5s 4ms/step - loss: 2.3020 - accuracy: 0.1073 - val_loss: 2.3014 - val_accuracy: 0.1143\n",
            "Epoch 29/30\n",
            "1247/1247 [==============================] - 6s 5ms/step - loss: 2.3021 - accuracy: 0.1095 - val_loss: 2.3008 - val_accuracy: 0.1143\n",
            "Epoch 30/30\n",
            "1247/1247 [==============================] - 5s 4ms/step - loss: 2.3021 - accuracy: 0.1101 - val_loss: 2.3016 - val_accuracy: 0.0981\n"
          ]
        }
      ]
    },
    {
      "cell_type": "markdown",
      "source": [
        "Predictions for test data"
      ],
      "metadata": {
        "id": "m6XGozU8v2kD"
      }
    },
    {
      "cell_type": "code",
      "source": [
        "x_test = pd.read_csv(\"test.csv\")\n",
        "\n",
        "print(x_test.shape)\n",
        "\n",
        "y_test = model.predict(x_test)\n",
        "\n",
        "y_pred = y_test.argmax(axis=-1)\n",
        "\n"
      ],
      "metadata": {
        "colab": {
          "base_uri": "https://localhost:8080/"
        },
        "id": "yrkTTkLpv4r2",
        "outputId": "b46e4a69-991e-480f-fa05-1ed7d8f97dd5"
      },
      "execution_count": 68,
      "outputs": [
        {
          "output_type": "stream",
          "name": "stdout",
          "text": [
            "(28000, 784)\n",
            "875/875 [==============================] - 2s 2ms/step\n"
          ]
        }
      ]
    },
    {
      "cell_type": "code",
      "source": [
        "y_pred[:10]"
      ],
      "metadata": {
        "colab": {
          "base_uri": "https://localhost:8080/"
        },
        "id": "UdqczcnrwRAN",
        "outputId": "ab0073d8-ca74-4b78-be1e-378ff025497f"
      },
      "execution_count": 66,
      "outputs": [
        {
          "output_type": "execute_result",
          "data": {
            "text/plain": [
              "array([3, 3, 3, 3, 3, 3, 3, 3, 3, 3])"
            ]
          },
          "metadata": {},
          "execution_count": 66
        }
      ]
    },
    {
      "cell_type": "markdown",
      "source": [
        "Store to CSV"
      ],
      "metadata": {
        "id": "d6zdOkJ2wxsj"
      }
    },
    {
      "cell_type": "code",
      "source": [
        "with open('predictions.csv', 'w', newline='') as csvfile:\n",
        "    writer = csv.writer(csvfile)\n",
        "    writer.writerow(['ImageId','Label'])\n",
        "    for i in range(y_pred.size):\n",
        "        writer.writerow([i + 1, y_pred[i]])"
      ],
      "metadata": {
        "id": "HQ9DHKy7w0OI"
      },
      "execution_count": 72,
      "outputs": []
    }
  ]
}