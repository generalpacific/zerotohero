{
  "nbformat": 4,
  "nbformat_minor": 0,
  "metadata": {
    "colab": {
      "provenance": [],
      "authorship_tag": "ABX9TyPRgeV3qCsaxqS+wnGbQ1d5"
    },
    "kernelspec": {
      "name": "python3",
      "display_name": "Python 3"
    },
    "language_info": {
      "name": "python"
    }
  },
  "cells": [
    {
      "cell_type": "markdown",
      "source": [
        "# Kaggle Digit Recognizer\n",
        "\n",
        "Code note book for https://www.kaggle.com/competitions/digit-recognizer/overview\n"
      ],
      "metadata": {
        "id": "VPQjWRIzmga9"
      }
    },
    {
      "cell_type": "code",
      "execution_count": 21,
      "metadata": {
        "id": "xZ-TzRsun4nS"
      },
      "outputs": [],
      "source": [
        "import tensorflow as tf\n",
        "import matplotlib.pyplot as plt\n",
        "from keras.models import Sequential\n",
        "from keras.layers import Dense\n",
        "from keras.layers import Normalization\n",
        "from keras.layers import Conv2D\n",
        "from keras.layers import MaxPooling2D \n",
        "from keras.layers import Flatten\n",
        "from keras.layers import Dropout \n",
        "import numpy as np\n",
        "import pandas as pd\n",
        "import csv"
      ]
    },
    {
      "cell_type": "markdown",
      "source": [
        "Explore data"
      ],
      "metadata": {
        "id": "OETiHn-VohHK"
      }
    },
    {
      "cell_type": "code",
      "source": [
        "digits_train = pd.read_csv(\n",
        "    \"train.csv\")\n",
        "  \n",
        "digits_train = digits_train.values\n",
        "\n",
        "x_train = digits_train.copy()\n",
        "print(x_train.shape)\n",
        "y_train = x_train[:, 0]\n",
        "print(x_train.shape)\n",
        "print(y_train.shape)\n",
        "\n",
        "x_train = x_train[:, :-1].reshape(-1, 28, 28, 1)\n",
        "input_shape = (28, 28, 1)\n",
        "x_train = x_train.astype('float32')\n",
        "\n",
        "x_train = x_train / 255.\n",
        "print(x_train.shape)"
      ],
      "metadata": {
        "colab": {
          "base_uri": "https://localhost:8080/"
        },
        "id": "D1qdO7e7oi3P",
        "outputId": "810a69f2-1385-4b48-9480-2ff6b391ab3c"
      },
      "execution_count": 31,
      "outputs": [
        {
          "output_type": "stream",
          "name": "stdout",
          "text": [
            "(42000, 785)\n",
            "(42000, 785)\n",
            "(42000,)\n",
            "(42000, 28, 28, 1)\n"
          ]
        }
      ]
    },
    {
      "cell_type": "code",
      "source": [
        "\n",
        "print(x_train.shape)\n",
        "print(y_train.shape)\n",
        "\n"
      ],
      "metadata": {
        "colab": {
          "base_uri": "https://localhost:8080/"
        },
        "id": "chvZ2Hj6qIz3",
        "outputId": "a279d0c4-09a7-4afd-ae5a-9c9d6ef0cf4c"
      },
      "execution_count": 20,
      "outputs": [
        {
          "output_type": "stream",
          "name": "stdout",
          "text": [
            "(42000, 28, 28, 1)\n",
            "(42000,)\n"
          ]
        }
      ]
    },
    {
      "cell_type": "markdown",
      "source": [
        "Explore digits in matplot"
      ],
      "metadata": {
        "id": "nwHaujc2qjcS"
      }
    },
    {
      "cell_type": "code",
      "source": [
        "# for i in range(5):\n",
        "i = 1000\n",
        "print(y_train[i])\n",
        "reshape = pd.DataFrame(x_train[i].reshape(28, 28))\n",
        "plt.imshow(reshape, cmap='gray')\n",
        "plt.axis('off')\n",
        "plt.show()"
      ],
      "metadata": {
        "colab": {
          "base_uri": "https://localhost:8080/",
          "height": 423
        },
        "id": "6VwuVaG9ql16",
        "outputId": "5e565cc6-ee6f-475e-96b9-525c79e15eb9"
      },
      "execution_count": 32,
      "outputs": [
        {
          "output_type": "stream",
          "name": "stdout",
          "text": [
            "1\n"
          ]
        },
        {
          "output_type": "display_data",
          "data": {
            "text/plain": [
              "<Figure size 640x480 with 1 Axes>"
            ],
            "image/png": "[encoded data removed]"
          },
          "metadata": {}
        }
      ]
    },
    {
      "cell_type": "markdown",
      "source": [
        "Build NN"
      ],
      "metadata": {
        "id": "RxZXcS9rr7C1"
      }
    },
    {
      "cell_type": "code",
      "source": [
        "\n",
        "model = Sequential([\n",
        "Conv2D(28, kernel_size=(3,3), input_shape=input_shape),\n",
        "MaxPooling2D(pool_size=(2, 2)),\n",
        "Flatten(),\n",
        "Dense(128, activation=tf.nn.relu),\n",
        "Dropout(0.2),\n",
        "Dense(10,activation=tf.nn.softmax)])\n",
        "\n",
        "model.summary()"
      ],
      "metadata": {
        "colab": {
          "base_uri": "https://localhost:8080/"
        },
        "id": "Pf4FY54Sr8NZ",
        "outputId": "47d105b3-b4a4-4116-fdcb-6ec4a1a6c35a"
      },
      "execution_count": 33,
      "outputs": [
        {
          "output_type": "stream",
          "name": "stdout",
          "text": [
            "Model: \"sequential_4\"\n",
            "_________________________________________________________________\n",
            " Layer (type)                Output Shape              Param #   \n",
            "=================================================================\n",
            " conv2d_2 (Conv2D)           (None, 26, 26, 28)        280       \n",
            "                                                                 \n",
            " max_pooling2d_1 (MaxPooling  (None, 13, 13, 28)       0         \n",
            " 2D)                                                             \n",
            "                                                                 \n",
            " flatten_1 (Flatten)         (None, 4732)              0         \n",
            "                                                                 \n",
            " dense_11 (Dense)            (None, 128)               605824    \n",
            "                                                                 \n",
            " dropout_1 (Dropout)         (None, 128)               0         \n",
            "                                                                 \n",
            " dense_12 (Dense)            (None, 10)                1290      \n",
            "                                                                 \n",
            "=================================================================\n",
            "Total params: 607,394\n",
            "Trainable params: 607,394\n",
            "Non-trainable params: 0\n",
            "_________________________________________________________________\n"
          ]
        }
      ]
    },
    {
      "cell_type": "code",
      "source": [
        "model.compile(loss=\"sparse_categorical_crossentropy\", optimizer='adam', metrics=[\"accuracy\"])"
      ],
      "metadata": {
        "id": "GSi2_YKtsNWK"
      },
      "execution_count": 34,
      "outputs": []
    },
    {
      "cell_type": "code",
      "source": [
        "history = model.fit(x_train, y_train, epochs=10)"
      ],
      "metadata": {
        "colab": {
          "base_uri": "https://localhost:8080/"
        },
        "id": "FpS2FAK2sOdd",
        "outputId": "fd8bd18e-6b12-496a-f51e-b816b9a3134f"
      },
      "execution_count": 36,
      "outputs": [
        {
          "output_type": "stream",
          "name": "stdout",
          "text": [
            "Epoch 1/10\n",
            "1313/1313 [==============================] - 31s 23ms/step - loss: 0.0311 - accuracy: 0.9897\n",
            "Epoch 2/10\n",
            "1313/1313 [==============================] - 29s 22ms/step - loss: 0.0247 - accuracy: 0.9918\n",
            "Epoch 3/10\n",
            "1313/1313 [==============================] - 29s 22ms/step - loss: 0.0234 - accuracy: 0.9916\n",
            "Epoch 4/10\n",
            "1313/1313 [==============================] - 30s 23ms/step - loss: 0.0230 - accuracy: 0.9920\n",
            "Epoch 5/10\n",
            "1313/1313 [==============================] - 29s 22ms/step - loss: 0.0167 - accuracy: 0.9943\n",
            "Epoch 6/10\n",
            "1313/1313 [==============================] - 29s 22ms/step - loss: 0.0163 - accuracy: 0.9947\n",
            "Epoch 7/10\n",
            "1313/1313 [==============================] - 29s 22ms/step - loss: 0.0150 - accuracy: 0.9947\n",
            "Epoch 8/10\n",
            "1313/1313 [==============================] - 29s 22ms/step - loss: 0.0149 - accuracy: 0.9949\n",
            "Epoch 9/10\n",
            "1313/1313 [==============================] - 30s 23ms/step - loss: 0.0120 - accuracy: 0.9961\n",
            "Epoch 10/10\n",
            "1313/1313 [==============================] - 32s 24ms/step - loss: 0.0149 - accuracy: 0.9949\n"
          ]
        }
      ]
    },
    {
      "cell_type": "markdown",
      "source": [
        "Predictions for test data"
      ],
      "metadata": {
        "id": "m6XGozU8v2kD"
      }
    },
    {
      "cell_type": "code",
      "source": [
        "x_test = pd.read_csv(\"test.csv\")\n",
        "\n",
        "print(x_test.shape)\n",
        "\n",
        "x_test = x_test.values\n",
        "\n",
        "x_test = x_test.reshape(-1, 28, 28, 1)\n",
        "\n",
        "y_test = model.predict(x_test)\n",
        "\n",
        "y_pred = y_test.argmax(axis=-1)\n",
        "\n"
      ],
      "metadata": {
        "colab": {
          "base_uri": "https://localhost:8080/"
        },
        "id": "yrkTTkLpv4r2",
        "outputId": "7cdc3011-0c26-4892-b5a7-f877c490da22"
      },
      "execution_count": 37,
      "outputs": [
        {
          "output_type": "stream",
          "name": "stdout",
          "text": [
            "(28000, 784)\n",
            "875/875 [==============================] - 6s 6ms/step\n"
          ]
        }
      ]
    },
    {
      "cell_type": "code",
      "source": [
        "y_pred[:10]\n",
        "y_test[:10]"
      ],
      "metadata": {
        "colab": {
          "base_uri": "https://localhost:8080/"
        },
        "id": "UdqczcnrwRAN",
        "outputId": "e8caef10-a838-41e0-bca0-ae4454a9f6e2"
      },
      "execution_count": 38,
      "outputs": [
        {
          "output_type": "execute_result",
          "data": {
            "text/plain": [
              "array([[0.        , 0.        , 0.99999994, 0.        , 0.        ,\n",
              "        0.        , 0.        , 0.        , 0.        , 0.        ],\n",
              "       [0.99999994, 0.        , 0.        , 0.        , 0.        ,\n",
              "        0.        , 0.        , 0.        , 0.        , 0.        ],\n",
              "       [0.        , 0.        , 0.        , 0.        , 0.        ,\n",
              "        0.        , 0.        , 0.        , 0.        , 0.99999994],\n",
              "       [0.        , 0.        , 0.        , 0.        , 0.        ,\n",
              "        0.        , 0.        , 0.        , 0.        , 0.99999994],\n",
              "       [0.        , 0.        , 0.        , 0.99999994, 0.        ,\n",
              "        0.        , 0.        , 0.        , 0.        , 0.        ],\n",
              "       [0.        , 0.        , 0.        , 0.        , 0.        ,\n",
              "        0.        , 0.        , 0.99999994, 0.        , 0.        ],\n",
              "       [0.99999994, 0.        , 0.        , 0.        , 0.        ,\n",
              "        0.        , 0.        , 0.        , 0.        , 0.        ],\n",
              "       [0.        , 0.        , 0.        , 0.99999994, 0.        ,\n",
              "        0.        , 0.        , 0.        , 0.        , 0.        ],\n",
              "       [0.99999994, 0.        , 0.        , 0.        , 0.        ,\n",
              "        0.        , 0.        , 0.        , 0.        , 0.        ],\n",
              "       [0.        , 0.        , 0.        , 0.99999994, 0.        ,\n",
              "        0.        , 0.        , 0.        , 0.        , 0.        ]],\n",
              "      dtype=float32)"
            ]
          },
          "metadata": {},
          "execution_count": 38
        }
      ]
    },
    {
      "cell_type": "markdown",
      "source": [
        "Store to CSV"
      ],
      "metadata": {
        "id": "d6zdOkJ2wxsj"
      }
    },
    {
      "cell_type": "code",
      "source": [
        "with open('predictions.csv', 'w', newline='') as csvfile:\n",
        "    writer = csv.writer(csvfile)\n",
        "    writer.writerow(['ImageId','Label'])\n",
        "    for i in range(y_pred.size):\n",
        "        writer.writerow([i + 1, y_pred[i]])"
      ],
      "metadata": {
        "id": "HQ9DHKy7w0OI"
      },
      "execution_count": 39,
      "outputs": []
    }
  ]
}