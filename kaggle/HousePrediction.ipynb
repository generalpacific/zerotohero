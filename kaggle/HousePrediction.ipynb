{
  "nbformat": 4,
  "nbformat_minor": 0,
  "metadata": {
    "colab": {
      "provenance": [],
      "authorship_tag": "ABX9TyOKKvOonAAys/DIEEFD436T"
    },
    "kernelspec": {
      "name": "python3",
      "display_name": "Python 3"
    },
    "language_info": {
      "name": "python"
    }
  },
  "cells": [
    {
      "cell_type": "markdown",
      "source": [
        "### Add Imports"
      ],
      "metadata": {
        "id": "Fb-MSCDkOYQ-"
      }
    },
    {
      "cell_type": "code",
      "source": [
        "import numpy as np\n",
        "import copy\n",
        "import os\n",
        "import matplotlib.pyplot as plt\n",
        "import sklearn\n",
        "import sklearn.datasets\n",
        "import sklearn.linear_model\n",
        "import pandas as pd\n",
        "from sklearn.preprocessing import MinMaxScaler\n",
        "from sklearn.preprocessing import StandardScaler\n",
        "\n",
        "import tensorflow as tf\n",
        "from tensorflow.keras.models import Sequential\n",
        "from tensorflow.keras.layers import Dense\n",
        "\n",
        "\n",
        "%matplotlib inline\n",
        "\n",
        "%load_ext autoreload\n",
        "%autoreload 2"
      ],
      "metadata": {
        "id": "iHLhJwHZOZtG",
        "colab": {
          "base_uri": "https://localhost:8080/"
        },
        "outputId": "1ff371bb-bdf8-4534-fd64-021e4e700d72"
      },
      "execution_count": 21,
      "outputs": [
        {
          "output_type": "stream",
          "name": "stdout",
          "text": [
            "The autoreload extension is already loaded. To reload it, use:\n",
            "  %reload_ext autoreload\n"
          ]
        }
      ]
    },
    {
      "cell_type": "markdown",
      "source": [
        "### Read dataset and print the shapes"
      ],
      "metadata": {
        "id": "x9ae3KsfOemE"
      }
    },
    {
      "cell_type": "code",
      "source": [
        "df = pd.read_csv('train.csv')\n",
        "\n",
        "feature_names = df.columns\n",
        "X = df.iloc[:, :-1].values\n",
        "Y = df.iloc[:, -1].values"
      ],
      "metadata": {
        "id": "pfU-HUKTRabe"
      },
      "execution_count": 22,
      "outputs": []
    },
    {
      "cell_type": "code",
      "source": [
        "#print(\"Feature Names: \")\n",
        "#print(feature_names)\n",
        "#print(\"Features Matrix (X):\")\n",
        "#print(X[:2])\n",
        "#print(\"\\nTarget Vector (Y):\")\n",
        "#print(Y[:2])"
      ],
      "metadata": {
        "id": "uwfPMEg2OxOk"
      },
      "execution_count": null,
      "outputs": []
    },
    {
      "cell_type": "markdown",
      "source": [
        "### See features"
      ],
      "metadata": {
        "id": "2JtuGb15OmvX"
      }
    },
    {
      "cell_type": "markdown",
      "source": [
        "##### See Unique values per column"
      ],
      "metadata": {
        "id": "A9fJyyGMS3rS"
      }
    },
    {
      "cell_type": "code",
      "source": [
        "def create_ranges(series, num_bins=20):\n",
        "    min_val, max_val = series.min(), series.max()\n",
        "    range_step = (max_val - min_val) / num_bins\n",
        "    ranges = [f\"{min_val + range_step * i:.2f} - {min_val + range_step * (i+1):.2f}\" for i in range(num_bins)]\n",
        "    return ranges\n",
        "\n",
        "def print_ranges(df):\n",
        "  for column in df.columns:\n",
        "      unique_values = df[column].unique()\n",
        "\n",
        "      if unique_values.size > 20 and np.issubdtype(df[column].dtype, np.number):\n",
        "            print(f\"Column '{column}' has more than 20 unique numeric values. Creating ranges:\")\n",
        "            print(create_ranges(df[column]))\n",
        "      else:\n",
        "        print(f\"Unique values in '{column}':\")\n",
        "        print(unique_values)\n",
        "      print()\n",
        "\n",
        "#print_ranges(df)"
      ],
      "metadata": {
        "id": "LJsRjbfQOpLx"
      },
      "execution_count": 23,
      "outputs": []
    },
    {
      "cell_type": "markdown",
      "source": [
        "##### Check for Nans"
      ],
      "metadata": {
        "id": "OQymkpXSbZaG"
      }
    },
    {
      "cell_type": "code",
      "source": [
        "def replace_nans(df):\n",
        "  df_numeric = df.select_dtypes(include=[np.number])\n",
        "  df[df_numeric.columns] = df_numeric.fillna(0)\n",
        "  return df\n",
        "\n",
        "df = replace_nans(df)"
      ],
      "metadata": {
        "id": "zovtjadPboCP"
      },
      "execution_count": 24,
      "outputs": []
    },
    {
      "cell_type": "markdown",
      "source": [
        "### Feature Engineering"
      ],
      "metadata": {
        "id": "16eNG8YcOp1B"
      }
    },
    {
      "cell_type": "code",
      "source": [
        "def preprocessDataset(df):\n",
        "  numerical_data = df.select_dtypes(include=['int64', 'float64'])\n",
        "  categorical_data = df.select_dtypes(include=['object'])\n",
        "\n",
        "  # One hot encoding for categories\n",
        "  categorical_data_encoded = pd.get_dummies(categorical_data)\n",
        "\n",
        "  # Apply Min-Max Scaling to numerical data\n",
        "  scaler = StandardScaler()\n",
        "  numerical_data_scaled = scaler.fit_transform(numerical_data)\n",
        "  numerical_data_scaled_df = pd.DataFrame(numerical_data_scaled, columns=numerical_data.columns)\n",
        "\n",
        "  preprocessed_df = pd.concat([numerical_data_scaled_df, categorical_data_encoded], axis=1)\n",
        "  preprocessed_df.drop('Id', axis=1, inplace=True)\n",
        "  return preprocessed_df\n",
        "\n",
        "preprocessed_df = preprocessDataset(df)\n",
        "#print(preprocessed_df)"
      ],
      "metadata": {
        "id": "QiNJmrnROtFd"
      },
      "execution_count": 26,
      "outputs": []
    },
    {
      "cell_type": "code",
      "source": [
        "preprocessed_X = preprocessed_df.iloc[:, :-1].values\n",
        "Y = preprocessed_df.iloc[:, -1].values"
      ],
      "metadata": {
        "id": "IzigsJNq7fek"
      },
      "execution_count": 27,
      "outputs": []
    },
    {
      "cell_type": "code",
      "source": [
        "print(preprocessed_X.shape)"
      ],
      "metadata": {
        "colab": {
          "base_uri": "https://localhost:8080/"
        },
        "id": "aabSEXKg6kfq",
        "outputId": "3f4d0a8e-128d-4bf9-a63c-0d37d82d2b79"
      },
      "execution_count": null,
      "outputs": [
        {
          "output_type": "stream",
          "name": "stdout",
          "text": [
            "(1460, 288)\n"
          ]
        }
      ]
    },
    {
      "cell_type": "markdown",
      "source": [
        "#### Train"
      ],
      "metadata": {
        "id": "xRjhQu2DZryX"
      }
    },
    {
      "cell_type": "code",
      "source": [
        "input_shape = (preprocessed_X.shape[1],)\n",
        "model = Sequential([\n",
        "    Dense(2024, input_shape=input_shape),\n",
        "    Dense(1024),\n",
        "    Dense(512),\n",
        "    Dense(256),\n",
        "    Dense(1)\n",
        "])\n",
        "\n",
        "model.compile(optimizer='adam',\n",
        "              loss='mean_squared_error',\n",
        "              metrics=[tf.keras.metrics.RootMeanSquaredError(name='rmse')])"
      ],
      "metadata": {
        "id": "ljFX0zGyZwRl"
      },
      "execution_count": 28,
      "outputs": []
    },
    {
      "cell_type": "code",
      "source": [
        "model.fit(preprocessed_X, Y, epochs=100, batch_size=4)\n"
      ],
      "metadata": {
        "id": "-MMEj1QQaqV1",
        "colab": {
          "base_uri": "https://localhost:8080/"
        },
        "outputId": "096927f9-c941-4482-f194-8e670d45876c"
      },
      "execution_count": 29,
      "outputs": [
        {
          "output_type": "stream",
          "name": "stdout",
          "text": [
            "Epoch 1/100\n",
            "365/365 [==============================] - 23s 60ms/step - loss: 0.9699 - rmse: 0.9848\n",
            "Epoch 2/100\n",
            "365/365 [==============================] - 22s 60ms/step - loss: 0.2807 - rmse: 0.5298\n",
            "Epoch 3/100\n",
            "365/365 [==============================] - 22s 60ms/step - loss: 0.2381 - rmse: 0.4880\n",
            "Epoch 4/100\n",
            "365/365 [==============================] - 22s 59ms/step - loss: 0.2024 - rmse: 0.4498\n",
            "Epoch 5/100\n",
            "365/365 [==============================] - 22s 60ms/step - loss: 0.1021 - rmse: 0.3195\n",
            "Epoch 6/100\n",
            "365/365 [==============================] - 22s 60ms/step - loss: 0.0237 - rmse: 0.1538\n",
            "Epoch 7/100\n",
            "365/365 [==============================] - 22s 60ms/step - loss: 0.0317 - rmse: 0.1781\n",
            "Epoch 8/100\n",
            "365/365 [==============================] - 23s 63ms/step - loss: 0.0196 - rmse: 0.1400\n",
            "Epoch 9/100\n",
            "365/365 [==============================] - 22s 61ms/step - loss: 0.0050 - rmse: 0.0704\n",
            "Epoch 10/100\n",
            "365/365 [==============================] - 22s 61ms/step - loss: 0.0027 - rmse: 0.0521\n",
            "Epoch 11/100\n",
            "365/365 [==============================] - 22s 61ms/step - loss: 0.0028 - rmse: 0.0525\n",
            "Epoch 12/100\n",
            "365/365 [==============================] - 22s 61ms/step - loss: 0.0098 - rmse: 0.0990\n",
            "Epoch 13/100\n",
            "365/365 [==============================] - 22s 60ms/step - loss: 0.0034 - rmse: 0.0582\n",
            "Epoch 14/100\n",
            "365/365 [==============================] - 21s 59ms/step - loss: 0.0050 - rmse: 0.0707\n",
            "Epoch 15/100\n",
            "365/365 [==============================] - 21s 57ms/step - loss: 0.0210 - rmse: 0.1448\n",
            "Epoch 16/100\n",
            "365/365 [==============================] - 22s 60ms/step - loss: 0.0307 - rmse: 0.1752\n",
            "Epoch 17/100\n",
            "365/365 [==============================] - 22s 60ms/step - loss: 0.0438 - rmse: 0.2093\n",
            "Epoch 18/100\n",
            "365/365 [==============================] - 22s 61ms/step - loss: 0.0170 - rmse: 0.1303\n",
            "Epoch 19/100\n",
            "365/365 [==============================] - 21s 58ms/step - loss: 0.0192 - rmse: 0.1385\n",
            "Epoch 20/100\n",
            "365/365 [==============================] - 22s 62ms/step - loss: 82.0631 - rmse: 9.0589\n",
            "Epoch 21/100\n",
            "365/365 [==============================] - 23s 63ms/step - loss: 0.1048 - rmse: 0.3237\n",
            "Epoch 22/100\n",
            "365/365 [==============================] - 22s 60ms/step - loss: 0.0394 - rmse: 0.1986\n",
            "Epoch 23/100\n",
            "365/365 [==============================] - 23s 62ms/step - loss: 0.0466 - rmse: 0.2158\n",
            "Epoch 24/100\n",
            "365/365 [==============================] - 23s 64ms/step - loss: 0.0356 - rmse: 0.1887\n",
            "Epoch 25/100\n",
            "365/365 [==============================] - 23s 62ms/step - loss: 0.0575 - rmse: 0.2398\n",
            "Epoch 26/100\n",
            "365/365 [==============================] - 22s 61ms/step - loss: 0.0432 - rmse: 0.2077\n",
            "Epoch 27/100\n",
            "365/365 [==============================] - 23s 62ms/step - loss: 0.2325 - rmse: 0.4822\n",
            "Epoch 28/100\n",
            "365/365 [==============================] - 23s 64ms/step - loss: 0.0283 - rmse: 0.1681\n",
            "Epoch 29/100\n",
            "365/365 [==============================] - 22s 60ms/step - loss: 0.0198 - rmse: 0.1408\n",
            "Epoch 30/100\n",
            "365/365 [==============================] - 22s 61ms/step - loss: 0.0383 - rmse: 0.1957\n",
            "Epoch 31/100\n",
            "365/365 [==============================] - 23s 62ms/step - loss: 0.0487 - rmse: 0.2207\n",
            "Epoch 32/100\n",
            "365/365 [==============================] - 22s 60ms/step - loss: 0.0300 - rmse: 0.1732\n",
            "Epoch 33/100\n",
            "365/365 [==============================] - 22s 61ms/step - loss: 0.1995 - rmse: 0.4466\n",
            "Epoch 34/100\n",
            "365/365 [==============================] - 23s 63ms/step - loss: 0.0110 - rmse: 0.1050\n",
            "Epoch 35/100\n",
            "365/365 [==============================] - 23s 63ms/step - loss: 0.0072 - rmse: 0.0849\n",
            "Epoch 36/100\n",
            "365/365 [==============================] - 22s 60ms/step - loss: 0.0045 - rmse: 0.0674\n",
            "Epoch 37/100\n",
            "365/365 [==============================] - 23s 63ms/step - loss: 0.0046 - rmse: 0.0675\n",
            "Epoch 38/100\n",
            "365/365 [==============================] - 23s 62ms/step - loss: 0.0050 - rmse: 0.0704\n",
            "Epoch 39/100\n",
            "365/365 [==============================] - 22s 59ms/step - loss: 0.0116 - rmse: 0.1075\n",
            "Epoch 40/100\n",
            "365/365 [==============================] - 22s 62ms/step - loss: 0.0138 - rmse: 0.1174\n",
            "Epoch 41/100\n",
            "365/365 [==============================] - 22s 62ms/step - loss: 0.0094 - rmse: 0.0969\n",
            "Epoch 42/100\n",
            "365/365 [==============================] - 22s 61ms/step - loss: 0.0081 - rmse: 0.0897\n",
            "Epoch 43/100\n",
            "365/365 [==============================] - 23s 62ms/step - loss: 0.0136 - rmse: 0.1168\n",
            "Epoch 44/100\n",
            "365/365 [==============================] - 23s 62ms/step - loss: 0.0110 - rmse: 0.1050\n",
            "Epoch 45/100\n",
            "365/365 [==============================] - 22s 61ms/step - loss: 0.0108 - rmse: 0.1038\n",
            "Epoch 46/100\n",
            "365/365 [==============================] - 22s 59ms/step - loss: 0.0085 - rmse: 0.0924\n",
            "Epoch 47/100\n",
            "365/365 [==============================] - 22s 61ms/step - loss: 0.0066 - rmse: 0.0813\n",
            "Epoch 48/100\n",
            "365/365 [==============================] - 22s 62ms/step - loss: 0.0042 - rmse: 0.0645\n",
            "Epoch 49/100\n",
            "365/365 [==============================] - 22s 60ms/step - loss: 304.6458 - rmse: 17.4541\n",
            "Epoch 50/100\n",
            "365/365 [==============================] - 22s 61ms/step - loss: 0.0756 - rmse: 0.2750\n",
            "Epoch 51/100\n",
            "365/365 [==============================] - 23s 63ms/step - loss: 0.0542 - rmse: 0.2327\n",
            "Epoch 52/100\n",
            "365/365 [==============================] - 22s 59ms/step - loss: 0.0508 - rmse: 0.2254\n",
            "Epoch 53/100\n",
            "365/365 [==============================] - 22s 60ms/step - loss: 0.0411 - rmse: 0.2028\n",
            "Epoch 54/100\n",
            "365/365 [==============================] - 21s 58ms/step - loss: 0.0362 - rmse: 0.1904\n",
            "Epoch 55/100\n",
            "365/365 [==============================] - 22s 60ms/step - loss: 0.0336 - rmse: 0.1832\n",
            "Epoch 56/100\n",
            "365/365 [==============================] - 23s 64ms/step - loss: 0.0261 - rmse: 0.1617\n",
            "Epoch 57/100\n",
            "365/365 [==============================] - 24s 65ms/step - loss: 0.0231 - rmse: 0.1521\n",
            "Epoch 58/100\n",
            "365/365 [==============================] - 23s 64ms/step - loss: 0.0201 - rmse: 0.1417\n",
            "Epoch 59/100\n",
            "365/365 [==============================] - 23s 64ms/step - loss: 0.0210 - rmse: 0.1449\n",
            "Epoch 60/100\n",
            "365/365 [==============================] - 23s 63ms/step - loss: 0.0161 - rmse: 0.1270\n",
            "Epoch 61/100\n",
            "365/365 [==============================] - 23s 64ms/step - loss: 0.0190 - rmse: 0.1378\n",
            "Epoch 62/100\n",
            "365/365 [==============================] - 23s 63ms/step - loss: 0.0744 - rmse: 0.2727\n",
            "Epoch 63/100\n",
            "365/365 [==============================] - 23s 64ms/step - loss: 0.0125 - rmse: 0.1117\n",
            "Epoch 64/100\n",
            "365/365 [==============================] - 22s 61ms/step - loss: 0.0141 - rmse: 0.1187\n",
            "Epoch 65/100\n",
            "365/365 [==============================] - 24s 65ms/step - loss: 0.0197 - rmse: 0.1402\n",
            "Epoch 66/100\n",
            "365/365 [==============================] - 23s 64ms/step - loss: 0.0161 - rmse: 0.1269\n",
            "Epoch 67/100\n",
            "365/365 [==============================] - 23s 64ms/step - loss: 0.0375 - rmse: 0.1935\n",
            "Epoch 68/100\n",
            "365/365 [==============================] - 23s 63ms/step - loss: 0.0175 - rmse: 0.1321\n",
            "Epoch 69/100\n",
            "365/365 [==============================] - 23s 64ms/step - loss: 0.0129 - rmse: 0.1136\n",
            "Epoch 70/100\n",
            "365/365 [==============================] - 23s 64ms/step - loss: 0.0161 - rmse: 0.1270\n",
            "Epoch 71/100\n",
            "365/365 [==============================] - 23s 64ms/step - loss: 0.0082 - rmse: 0.0906\n",
            "Epoch 72/100\n",
            "365/365 [==============================] - 24s 65ms/step - loss: 0.0114 - rmse: 0.1070\n",
            "Epoch 73/100\n",
            "365/365 [==============================] - 22s 60ms/step - loss: 0.0062 - rmse: 0.0785\n",
            "Epoch 74/100\n",
            "365/365 [==============================] - 23s 63ms/step - loss: 0.0062 - rmse: 0.0789\n",
            "Epoch 75/100\n",
            "365/365 [==============================] - 23s 62ms/step - loss: 0.0248 - rmse: 0.1576\n",
            "Epoch 76/100\n",
            "365/365 [==============================] - 23s 64ms/step - loss: 0.0068 - rmse: 0.0822\n",
            "Epoch 77/100\n",
            "365/365 [==============================] - 23s 62ms/step - loss: 0.0039 - rmse: 0.0624\n",
            "Epoch 78/100\n",
            "365/365 [==============================] - 23s 64ms/step - loss: 0.0068 - rmse: 0.0827\n",
            "Epoch 79/100\n",
            "365/365 [==============================] - 23s 64ms/step - loss: 188.5880 - rmse: 13.7327\n",
            "Epoch 80/100\n",
            "365/365 [==============================] - 24s 66ms/step - loss: 0.0578 - rmse: 0.2404\n",
            "Epoch 81/100\n",
            "365/365 [==============================] - 23s 64ms/step - loss: 0.0320 - rmse: 0.1790\n",
            "Epoch 82/100\n",
            "365/365 [==============================] - 23s 63ms/step - loss: 0.0177 - rmse: 0.1329\n",
            "Epoch 83/100\n",
            "365/365 [==============================] - 23s 62ms/step - loss: 0.0177 - rmse: 0.1331\n",
            "Epoch 84/100\n",
            "365/365 [==============================] - 23s 64ms/step - loss: 0.0192 - rmse: 0.1385\n",
            "Epoch 85/100\n",
            "365/365 [==============================] - 24s 65ms/step - loss: 0.0230 - rmse: 0.1517\n",
            "Epoch 86/100\n",
            "365/365 [==============================] - 23s 63ms/step - loss: 0.3375 - rmse: 0.5810\n",
            "Epoch 87/100\n",
            "365/365 [==============================] - 23s 63ms/step - loss: 0.0159 - rmse: 0.1260\n",
            "Epoch 88/100\n",
            "365/365 [==============================] - 23s 63ms/step - loss: 0.1386 - rmse: 0.3723\n",
            "Epoch 89/100\n",
            "365/365 [==============================] - 24s 65ms/step - loss: 0.0339 - rmse: 0.1842\n",
            "Epoch 90/100\n",
            "365/365 [==============================] - 23s 62ms/step - loss: 0.2162 - rmse: 0.4649\n",
            "Epoch 91/100\n",
            "365/365 [==============================] - 23s 64ms/step - loss: 0.0145 - rmse: 0.1204\n",
            "Epoch 92/100\n",
            "365/365 [==============================] - 24s 65ms/step - loss: 0.0625 - rmse: 0.2500\n",
            "Epoch 93/100\n",
            "365/365 [==============================] - 23s 64ms/step - loss: 0.0083 - rmse: 0.0913\n",
            "Epoch 94/100\n",
            "365/365 [==============================] - 23s 64ms/step - loss: 0.0880 - rmse: 0.2966\n",
            "Epoch 95/100\n",
            "365/365 [==============================] - 23s 62ms/step - loss: 0.0074 - rmse: 0.0861\n",
            "Epoch 96/100\n",
            "365/365 [==============================] - 23s 63ms/step - loss: 0.0059 - rmse: 0.0766\n",
            "Epoch 97/100\n",
            "365/365 [==============================] - 23s 64ms/step - loss: 0.0814 - rmse: 0.2854\n",
            "Epoch 98/100\n",
            "365/365 [==============================] - 23s 62ms/step - loss: 0.0109 - rmse: 0.1044\n",
            "Epoch 99/100\n",
            "365/365 [==============================] - 23s 63ms/step - loss: 0.0068 - rmse: 0.0822\n",
            "Epoch 100/100\n",
            "365/365 [==============================] - 23s 64ms/step - loss: 0.0219 - rmse: 0.1480\n"
          ]
        },
        {
          "output_type": "execute_result",
          "data": {
            "text/plain": [
              "<keras.src.callbacks.History at 0x7d281f880730>"
            ]
          },
          "metadata": {},
          "execution_count": 29
        }
      ]
    },
    {
      "cell_type": "markdown",
      "source": [
        "# Predicton"
      ],
      "metadata": {
        "id": "GVeqLTu95CfR"
      }
    },
    {
      "cell_type": "code",
      "source": [
        "# Read train data\n",
        "\n",
        "test_df = pd.read_csv('test.csv')\n",
        "\n",
        "ids = test_df['Id'].values.astype(int)\n",
        "test_df = replace_nans(test_df)\n",
        "preprocessed_test_df = preprocessDataset(test_df)\n",
        "\n"
      ],
      "metadata": {
        "id": "oBYQYMvy5EmZ"
      },
      "execution_count": 30,
      "outputs": []
    },
    {
      "cell_type": "code",
      "source": [
        "#print(preprocessed_test_df.shape)\n",
        "\n",
        "unique_to_preprocessed_df = preprocessed_df.columns.difference(preprocessed_test_df.columns)\n",
        "#print(unique_to_preprocessed_df)\n",
        "\n",
        "# Populate difference of columns in test_Df\n",
        "for column in unique_to_preprocessed_df:\n",
        "    preprocessed_test_df[column] = 0\n",
        "\n",
        "# maintain order of the columns too:\n",
        "ordered_columns = [col for col in preprocessed_df.columns if col in preprocessed_test_df.columns]\n",
        "\n",
        "preprocessed_test_df = preprocessed_test_df[ordered_columns]\n",
        "preprocessed_test_df.drop('SalePrice', axis=1, inplace=True)\n",
        "\n",
        "# check difference again:\n",
        "unique_to_preprocessed_df = preprocessed_df.columns.difference(preprocessed_test_df.columns)\n",
        "#print(unique_to_preprocessed_df)\n",
        "\n",
        "#print(\"Shape of train: \" + str(preprocessed_df.shape) + \" Shape of test: \" + str(preprocessed_test_df.shape))\n",
        "\n"
      ],
      "metadata": {
        "colab": {
          "base_uri": "https://localhost:8080/"
        },
        "id": "evWooZrz6a2H",
        "outputId": "7b5cf0e9-4933-420c-c5f5-694840c22d31"
      },
      "execution_count": 31,
      "outputs": [
        {
          "output_type": "stream",
          "name": "stderr",
          "text": [
            "<ipython-input-31-ec42950fbb20>:14: SettingWithCopyWarning: \n",
            "A value is trying to be set on a copy of a slice from a DataFrame\n",
            "\n",
            "See the caveats in the documentation: https://pandas.pydata.org/pandas-docs/stable/user_guide/indexing.html#returning-a-view-versus-a-copy\n",
            "  preprocessed_test_df.drop('SalePrice', axis=1, inplace=True)\n"
          ]
        }
      ]
    },
    {
      "cell_type": "code",
      "source": [
        "predictions = model.predict(preprocessed_test_df)"
      ],
      "metadata": {
        "colab": {
          "base_uri": "https://localhost:8080/"
        },
        "id": "6apA9BKm5NOY",
        "outputId": "e7c3b392-a53d-486a-f39f-9e78fc7b6b1a"
      },
      "execution_count": 32,
      "outputs": [
        {
          "output_type": "stream",
          "name": "stdout",
          "text": [
            "46/46 [==============================] - 1s 10ms/step\n"
          ]
        }
      ]
    },
    {
      "cell_type": "code",
      "source": [
        "# concatenate predictions with ids and store to file.\n",
        "\n",
        "result = np.column_stack((ids, predictions))\n",
        "\n",
        "print(\"Predictions shape: \" + str(predictions.shape))\n",
        "print(\"ids shape: \" + str(ids.shape))\n",
        "print(\"result shape: \" + str(result.shape))"
      ],
      "metadata": {
        "colab": {
          "base_uri": "https://localhost:8080/"
        },
        "id": "_migelCQ6T3X",
        "outputId": "10517931-c6f8-49c5-8519-7e51fed67767"
      },
      "execution_count": 33,
      "outputs": [
        {
          "output_type": "stream",
          "name": "stdout",
          "text": [
            "Predictions shape: (1459, 1)\n",
            "ids shape: (1459,)\n",
            "result shape: (1459, 2)\n"
          ]
        }
      ]
    },
    {
      "cell_type": "code",
      "source": [
        "\n",
        "result_df = pd.DataFrame(result, columns=['Id', 'SalePrice'])\n",
        "result_df['Id'] = result_df['Id'].astype(int)\n",
        "\n",
        "\n",
        "# Save the DataFrame to a CSV file\n",
        "result_df.to_csv('predictions.csv', index=False)\n"
      ],
      "metadata": {
        "id": "3CSbpZB1-mei"
      },
      "execution_count": 35,
      "outputs": []
    },
    {
      "cell_type": "code",
      "source": [],
      "metadata": {
        "id": "oM4fncpSED14"
      },
      "execution_count": null,
      "outputs": []
    }
  ]
}