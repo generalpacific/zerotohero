{
  "nbformat": 4,
  "nbformat_minor": 0,
  "metadata": {
    "colab": {
      "provenance": [],
      "authorship_tag": "ABX9TyM1otGwQnmebmq7zRY7GWR2"
    },
    "kernelspec": {
      "name": "python3",
      "display_name": "Python 3"
    },
    "language_info": {
      "name": "python"
    }
  },
  "cells": [
    {
      "cell_type": "markdown",
      "source": [
        "### Add Imports"
      ],
      "metadata": {
        "id": "Fb-MSCDkOYQ-"
      }
    },
    {
      "cell_type": "code",
      "source": [
        "import numpy as np\n",
        "import copy\n",
        "import matplotlib.pyplot as plt\n",
        "import sklearn\n",
        "import sklearn.datasets\n",
        "import sklearn.linear_model\n",
        "import pandas as pd\n",
        "from sklearn.preprocessing import MinMaxScaler\n",
        "\n",
        "import tensorflow as tf\n",
        "from tensorflow.keras.models import Sequential\n",
        "from tensorflow.keras.layers import Dense\n",
        "\n",
        "\n",
        "%matplotlib inline\n",
        "\n",
        "%load_ext autoreload\n",
        "%autoreload 2"
      ],
      "metadata": {
        "colab": {
          "base_uri": "https://localhost:8080/"
        },
        "id": "iHLhJwHZOZtG",
        "outputId": "747f5227-8813-4a68-abc4-60d47b1b36cf"
      },
      "execution_count": 23,
      "outputs": [
        {
          "output_type": "stream",
          "name": "stdout",
          "text": [
            "The autoreload extension is already loaded. To reload it, use:\n",
            "  %reload_ext autoreload\n"
          ]
        }
      ]
    },
    {
      "cell_type": "markdown",
      "source": [
        "### Read dataset and print the shapes"
      ],
      "metadata": {
        "id": "x9ae3KsfOemE"
      }
    },
    {
      "cell_type": "code",
      "source": [
        "df = pd.read_csv('train.csv')\n",
        "\n",
        "feature_names = df.columns\n",
        "X = df.iloc[:, :-1].values\n",
        "Y = df.iloc[:, -1].values"
      ],
      "metadata": {
        "id": "pfU-HUKTRabe"
      },
      "execution_count": 6,
      "outputs": []
    },
    {
      "cell_type": "code",
      "source": [
        "print(\"Feature Names: \")\n",
        "print(feature_names)\n",
        "print(\"Features Matrix (X):\")\n",
        "print(X[:2])\n",
        "print(\"\\nTarget Vector (Y):\")\n",
        "print(Y[:2])"
      ],
      "metadata": {
        "colab": {
          "base_uri": "https://localhost:8080/"
        },
        "id": "uwfPMEg2OxOk",
        "outputId": "f5c396ac-7ab3-4641-b72b-153b5aa62810"
      },
      "execution_count": 7,
      "outputs": [
        {
          "output_type": "stream",
          "name": "stdout",
          "text": [
            "Feature Names: \n",
            "Index(['Id', 'MSSubClass', 'MSZoning', 'LotFrontage', 'LotArea', 'Street',\n",
            "       'Alley', 'LotShape', 'LandContour', 'Utilities', 'LotConfig',\n",
            "       'LandSlope', 'Neighborhood', 'Condition1', 'Condition2', 'BldgType',\n",
            "       'HouseStyle', 'OverallQual', 'OverallCond', 'YearBuilt', 'YearRemodAdd',\n",
            "       'RoofStyle', 'RoofMatl', 'Exterior1st', 'Exterior2nd', 'MasVnrType',\n",
            "       'MasVnrArea', 'ExterQual', 'ExterCond', 'Foundation', 'BsmtQual',\n",
            "       'BsmtCond', 'BsmtExposure', 'BsmtFinType1', 'BsmtFinSF1',\n",
            "       'BsmtFinType2', 'BsmtFinSF2', 'BsmtUnfSF', 'TotalBsmtSF', 'Heating',\n",
            "       'HeatingQC', 'CentralAir', 'Electrical', '1stFlrSF', '2ndFlrSF',\n",
            "       'LowQualFinSF', 'GrLivArea', 'BsmtFullBath', 'BsmtHalfBath', 'FullBath',\n",
            "       'HalfBath', 'BedroomAbvGr', 'KitchenAbvGr', 'KitchenQual',\n",
            "       'TotRmsAbvGrd', 'Functional', 'Fireplaces', 'FireplaceQu', 'GarageType',\n",
            "       'GarageYrBlt', 'GarageFinish', 'GarageCars', 'GarageArea', 'GarageQual',\n",
            "       'GarageCond', 'PavedDrive', 'WoodDeckSF', 'OpenPorchSF',\n",
            "       'EnclosedPorch', '3SsnPorch', 'ScreenPorch', 'PoolArea', 'PoolQC',\n",
            "       'Fence', 'MiscFeature', 'MiscVal', 'MoSold', 'YrSold', 'SaleType',\n",
            "       'SaleCondition', 'SalePrice'],\n",
            "      dtype='object')\n",
            "Features Matrix (X):\n",
            "[[1 60 'RL' 65.0 8450 'Pave' nan 'Reg' 'Lvl' 'AllPub' 'Inside' 'Gtl'\n",
            "  'CollgCr' 'Norm' 'Norm' '1Fam' '2Story' 7 5 2003 2003 'Gable' 'CompShg'\n",
            "  'VinylSd' 'VinylSd' 'BrkFace' 196.0 'Gd' 'TA' 'PConc' 'Gd' 'TA' 'No'\n",
            "  'GLQ' 706 'Unf' 0 150 856 'GasA' 'Ex' 'Y' 'SBrkr' 856 854 0 1710 1 0 2\n",
            "  1 3 1 'Gd' 8 'Typ' 0 nan 'Attchd' 2003.0 'RFn' 2 548 'TA' 'TA' 'Y' 0 61\n",
            "  0 0 0 0 nan nan nan 0 2 2008 'WD' 'Normal']\n",
            " [2 20 'RL' 80.0 9600 'Pave' nan 'Reg' 'Lvl' 'AllPub' 'FR2' 'Gtl'\n",
            "  'Veenker' 'Feedr' 'Norm' '1Fam' '1Story' 6 8 1976 1976 'Gable'\n",
            "  'CompShg' 'MetalSd' 'MetalSd' 'None' 0.0 'TA' 'TA' 'CBlock' 'Gd' 'TA'\n",
            "  'Gd' 'ALQ' 978 'Unf' 0 284 1262 'GasA' 'Ex' 'Y' 'SBrkr' 1262 0 0 1262 0\n",
            "  1 2 0 3 1 'TA' 6 'Typ' 1 'TA' 'Attchd' 1976.0 'RFn' 2 460 'TA' 'TA' 'Y'\n",
            "  298 0 0 0 0 0 nan nan nan 0 5 2007 'WD' 'Normal']]\n",
            "\n",
            "Target Vector (Y):\n",
            "[208500 181500]\n"
          ]
        }
      ]
    },
    {
      "cell_type": "markdown",
      "source": [
        "### See features"
      ],
      "metadata": {
        "id": "2JtuGb15OmvX"
      }
    },
    {
      "cell_type": "markdown",
      "source": [
        "##### See Unique values per column"
      ],
      "metadata": {
        "id": "A9fJyyGMS3rS"
      }
    },
    {
      "cell_type": "code",
      "source": [
        "def create_ranges(series, num_bins=20):\n",
        "    min_val, max_val = series.min(), series.max()\n",
        "    range_step = (max_val - min_val) / num_bins\n",
        "    ranges = [f\"{min_val + range_step * i:.2f} - {min_val + range_step * (i+1):.2f}\" for i in range(num_bins)]\n",
        "    return ranges\n",
        "\n",
        "def print_ranges(df):\n",
        "  for column in df.columns:\n",
        "      unique_values = df[column].unique()\n",
        "\n",
        "      if unique_values.size > 20 and np.issubdtype(df[column].dtype, np.number):\n",
        "            print(f\"Column '{column}' has more than 20 unique numeric values. Creating ranges:\")\n",
        "            print(create_ranges(df[column]))\n",
        "      else:\n",
        "        print(f\"Unique values in '{column}':\")\n",
        "        print(unique_values)\n",
        "      print()\n",
        "\n",
        "print_ranges(df)"
      ],
      "metadata": {
        "id": "LJsRjbfQOpLx"
      },
      "execution_count": null,
      "outputs": []
    },
    {
      "cell_type": "markdown",
      "source": [
        "##### Check for Nans"
      ],
      "metadata": {
        "id": "OQymkpXSbZaG"
      }
    },
    {
      "cell_type": "code",
      "source": [
        "def replaceNans():\n",
        "  df_numeric = df.select_dtypes(include=[np.number])\n",
        "  df[df_numeric.columns] = df_numeric.fillna(0)\n",
        "\n",
        "replaceNans()"
      ],
      "metadata": {
        "id": "zovtjadPboCP"
      },
      "execution_count": 38,
      "outputs": []
    },
    {
      "cell_type": "markdown",
      "source": [
        "### Feature Engineering"
      ],
      "metadata": {
        "id": "16eNG8YcOp1B"
      }
    },
    {
      "cell_type": "code",
      "source": [
        "numerical_data = df.select_dtypes(include=['int64', 'float64'])\n",
        "categorical_data = df.select_dtypes(include=['object'])\n",
        "\n",
        "# One hot encoding for categories\n",
        "categorical_data_encoded = pd.get_dummies(categorical_data)\n",
        "\n",
        "# Apply Min-Max Scaling to numerical data\n",
        "scaler = MinMaxScaler()\n",
        "numerical_data_scaled = scaler.fit_transform(numerical_data)\n",
        "numerical_data_scaled_df = pd.DataFrame(numerical_data_scaled, columns=numerical_data.columns)\n",
        "\n",
        "preprocessed_df = pd.concat([numerical_data_scaled_df, categorical_data_encoded], axis=1)\n",
        "\n",
        "print(preprocessed_df)"
      ],
      "metadata": {
        "colab": {
          "base_uri": "https://localhost:8080/"
        },
        "id": "QiNJmrnROtFd",
        "outputId": "b9ec15e8-c16b-43cd-a3ed-31f1a869333c"
      },
      "execution_count": 39,
      "outputs": [
        {
          "output_type": "stream",
          "name": "stdout",
          "text": [
            "            Id  MSSubClass  LotFrontage   LotArea  OverallQual  OverallCond  \\\n",
            "0     0.000000    0.235294     0.207668  0.033420     0.666667        0.500   \n",
            "1     0.000685    0.000000     0.255591  0.038795     0.555556        0.875   \n",
            "2     0.001371    0.235294     0.217252  0.046507     0.666667        0.500   \n",
            "3     0.002056    0.294118     0.191693  0.038561     0.666667        0.500   \n",
            "4     0.002742    0.235294     0.268371  0.060576     0.777778        0.500   \n",
            "...        ...         ...          ...       ...          ...          ...   \n",
            "1455  0.997258    0.235294     0.198083  0.030929     0.555556        0.500   \n",
            "1456  0.997944    0.000000     0.271565  0.055505     0.555556        0.625   \n",
            "1457  0.998629    0.294118     0.210863  0.036187     0.666667        1.000   \n",
            "1458  0.999315    0.000000     0.217252  0.039342     0.444444        0.625   \n",
            "1459  1.000000    0.000000     0.239617  0.040370     0.444444        0.625   \n",
            "\n",
            "      YearBuilt  YearRemodAdd  MasVnrArea  BsmtFinSF1  ...  SaleType_ConLw  \\\n",
            "0      0.949275      0.883333    0.122500    0.125089  ...               0   \n",
            "1      0.753623      0.433333    0.000000    0.173281  ...               0   \n",
            "2      0.934783      0.866667    0.101250    0.086109  ...               0   \n",
            "3      0.311594      0.333333    0.000000    0.038271  ...               0   \n",
            "4      0.927536      0.833333    0.218750    0.116052  ...               0   \n",
            "...         ...           ...         ...         ...  ...             ...   \n",
            "1455   0.920290      0.833333    0.000000    0.000000  ...               0   \n",
            "1456   0.768116      0.633333    0.074375    0.139972  ...               0   \n",
            "1457   0.500000      0.933333    0.000000    0.048724  ...               0   \n",
            "1458   0.565217      0.766667    0.000000    0.008682  ...               0   \n",
            "1459   0.673913      0.250000    0.000000    0.147059  ...               0   \n",
            "\n",
            "      SaleType_New  SaleType_Oth  SaleType_WD  SaleCondition_Abnorml  \\\n",
            "0                0             0            1                      0   \n",
            "1                0             0            1                      0   \n",
            "2                0             0            1                      0   \n",
            "3                0             0            1                      1   \n",
            "4                0             0            1                      0   \n",
            "...            ...           ...          ...                    ...   \n",
            "1455             0             0            1                      0   \n",
            "1456             0             0            1                      0   \n",
            "1457             0             0            1                      0   \n",
            "1458             0             0            1                      0   \n",
            "1459             0             0            1                      0   \n",
            "\n",
            "      SaleCondition_AdjLand  SaleCondition_Alloca  SaleCondition_Family  \\\n",
            "0                         0                     0                     0   \n",
            "1                         0                     0                     0   \n",
            "2                         0                     0                     0   \n",
            "3                         0                     0                     0   \n",
            "4                         0                     0                     0   \n",
            "...                     ...                   ...                   ...   \n",
            "1455                      0                     0                     0   \n",
            "1456                      0                     0                     0   \n",
            "1457                      0                     0                     0   \n",
            "1458                      0                     0                     0   \n",
            "1459                      0                     0                     0   \n",
            "\n",
            "      SaleCondition_Normal  SaleCondition_Partial  \n",
            "0                        1                      0  \n",
            "1                        1                      0  \n",
            "2                        1                      0  \n",
            "3                        0                      0  \n",
            "4                        1                      0  \n",
            "...                    ...                    ...  \n",
            "1455                     1                      0  \n",
            "1456                     1                      0  \n",
            "1457                     1                      0  \n",
            "1458                     1                      0  \n",
            "1459                     1                      0  \n",
            "\n",
            "[1460 rows x 290 columns]\n"
          ]
        }
      ]
    },
    {
      "cell_type": "code",
      "source": [
        "print_ranges(preprocessed_df)"
      ],
      "metadata": {
        "id": "nbK9N2sFW1fa"
      },
      "execution_count": null,
      "outputs": []
    },
    {
      "cell_type": "code",
      "source": [
        "preprocessed_df.drop('Id', axis=1, inplace=True)"
      ],
      "metadata": {
        "id": "19vHsHCqYyKq"
      },
      "execution_count": 40,
      "outputs": []
    },
    {
      "cell_type": "markdown",
      "source": [
        "#### Train"
      ],
      "metadata": {
        "id": "xRjhQu2DZryX"
      }
    },
    {
      "cell_type": "code",
      "source": [
        "input_shape = (len(preprocessed_df.columns),)  # Replace 'number_of_features' with the actual number\n",
        "\n",
        "# Create a Sequential model\n",
        "model = Sequential([\n",
        "    Dense(1, input_shape=input_shape)  # No activation function for regression\n",
        "])\n",
        "\n",
        "# Compile the model for regression\n",
        "model.compile(optimizer='adam',\n",
        "              loss='mean_squared_error',  # Common choice for regression\n",
        "              metrics=['mae'])  # Mean Absolute Error as an additional metric"
      ],
      "metadata": {
        "id": "ljFX0zGyZwRl"
      },
      "execution_count": 41,
      "outputs": []
    },
    {
      "cell_type": "code",
      "source": [
        "model.fit(preprocessed_df, Y, epochs=100, batch_size=32)\n"
      ],
      "metadata": {
        "colab": {
          "base_uri": "https://localhost:8080/"
        },
        "id": "-MMEj1QQaqV1",
        "outputId": "ee7b50e3-6d4c-40a0-d428-284d73e3b5dc"
      },
      "execution_count": 42,
      "outputs": [
        {
          "output_type": "stream",
          "name": "stdout",
          "text": [
            "Epoch 1/100\n",
            "46/46 [==============================] - 1s 2ms/step - loss: 39039025152.0000 - mae: 180920.5156\n",
            "Epoch 2/100\n",
            "46/46 [==============================] - 0s 3ms/step - loss: 39038230528.0000 - mae: 180918.3594\n",
            "Epoch 3/100\n",
            "46/46 [==============================] - 0s 2ms/step - loss: 39037431808.0000 - mae: 180916.2344\n",
            "Epoch 4/100\n",
            "46/46 [==============================] - 0s 2ms/step - loss: 39036633088.0000 - mae: 180914.0781\n",
            "Epoch 5/100\n",
            "46/46 [==============================] - 0s 2ms/step - loss: 39035834368.0000 - mae: 180911.9062\n",
            "Epoch 6/100\n",
            "46/46 [==============================] - 0s 2ms/step - loss: 39035043840.0000 - mae: 180909.7812\n",
            "Epoch 7/100\n",
            "46/46 [==============================] - 0s 2ms/step - loss: 39034245120.0000 - mae: 180907.6094\n",
            "Epoch 8/100\n",
            "46/46 [==============================] - 0s 2ms/step - loss: 39033450496.0000 - mae: 180905.4375\n",
            "Epoch 9/100\n",
            "46/46 [==============================] - 0s 2ms/step - loss: 39032647680.0000 - mae: 180903.2656\n",
            "Epoch 10/100\n",
            "46/46 [==============================] - 0s 2ms/step - loss: 39031853056.0000 - mae: 180901.1250\n",
            "Epoch 11/100\n",
            "46/46 [==============================] - 0s 2ms/step - loss: 39031062528.0000 - mae: 180898.9375\n",
            "Epoch 12/100\n",
            "46/46 [==============================] - 0s 2ms/step - loss: 39030255616.0000 - mae: 180896.7812\n",
            "Epoch 13/100\n",
            "46/46 [==============================] - 0s 2ms/step - loss: 39029465088.0000 - mae: 180894.6250\n",
            "Epoch 14/100\n",
            "46/46 [==============================] - 0s 2ms/step - loss: 39028670464.0000 - mae: 180892.5000\n",
            "Epoch 15/100\n",
            "46/46 [==============================] - 0s 2ms/step - loss: 39027871744.0000 - mae: 180890.3125\n",
            "Epoch 16/100\n",
            "46/46 [==============================] - 0s 2ms/step - loss: 39027068928.0000 - mae: 180888.1562\n",
            "Epoch 17/100\n",
            "46/46 [==============================] - 0s 2ms/step - loss: 39026282496.0000 - mae: 180885.9688\n",
            "Epoch 18/100\n",
            "46/46 [==============================] - 0s 2ms/step - loss: 39025483776.0000 - mae: 180883.8594\n",
            "Epoch 19/100\n",
            "46/46 [==============================] - 0s 2ms/step - loss: 39024685056.0000 - mae: 180881.7031\n",
            "Epoch 20/100\n",
            "46/46 [==============================] - 0s 2ms/step - loss: 39023886336.0000 - mae: 180879.5156\n",
            "Epoch 21/100\n",
            "46/46 [==============================] - 0s 2ms/step - loss: 39023083520.0000 - mae: 180877.3594\n",
            "Epoch 22/100\n",
            "46/46 [==============================] - 0s 2ms/step - loss: 39022288896.0000 - mae: 180875.1875\n",
            "Epoch 23/100\n",
            "46/46 [==============================] - 0s 2ms/step - loss: 39021498368.0000 - mae: 180873.0156\n",
            "Epoch 24/100\n",
            "46/46 [==============================] - 0s 2ms/step - loss: 39020703744.0000 - mae: 180870.8594\n",
            "Epoch 25/100\n",
            "46/46 [==============================] - 0s 2ms/step - loss: 39019896832.0000 - mae: 180868.7500\n",
            "Epoch 26/100\n",
            "46/46 [==============================] - 0s 2ms/step - loss: 39019110400.0000 - mae: 180866.5625\n",
            "Epoch 27/100\n",
            "46/46 [==============================] - 0s 2ms/step - loss: 39018307584.0000 - mae: 180864.4219\n",
            "Epoch 28/100\n",
            "46/46 [==============================] - 0s 2ms/step - loss: 39017508864.0000 - mae: 180862.2656\n",
            "Epoch 29/100\n",
            "46/46 [==============================] - 0s 2ms/step - loss: 39016722432.0000 - mae: 180860.0938\n",
            "Epoch 30/100\n",
            "46/46 [==============================] - 0s 2ms/step - loss: 39015919616.0000 - mae: 180857.9531\n",
            "Epoch 31/100\n",
            "46/46 [==============================] - 0s 2ms/step - loss: 39015129088.0000 - mae: 180855.7969\n",
            "Epoch 32/100\n",
            "46/46 [==============================] - 0s 2ms/step - loss: 39014326272.0000 - mae: 180853.5938\n",
            "Epoch 33/100\n",
            "46/46 [==============================] - 0s 2ms/step - loss: 39013535744.0000 - mae: 180851.4688\n",
            "Epoch 34/100\n",
            "46/46 [==============================] - 0s 2ms/step - loss: 39012745216.0000 - mae: 180849.2969\n",
            "Epoch 35/100\n",
            "46/46 [==============================] - 0s 2ms/step - loss: 39011938304.0000 - mae: 180847.1406\n",
            "Epoch 36/100\n",
            "46/46 [==============================] - 0s 2ms/step - loss: 39011139584.0000 - mae: 180844.9844\n",
            "Epoch 37/100\n",
            "46/46 [==============================] - 0s 2ms/step - loss: 39010349056.0000 - mae: 180842.8438\n",
            "Epoch 38/100\n",
            "46/46 [==============================] - 0s 2ms/step - loss: 39009558528.0000 - mae: 180840.6719\n",
            "Epoch 39/100\n",
            "46/46 [==============================] - 0s 2ms/step - loss: 39008755712.0000 - mae: 180838.5000\n",
            "Epoch 40/100\n",
            "46/46 [==============================] - 0s 2ms/step - loss: 39007965184.0000 - mae: 180836.3125\n",
            "Epoch 41/100\n",
            "46/46 [==============================] - 0s 2ms/step - loss: 39007162368.0000 - mae: 180834.1875\n",
            "Epoch 42/100\n",
            "46/46 [==============================] - 0s 2ms/step - loss: 39006367744.0000 - mae: 180832.0156\n",
            "Epoch 43/100\n",
            "46/46 [==============================] - 0s 2ms/step - loss: 39005569024.0000 - mae: 180829.8906\n",
            "Epoch 44/100\n",
            "46/46 [==============================] - 0s 2ms/step - loss: 39004774400.0000 - mae: 180827.7188\n",
            "Epoch 45/100\n",
            "46/46 [==============================] - 0s 2ms/step - loss: 39003975680.0000 - mae: 180825.5469\n",
            "Epoch 46/100\n",
            "46/46 [==============================] - 0s 2ms/step - loss: 39003189248.0000 - mae: 180823.4062\n",
            "Epoch 47/100\n",
            "46/46 [==============================] - 0s 2ms/step - loss: 39002386432.0000 - mae: 180821.2188\n",
            "Epoch 48/100\n",
            "46/46 [==============================] - 0s 2ms/step - loss: 39001595904.0000 - mae: 180819.0625\n",
            "Epoch 49/100\n",
            "46/46 [==============================] - 0s 2ms/step - loss: 39000788992.0000 - mae: 180816.9375\n",
            "Epoch 50/100\n",
            "46/46 [==============================] - 0s 2ms/step - loss: 38999990272.0000 - mae: 180814.7656\n",
            "Epoch 51/100\n",
            "46/46 [==============================] - 0s 2ms/step - loss: 38999199744.0000 - mae: 180812.6094\n",
            "Epoch 52/100\n",
            "46/46 [==============================] - 0s 2ms/step - loss: 38998413312.0000 - mae: 180810.4531\n",
            "Epoch 53/100\n",
            "46/46 [==============================] - 0s 2ms/step - loss: 38997614592.0000 - mae: 180808.2812\n",
            "Epoch 54/100\n",
            "46/46 [==============================] - 0s 2ms/step - loss: 38996811776.0000 - mae: 180806.1406\n",
            "Epoch 55/100\n",
            "46/46 [==============================] - 0s 2ms/step - loss: 38996004864.0000 - mae: 180804.0156\n",
            "Epoch 56/100\n",
            "46/46 [==============================] - 0s 2ms/step - loss: 38995218432.0000 - mae: 180801.8125\n",
            "Epoch 57/100\n",
            "46/46 [==============================] - 0s 2ms/step - loss: 38994423808.0000 - mae: 180799.6562\n",
            "Epoch 58/100\n",
            "46/46 [==============================] - 0s 2ms/step - loss: 38993629184.0000 - mae: 180797.5156\n",
            "Epoch 59/100\n",
            "46/46 [==============================] - 0s 2ms/step - loss: 38992834560.0000 - mae: 180795.3438\n",
            "Epoch 60/100\n",
            "46/46 [==============================] - 0s 2ms/step - loss: 38992035840.0000 - mae: 180793.2188\n",
            "Epoch 61/100\n",
            "46/46 [==============================] - 0s 2ms/step - loss: 38991241216.0000 - mae: 180791.0625\n",
            "Epoch 62/100\n",
            "46/46 [==============================] - 0s 2ms/step - loss: 38990442496.0000 - mae: 180788.8750\n",
            "Epoch 63/100\n",
            "46/46 [==============================] - 0s 2ms/step - loss: 38989647872.0000 - mae: 180786.7031\n",
            "Epoch 64/100\n",
            "46/46 [==============================] - 0s 2ms/step - loss: 38988849152.0000 - mae: 180784.5781\n",
            "Epoch 65/100\n",
            "46/46 [==============================] - 0s 2ms/step - loss: 38988050432.0000 - mae: 180782.4062\n",
            "Epoch 66/100\n",
            "46/46 [==============================] - 0s 2ms/step - loss: 38987264000.0000 - mae: 180780.2031\n",
            "Epoch 67/100\n",
            "46/46 [==============================] - 0s 2ms/step - loss: 38986469376.0000 - mae: 180778.0781\n",
            "Epoch 68/100\n",
            "46/46 [==============================] - 0s 2ms/step - loss: 38985666560.0000 - mae: 180775.9062\n",
            "Epoch 69/100\n",
            "46/46 [==============================] - 0s 3ms/step - loss: 38984867840.0000 - mae: 180773.7656\n",
            "Epoch 70/100\n",
            "46/46 [==============================] - 0s 4ms/step - loss: 38984073216.0000 - mae: 180771.5938\n",
            "Epoch 71/100\n",
            "46/46 [==============================] - 0s 2ms/step - loss: 38983278592.0000 - mae: 180769.4531\n",
            "Epoch 72/100\n",
            "46/46 [==============================] - 0s 2ms/step - loss: 38982479872.0000 - mae: 180767.2500\n",
            "Epoch 73/100\n",
            "46/46 [==============================] - 0s 2ms/step - loss: 38981693440.0000 - mae: 180765.1250\n",
            "Epoch 74/100\n",
            "46/46 [==============================] - 0s 2ms/step - loss: 38980894720.0000 - mae: 180762.9531\n",
            "Epoch 75/100\n",
            "46/46 [==============================] - 0s 2ms/step - loss: 38980096000.0000 - mae: 180760.7812\n",
            "Epoch 76/100\n",
            "46/46 [==============================] - 0s 2ms/step - loss: 38979293184.0000 - mae: 180758.6406\n",
            "Epoch 77/100\n",
            "46/46 [==============================] - 0s 3ms/step - loss: 38978498560.0000 - mae: 180756.4844\n",
            "Epoch 78/100\n",
            "46/46 [==============================] - 0s 3ms/step - loss: 38977708032.0000 - mae: 180754.3438\n",
            "Epoch 79/100\n",
            "46/46 [==============================] - 0s 2ms/step - loss: 38976913408.0000 - mae: 180752.1250\n",
            "Epoch 80/100\n",
            "46/46 [==============================] - 0s 2ms/step - loss: 38976118784.0000 - mae: 180750.0000\n",
            "Epoch 81/100\n",
            "46/46 [==============================] - 0s 2ms/step - loss: 38975315968.0000 - mae: 180747.8594\n",
            "Epoch 82/100\n",
            "46/46 [==============================] - 0s 2ms/step - loss: 38974517248.0000 - mae: 180745.6719\n",
            "Epoch 83/100\n",
            "46/46 [==============================] - 0s 2ms/step - loss: 38973722624.0000 - mae: 180743.5469\n",
            "Epoch 84/100\n",
            "46/46 [==============================] - 0s 2ms/step - loss: 38972928000.0000 - mae: 180741.3750\n",
            "Epoch 85/100\n",
            "46/46 [==============================] - 0s 2ms/step - loss: 38972129280.0000 - mae: 180739.2031\n",
            "Epoch 86/100\n",
            "46/46 [==============================] - 0s 2ms/step - loss: 38971338752.0000 - mae: 180737.0469\n",
            "Epoch 87/100\n",
            "46/46 [==============================] - 0s 2ms/step - loss: 38970544128.0000 - mae: 180734.9219\n",
            "Epoch 88/100\n",
            "46/46 [==============================] - 0s 2ms/step - loss: 38969741312.0000 - mae: 180732.7656\n",
            "Epoch 89/100\n",
            "46/46 [==============================] - 0s 2ms/step - loss: 38968950784.0000 - mae: 180730.5938\n",
            "Epoch 90/100\n",
            "46/46 [==============================] - 0s 2ms/step - loss: 38968156160.0000 - mae: 180728.4375\n",
            "Epoch 91/100\n",
            "46/46 [==============================] - 0s 2ms/step - loss: 38967361536.0000 - mae: 180726.2500\n",
            "Epoch 92/100\n",
            "46/46 [==============================] - 0s 2ms/step - loss: 38966566912.0000 - mae: 180724.1250\n",
            "Epoch 93/100\n",
            "46/46 [==============================] - 0s 2ms/step - loss: 38965764096.0000 - mae: 180721.9531\n",
            "Epoch 94/100\n",
            "46/46 [==============================] - 0s 2ms/step - loss: 38964973568.0000 - mae: 180719.7969\n",
            "Epoch 95/100\n",
            "46/46 [==============================] - 0s 2ms/step - loss: 38964183040.0000 - mae: 180717.6250\n",
            "Epoch 96/100\n",
            "46/46 [==============================] - 0s 2ms/step - loss: 38963372032.0000 - mae: 180715.4531\n",
            "Epoch 97/100\n",
            "46/46 [==============================] - 0s 2ms/step - loss: 38962589696.0000 - mae: 180713.2969\n",
            "Epoch 98/100\n",
            "46/46 [==============================] - 0s 2ms/step - loss: 38961790976.0000 - mae: 180711.1406\n",
            "Epoch 99/100\n",
            "46/46 [==============================] - 0s 2ms/step - loss: 38961000448.0000 - mae: 180708.9688\n",
            "Epoch 100/100\n",
            "46/46 [==============================] - 0s 2ms/step - loss: 38960193536.0000 - mae: 180706.8125\n"
          ]
        },
        {
          "output_type": "execute_result",
          "data": {
            "text/plain": [
              "<keras.src.callbacks.History at 0x7adfed30efe0>"
            ]
          },
          "metadata": {},
          "execution_count": 42
        }
      ]
    },
    {
      "cell_type": "code",
      "source": [],
      "metadata": {
        "id": "nSeFx9kKazZV"
      },
      "execution_count": null,
      "outputs": []
    }
  ]
}