{
  "nbformat": 4,
  "nbformat_minor": 0,
  "metadata": {
    "colab": {
      "provenance": [],
      "authorship_tag": "ABX9TyOpPOIeWdSb5Pin+VK+27/w"
    },
    "kernelspec": {
      "name": "python3",
      "display_name": "Python 3"
    },
    "language_info": {
      "name": "python"
    }
  },
  "cells": [
    {
      "cell_type": "markdown",
      "source": [
        "### Add Imports"
      ],
      "metadata": {
        "id": "Fb-MSCDkOYQ-"
      }
    },
    {
      "cell_type": "code",
      "source": [
        "import numpy as np\n",
        "import copy\n",
        "import os\n",
        "import matplotlib.pyplot as plt\n",
        "import sklearn\n",
        "import sklearn.datasets\n",
        "import sklearn.linear_model\n",
        "import pandas as pd\n",
        "from sklearn.preprocessing import MinMaxScaler\n",
        "\n",
        "import tensorflow as tf\n",
        "from tensorflow.keras.models import Sequential\n",
        "from tensorflow.keras.layers import Dense\n",
        "\n",
        "\n",
        "%matplotlib inline\n",
        "\n",
        "%load_ext autoreload\n",
        "%autoreload 2"
      ],
      "metadata": {
        "colab": {
          "base_uri": "https://localhost:8080/"
        },
        "id": "iHLhJwHZOZtG",
        "outputId": "1e8cc302-5e6a-4dbf-fee5-df689a115507"
      },
      "execution_count": 121,
      "outputs": [
        {
          "output_type": "stream",
          "name": "stdout",
          "text": [
            "The autoreload extension is already loaded. To reload it, use:\n",
            "  %reload_ext autoreload\n"
          ]
        }
      ]
    },
    {
      "cell_type": "markdown",
      "source": [
        "### Read dataset and print the shapes"
      ],
      "metadata": {
        "id": "x9ae3KsfOemE"
      }
    },
    {
      "cell_type": "code",
      "source": [
        "df = pd.read_csv('train.csv')\n",
        "\n",
        "feature_names = df.columns\n",
        "X = df.iloc[:, :-1].values\n",
        "Y = df.iloc[:, -1].values"
      ],
      "metadata": {
        "id": "pfU-HUKTRabe"
      },
      "execution_count": 122,
      "outputs": []
    },
    {
      "cell_type": "code",
      "source": [
        "#print(\"Feature Names: \")\n",
        "#print(feature_names)\n",
        "#print(\"Features Matrix (X):\")\n",
        "#print(X[:2])\n",
        "#print(\"\\nTarget Vector (Y):\")\n",
        "#print(Y[:2])"
      ],
      "metadata": {
        "id": "uwfPMEg2OxOk"
      },
      "execution_count": 124,
      "outputs": []
    },
    {
      "cell_type": "markdown",
      "source": [
        "### See features"
      ],
      "metadata": {
        "id": "2JtuGb15OmvX"
      }
    },
    {
      "cell_type": "markdown",
      "source": [
        "##### See Unique values per column"
      ],
      "metadata": {
        "id": "A9fJyyGMS3rS"
      }
    },
    {
      "cell_type": "code",
      "source": [
        "def create_ranges(series, num_bins=20):\n",
        "    min_val, max_val = series.min(), series.max()\n",
        "    range_step = (max_val - min_val) / num_bins\n",
        "    ranges = [f\"{min_val + range_step * i:.2f} - {min_val + range_step * (i+1):.2f}\" for i in range(num_bins)]\n",
        "    return ranges\n",
        "\n",
        "def print_ranges(df):\n",
        "  for column in df.columns:\n",
        "      unique_values = df[column].unique()\n",
        "\n",
        "      if unique_values.size > 20 and np.issubdtype(df[column].dtype, np.number):\n",
        "            print(f\"Column '{column}' has more than 20 unique numeric values. Creating ranges:\")\n",
        "            print(create_ranges(df[column]))\n",
        "      else:\n",
        "        print(f\"Unique values in '{column}':\")\n",
        "        print(unique_values)\n",
        "      print()\n",
        "\n",
        "#print_ranges(df)"
      ],
      "metadata": {
        "id": "LJsRjbfQOpLx"
      },
      "execution_count": 125,
      "outputs": []
    },
    {
      "cell_type": "markdown",
      "source": [
        "##### Check for Nans"
      ],
      "metadata": {
        "id": "OQymkpXSbZaG"
      }
    },
    {
      "cell_type": "code",
      "source": [
        "def replace_nans(df):\n",
        "  df_numeric = df.select_dtypes(include=[np.number])\n",
        "  df[df_numeric.columns] = df_numeric.fillna(0)\n",
        "  return df\n",
        "\n",
        "df = replace_nans(df)"
      ],
      "metadata": {
        "id": "zovtjadPboCP"
      },
      "execution_count": 126,
      "outputs": []
    },
    {
      "cell_type": "markdown",
      "source": [
        "### Feature Engineering"
      ],
      "metadata": {
        "id": "16eNG8YcOp1B"
      }
    },
    {
      "cell_type": "code",
      "source": [
        "def preprocessDataset(df):\n",
        "  numerical_data = df.select_dtypes(include=['int64', 'float64'])\n",
        "  categorical_data = df.select_dtypes(include=['object'])\n",
        "\n",
        "  # One hot encoding for categories\n",
        "  categorical_data_encoded = pd.get_dummies(categorical_data)\n",
        "\n",
        "  # Apply Min-Max Scaling to numerical data\n",
        "  scaler = MinMaxScaler()\n",
        "  numerical_data_scaled = scaler.fit_transform(numerical_data)\n",
        "  numerical_data_scaled_df = pd.DataFrame(numerical_data_scaled, columns=numerical_data.columns)\n",
        "\n",
        "  preprocessed_df = pd.concat([numerical_data_scaled_df, categorical_data_encoded], axis=1)\n",
        "  preprocessed_df.drop('Id', axis=1, inplace=True)\n",
        "  return preprocessed_df\n",
        "\n",
        "preprocessed_df = preprocessDataset(df)\n",
        "#print(preprocessed_df)"
      ],
      "metadata": {
        "id": "QiNJmrnROtFd"
      },
      "execution_count": 127,
      "outputs": []
    },
    {
      "cell_type": "code",
      "source": [
        "preprocessed_X = preprocessed_df.iloc[:, :-1].values\n",
        "Y = preprocessed_df.iloc[:, -1].values"
      ],
      "metadata": {
        "id": "IzigsJNq7fek"
      },
      "execution_count": null,
      "outputs": []
    },
    {
      "cell_type": "code",
      "source": [
        "print(preprocessed_X.shape)"
      ],
      "metadata": {
        "colab": {
          "base_uri": "https://localhost:8080/"
        },
        "id": "aabSEXKg6kfq",
        "outputId": "3f4d0a8e-128d-4bf9-a63c-0d37d82d2b79"
      },
      "execution_count": null,
      "outputs": [
        {
          "output_type": "stream",
          "name": "stdout",
          "text": [
            "(1460, 288)\n"
          ]
        }
      ]
    },
    {
      "cell_type": "markdown",
      "source": [
        "#### Train"
      ],
      "metadata": {
        "id": "xRjhQu2DZryX"
      }
    },
    {
      "cell_type": "code",
      "source": [
        "input_shape = (preprocessed_X.shape[1],)\n",
        "model = Sequential([\n",
        "    Dense(1024, input_shape=input_shape),\n",
        "    Dense(512),\n",
        "    Dense(256),\n",
        "    Dense(1)\n",
        "])\n",
        "\n",
        "model.compile(optimizer='adam',\n",
        "              loss='mean_squared_error',\n",
        "              metrics=[tf.keras.metrics.RootMeanSquaredError(name='rmse')])"
      ],
      "metadata": {
        "id": "ljFX0zGyZwRl"
      },
      "execution_count": 137,
      "outputs": []
    },
    {
      "cell_type": "code",
      "source": [
        "model.fit(preprocessed_X, Y, epochs=100, batch_size=4, validation_split=0.1)\n"
      ],
      "metadata": {
        "id": "-MMEj1QQaqV1",
        "colab": {
          "base_uri": "https://localhost:8080/"
        },
        "outputId": "15147ac5-c72a-4485-ec62-eb874f72dceb"
      },
      "execution_count": 138,
      "outputs": [
        {
          "output_type": "stream",
          "name": "stdout",
          "text": [
            "Epoch 1/100\n",
            "329/329 [==============================] - 7s 18ms/step - loss: 7497271296.0000 - rmse: 86586.7812 - val_loss: 1170027520.0000 - val_rmse: 34205.6641\n",
            "Epoch 2/100\n",
            "329/329 [==============================] - 5s 15ms/step - loss: 1399831808.0000 - rmse: 37414.3281 - val_loss: 778519808.0000 - val_rmse: 27901.9688\n",
            "Epoch 3/100\n",
            "329/329 [==============================] - 6s 17ms/step - loss: 1118702336.0000 - rmse: 33447.0078 - val_loss: 627666944.0000 - val_rmse: 25053.2812\n",
            "Epoch 4/100\n",
            "329/329 [==============================] - 5s 15ms/step - loss: 947151616.0000 - rmse: 30775.8281 - val_loss: 687126976.0000 - val_rmse: 26213.1074\n",
            "Epoch 5/100\n",
            "329/329 [==============================] - 6s 18ms/step - loss: 883810944.0000 - rmse: 29728.9570 - val_loss: 674390592.0000 - val_rmse: 25969.0312\n",
            "Epoch 6/100\n",
            "329/329 [==============================] - 5s 17ms/step - loss: 802805952.0000 - rmse: 28333.8301 - val_loss: 1208442240.0000 - val_rmse: 34762.6562\n",
            "Epoch 7/100\n",
            "329/329 [==============================] - 5s 16ms/step - loss: 820840512.0000 - rmse: 28650.3145 - val_loss: 528699744.0000 - val_rmse: 22993.4727\n",
            "Epoch 8/100\n",
            "329/329 [==============================] - 6s 18ms/step - loss: 736599104.0000 - rmse: 27140.3594 - val_loss: 712195136.0000 - val_rmse: 26686.9844\n",
            "Epoch 9/100\n",
            "329/329 [==============================] - 5s 15ms/step - loss: 695619776.0000 - rmse: 26374.6055 - val_loss: 892696704.0000 - val_rmse: 29878.0312\n",
            "Epoch 10/100\n",
            "329/329 [==============================] - 6s 18ms/step - loss: 654110528.0000 - rmse: 25575.5840 - val_loss: 674546688.0000 - val_rmse: 25972.0371\n",
            "Epoch 11/100\n",
            "329/329 [==============================] - 5s 16ms/step - loss: 679145728.0000 - rmse: 26060.4238 - val_loss: 659904704.0000 - val_rmse: 25688.6113\n",
            "Epoch 12/100\n",
            "329/329 [==============================] - 5s 17ms/step - loss: 591594944.0000 - rmse: 24322.7246 - val_loss: 1405665664.0000 - val_rmse: 37492.2070\n",
            "Epoch 13/100\n",
            "329/329 [==============================] - 6s 17ms/step - loss: 628809792.0000 - rmse: 25076.0801 - val_loss: 491916032.0000 - val_rmse: 22179.1797\n",
            "Epoch 14/100\n",
            "329/329 [==============================] - 5s 15ms/step - loss: 554551424.0000 - rmse: 23548.9160 - val_loss: 569769408.0000 - val_rmse: 23869.8438\n",
            "Epoch 15/100\n",
            "329/329 [==============================] - 6s 18ms/step - loss: 546477696.0000 - rmse: 23376.8633 - val_loss: 456679552.0000 - val_rmse: 21370.0625\n",
            "Epoch 16/100\n",
            "329/329 [==============================] - 5s 16ms/step - loss: 490253920.0000 - rmse: 22141.6777 - val_loss: 512955040.0000 - val_rmse: 22648.5117\n",
            "Epoch 17/100\n",
            "329/329 [==============================] - 6s 18ms/step - loss: 479196448.0000 - rmse: 21890.5566 - val_loss: 594137472.0000 - val_rmse: 24374.9355\n",
            "Epoch 18/100\n",
            "329/329 [==============================] - 5s 15ms/step - loss: 474237248.0000 - rmse: 21776.9883 - val_loss: 624973824.0000 - val_rmse: 24999.4766\n",
            "Epoch 19/100\n",
            "329/329 [==============================] - 5s 15ms/step - loss: 428544192.0000 - rmse: 20701.3086 - val_loss: 553253824.0000 - val_rmse: 23521.3477\n",
            "Epoch 20/100\n",
            "329/329 [==============================] - 6s 18ms/step - loss: 468489376.0000 - rmse: 21644.6152 - val_loss: 441101952.0000 - val_rmse: 21002.4277\n",
            "Epoch 21/100\n",
            "329/329 [==============================] - 5s 16ms/step - loss: 407580480.0000 - rmse: 20188.6230 - val_loss: 436321088.0000 - val_rmse: 20888.3008\n",
            "Epoch 22/100\n",
            "329/329 [==============================] - 6s 18ms/step - loss: 402241312.0000 - rmse: 20055.9551 - val_loss: 415970304.0000 - val_rmse: 20395.3496\n",
            "Epoch 23/100\n",
            "329/329 [==============================] - 5s 15ms/step - loss: 364839424.0000 - rmse: 19100.7695 - val_loss: 600138368.0000 - val_rmse: 24497.7227\n",
            "Epoch 24/100\n",
            "329/329 [==============================] - 5s 17ms/step - loss: 388363968.0000 - rmse: 19706.9531 - val_loss: 361108448.0000 - val_rmse: 19002.8535\n",
            "Epoch 25/100\n",
            "329/329 [==============================] - 5s 16ms/step - loss: 322231744.0000 - rmse: 17950.8145 - val_loss: 364473728.0000 - val_rmse: 19091.1953\n",
            "Epoch 26/100\n",
            "329/329 [==============================] - 5s 15ms/step - loss: 309386336.0000 - rmse: 17589.3809 - val_loss: 493485472.0000 - val_rmse: 22214.5332\n",
            "Epoch 27/100\n",
            "329/329 [==============================] - 6s 18ms/step - loss: 293362752.0000 - rmse: 17127.8359 - val_loss: 420082112.0000 - val_rmse: 20495.9043\n",
            "Epoch 28/100\n",
            "329/329 [==============================] - 5s 16ms/step - loss: 291210368.0000 - rmse: 17064.8867 - val_loss: 283082656.0000 - val_rmse: 16825.0605\n",
            "Epoch 29/100\n",
            "329/329 [==============================] - 6s 18ms/step - loss: 286968512.0000 - rmse: 16940.1445 - val_loss: 314456064.0000 - val_rmse: 17732.9082\n",
            "Epoch 30/100\n",
            "329/329 [==============================] - 5s 15ms/step - loss: 218888912.0000 - rmse: 14794.8945 - val_loss: 379243520.0000 - val_rmse: 19474.1758\n",
            "Epoch 31/100\n",
            "329/329 [==============================] - 5s 14ms/step - loss: 222002832.0000 - rmse: 14899.7598 - val_loss: 255686768.0000 - val_rmse: 15990.2090\n",
            "Epoch 32/100\n",
            "329/329 [==============================] - 6s 18ms/step - loss: 201537856.0000 - rmse: 14196.4033 - val_loss: 233962736.0000 - val_rmse: 15295.8408\n",
            "Epoch 33/100\n",
            "329/329 [==============================] - 5s 15ms/step - loss: 196987344.0000 - rmse: 14035.2178 - val_loss: 203571456.0000 - val_rmse: 14267.8467\n",
            "Epoch 34/100\n",
            "329/329 [==============================] - 6s 18ms/step - loss: 231773120.0000 - rmse: 15224.0967 - val_loss: 206617056.0000 - val_rmse: 14374.1807\n",
            "Epoch 35/100\n",
            "329/329 [==============================] - 5s 16ms/step - loss: 169381520.0000 - rmse: 13014.6660 - val_loss: 238502224.0000 - val_rmse: 15443.5176\n",
            "Epoch 36/100\n",
            "329/329 [==============================] - 5s 15ms/step - loss: 155737296.0000 - rmse: 12479.4746 - val_loss: 224190288.0000 - val_rmse: 14972.9854\n",
            "Epoch 37/100\n",
            "329/329 [==============================] - 5s 17ms/step - loss: 153404528.0000 - rmse: 12385.6582 - val_loss: 143524736.0000 - val_rmse: 11980.1807\n",
            "Epoch 38/100\n",
            "329/329 [==============================] - 5s 14ms/step - loss: 145710736.0000 - rmse: 12071.0703 - val_loss: 148862144.0000 - val_rmse: 12200.9072\n",
            "Epoch 39/100\n",
            "329/329 [==============================] - 6s 17ms/step - loss: 116211512.0000 - rmse: 10780.1445 - val_loss: 122951192.0000 - val_rmse: 11088.3359\n",
            "Epoch 40/100\n",
            "329/329 [==============================] - 5s 14ms/step - loss: 127675600.0000 - rmse: 11299.3633 - val_loss: 138130368.0000 - val_rmse: 11752.8877\n",
            "Epoch 41/100\n",
            "329/329 [==============================] - 5s 14ms/step - loss: 106847560.0000 - rmse: 10336.7090 - val_loss: 330875584.0000 - val_rmse: 18189.9863\n",
            "Epoch 42/100\n",
            "329/329 [==============================] - 6s 17ms/step - loss: 118044200.0000 - rmse: 10864.8145 - val_loss: 101624888.0000 - val_rmse: 10080.9170\n",
            "Epoch 43/100\n",
            "329/329 [==============================] - 5s 14ms/step - loss: 123235824.0000 - rmse: 11101.1631 - val_loss: 161029840.0000 - val_rmse: 12689.7529\n",
            "Epoch 44/100\n",
            "329/329 [==============================] - 5s 16ms/step - loss: 113998896.0000 - rmse: 10677.0264 - val_loss: 113274600.0000 - val_rmse: 10643.0537\n",
            "Epoch 45/100\n",
            "329/329 [==============================] - 5s 15ms/step - loss: 92202984.0000 - rmse: 9602.2383 - val_loss: 70343800.0000 - val_rmse: 8387.1211\n",
            "Epoch 46/100\n",
            "329/329 [==============================] - 5s 14ms/step - loss: 87234648.0000 - rmse: 9339.9492 - val_loss: 76740800.0000 - val_rmse: 8760.1826\n",
            "Epoch 47/100\n",
            "329/329 [==============================] - 5s 16ms/step - loss: 78626240.0000 - rmse: 8867.1436 - val_loss: 52204744.0000 - val_rmse: 7225.2852\n",
            "Epoch 48/100\n",
            "329/329 [==============================] - 5s 14ms/step - loss: 80783992.0000 - rmse: 8987.9912 - val_loss: 68933616.0000 - val_rmse: 8302.6270\n",
            "Epoch 49/100\n",
            "329/329 [==============================] - 5s 14ms/step - loss: 75116360.0000 - rmse: 8666.9697 - val_loss: 75717456.0000 - val_rmse: 8701.5781\n",
            "Epoch 50/100\n",
            "329/329 [==============================] - 5s 17ms/step - loss: 72250112.0000 - rmse: 8500.0068 - val_loss: 106176440.0000 - val_rmse: 10304.1953\n",
            "Epoch 51/100\n",
            "329/329 [==============================] - 5s 14ms/step - loss: 71273400.0000 - rmse: 8442.3574 - val_loss: 97778344.0000 - val_rmse: 9888.2930\n",
            "Epoch 52/100\n",
            "329/329 [==============================] - 5s 16ms/step - loss: 74404072.0000 - rmse: 8625.7793 - val_loss: 85376256.0000 - val_rmse: 9239.9277\n",
            "Epoch 53/100\n",
            "329/329 [==============================] - 5s 14ms/step - loss: 59079544.0000 - rmse: 7686.3218 - val_loss: 49913956.0000 - val_rmse: 7064.9810\n",
            "Epoch 54/100\n",
            "329/329 [==============================] - 5s 14ms/step - loss: 68824880.0000 - rmse: 8296.0762 - val_loss: 48538500.0000 - val_rmse: 6966.9575\n",
            "Epoch 55/100\n",
            "329/329 [==============================] - 5s 16ms/step - loss: 47715228.0000 - rmse: 6907.6211 - val_loss: 45927976.0000 - val_rmse: 6777.0181\n",
            "Epoch 56/100\n",
            "329/329 [==============================] - 5s 14ms/step - loss: 45770720.0000 - rmse: 6765.4062 - val_loss: 58177156.0000 - val_rmse: 7627.3950\n",
            "Epoch 57/100\n",
            "329/329 [==============================] - 5s 16ms/step - loss: 45270428.0000 - rmse: 6728.3301 - val_loss: 78312248.0000 - val_rmse: 8849.4209\n",
            "Epoch 58/100\n",
            "329/329 [==============================] - 5s 16ms/step - loss: 46780916.0000 - rmse: 6839.6577 - val_loss: 55253620.0000 - val_rmse: 7433.2778\n",
            "Epoch 59/100\n",
            "329/329 [==============================] - 5s 15ms/step - loss: 56662336.0000 - rmse: 7527.4390 - val_loss: 24132810.0000 - val_rmse: 4912.5156\n",
            "Epoch 60/100\n",
            "329/329 [==============================] - 6s 17ms/step - loss: 48918864.0000 - rmse: 6994.2021 - val_loss: 40811552.0000 - val_rmse: 6388.3921\n",
            "Epoch 61/100\n",
            "329/329 [==============================] - 5s 15ms/step - loss: 45806492.0000 - rmse: 6768.0493 - val_loss: 66059916.0000 - val_rmse: 8127.7251\n",
            "Epoch 62/100\n",
            "329/329 [==============================] - 5s 16ms/step - loss: 42049048.0000 - rmse: 6484.5239 - val_loss: 50048672.0000 - val_rmse: 7074.5088\n",
            "Epoch 63/100\n",
            "329/329 [==============================] - 5s 17ms/step - loss: 47620212.0000 - rmse: 6900.7397 - val_loss: 38331848.0000 - val_rmse: 6191.2720\n",
            "Epoch 64/100\n",
            "329/329 [==============================] - 5s 15ms/step - loss: 33316062.0000 - rmse: 5772.0068 - val_loss: 34556252.0000 - val_rmse: 5878.4565\n",
            "Epoch 65/100\n",
            "329/329 [==============================] - 6s 17ms/step - loss: 32848124.0000 - rmse: 5731.3281 - val_loss: 15489231.0000 - val_rmse: 3935.6360\n",
            "Epoch 66/100\n",
            "329/329 [==============================] - 5s 15ms/step - loss: 45960144.0000 - rmse: 6779.3911 - val_loss: 62379288.0000 - val_rmse: 7898.0562\n",
            "Epoch 67/100\n",
            "329/329 [==============================] - 5s 16ms/step - loss: 47926384.0000 - rmse: 6922.8882 - val_loss: 66015148.0000 - val_rmse: 8124.9707\n",
            "Epoch 68/100\n",
            "329/329 [==============================] - 5s 17ms/step - loss: 53046248.0000 - rmse: 7283.2856 - val_loss: 24440712.0000 - val_rmse: 4943.7549\n",
            "Epoch 69/100\n",
            "329/329 [==============================] - 5s 15ms/step - loss: 28045590.0000 - rmse: 5295.8086 - val_loss: 30238440.0000 - val_rmse: 5498.9492\n",
            "Epoch 70/100\n",
            "329/329 [==============================] - 6s 18ms/step - loss: 46567720.0000 - rmse: 6824.0547 - val_loss: 49101540.0000 - val_rmse: 7007.2490\n",
            "Epoch 71/100\n",
            "329/329 [==============================] - 5s 14ms/step - loss: 29439764.0000 - rmse: 5425.8423 - val_loss: 25214414.0000 - val_rmse: 5021.3955\n",
            "Epoch 72/100\n",
            "329/329 [==============================] - 5s 17ms/step - loss: 42249864.0000 - rmse: 6499.9897 - val_loss: 16733531.0000 - val_rmse: 4090.6638\n",
            "Epoch 73/100\n",
            "329/329 [==============================] - 5s 17ms/step - loss: 27936058.0000 - rmse: 5285.4570 - val_loss: 20082766.0000 - val_rmse: 4481.3799\n",
            "Epoch 74/100\n",
            "329/329 [==============================] - 5s 15ms/step - loss: 27208200.0000 - rmse: 5216.1479 - val_loss: 42243932.0000 - val_rmse: 6499.5332\n",
            "Epoch 75/100\n",
            "329/329 [==============================] - 6s 18ms/step - loss: 56291116.0000 - rmse: 7502.7407 - val_loss: 30482212.0000 - val_rmse: 5521.0698\n",
            "Epoch 76/100\n",
            "329/329 [==============================] - 5s 15ms/step - loss: 32285432.0000 - rmse: 5682.0273 - val_loss: 30577320.0000 - val_rmse: 5529.6763\n",
            "Epoch 77/100\n",
            "329/329 [==============================] - 6s 17ms/step - loss: 18074176.0000 - rmse: 4251.3735 - val_loss: 23044002.0000 - val_rmse: 4800.4170\n",
            "Epoch 78/100\n",
            "329/329 [==============================] - 5s 15ms/step - loss: 31044252.0000 - rmse: 5571.7368 - val_loss: 21275598.0000 - val_rmse: 4612.5479\n",
            "Epoch 79/100\n",
            "329/329 [==============================] - 5s 16ms/step - loss: 38388540.0000 - rmse: 6195.8486 - val_loss: 23847146.0000 - val_rmse: 4883.3540\n",
            "Epoch 80/100\n",
            "329/329 [==============================] - 6s 18ms/step - loss: 23941742.0000 - rmse: 4893.0298 - val_loss: 17660978.0000 - val_rmse: 4202.4966\n",
            "Epoch 81/100\n",
            "329/329 [==============================] - 5s 15ms/step - loss: 34444840.0000 - rmse: 5868.9727 - val_loss: 29437580.0000 - val_rmse: 5425.6411\n",
            "Epoch 82/100\n",
            "329/329 [==============================] - 6s 18ms/step - loss: 28269152.0000 - rmse: 5316.8745 - val_loss: 37922060.0000 - val_rmse: 6158.0889\n",
            "Epoch 83/100\n",
            "329/329 [==============================] - 5s 15ms/step - loss: 52057824.0000 - rmse: 7215.1108 - val_loss: 29219894.0000 - val_rmse: 5405.5430\n",
            "Epoch 84/100\n",
            "329/329 [==============================] - 5s 15ms/step - loss: 28663860.0000 - rmse: 5353.8643 - val_loss: 16512729.0000 - val_rmse: 4063.5857\n",
            "Epoch 85/100\n",
            "329/329 [==============================] - 6s 17ms/step - loss: 15853210.0000 - rmse: 3981.6089 - val_loss: 10091984.0000 - val_rmse: 3176.7883\n",
            "Epoch 86/100\n",
            "329/329 [==============================] - 5s 15ms/step - loss: 16489427.0000 - rmse: 4060.7175 - val_loss: 16370579.0000 - val_rmse: 4046.0571\n",
            "Epoch 87/100\n",
            "329/329 [==============================] - 6s 17ms/step - loss: 61202564.0000 - rmse: 7823.2065 - val_loss: 275121984.0000 - val_rmse: 16586.8008\n",
            "Epoch 88/100\n",
            "329/329 [==============================] - 5s 15ms/step - loss: 61915624.0000 - rmse: 7868.6479 - val_loss: 16869042.0000 - val_rmse: 4107.1938\n",
            "Epoch 89/100\n",
            "329/329 [==============================] - 5s 14ms/step - loss: 16480942.0000 - rmse: 4059.6726 - val_loss: 10897483.0000 - val_rmse: 3301.1335\n",
            "Epoch 90/100\n",
            "329/329 [==============================] - 6s 17ms/step - loss: 15784486.0000 - rmse: 3972.9695 - val_loss: 9565835.0000 - val_rmse: 3092.8684\n",
            "Epoch 91/100\n",
            "329/329 [==============================] - 5s 15ms/step - loss: 26305104.0000 - rmse: 5128.8501 - val_loss: 21481284.0000 - val_rmse: 4634.7905\n",
            "Epoch 92/100\n",
            "329/329 [==============================] - 6s 17ms/step - loss: 25624004.0000 - rmse: 5062.0156 - val_loss: 11704546.0000 - val_rmse: 3421.1907\n",
            "Epoch 93/100\n",
            "329/329 [==============================] - 5s 14ms/step - loss: 22385058.0000 - rmse: 4731.2852 - val_loss: 21275516.0000 - val_rmse: 4612.5391\n",
            "Epoch 94/100\n",
            "329/329 [==============================] - 5s 14ms/step - loss: 29654712.0000 - rmse: 5445.6143 - val_loss: 47849788.0000 - val_rmse: 6917.3540\n",
            "Epoch 95/100\n",
            "329/329 [==============================] - 5s 17ms/step - loss: 17816658.0000 - rmse: 4220.9785 - val_loss: 14969754.0000 - val_rmse: 3869.0767\n",
            "Epoch 96/100\n",
            "329/329 [==============================] - 5s 14ms/step - loss: 15232407.0000 - rmse: 3902.8716 - val_loss: 11709752.0000 - val_rmse: 3421.9514\n",
            "Epoch 97/100\n",
            "329/329 [==============================] - 5s 16ms/step - loss: 31495104.0000 - rmse: 5612.0498 - val_loss: 12049794.0000 - val_rmse: 3471.2812\n",
            "Epoch 98/100\n",
            "329/329 [==============================] - 5s 15ms/step - loss: 20129954.0000 - rmse: 4486.6416 - val_loss: 25443500.0000 - val_rmse: 5044.1553\n",
            "Epoch 99/100\n",
            "329/329 [==============================] - 5s 15ms/step - loss: 32046288.0000 - rmse: 5660.9438 - val_loss: 20522724.0000 - val_rmse: 4530.2012\n",
            "Epoch 100/100\n",
            "329/329 [==============================] - 6s 17ms/step - loss: 18926792.0000 - rmse: 4350.4932 - val_loss: 39332612.0000 - val_rmse: 6271.5718\n"
          ]
        },
        {
          "output_type": "execute_result",
          "data": {
            "text/plain": [
              "<keras.src.callbacks.History at 0x7e8d1dc71000>"
            ]
          },
          "metadata": {},
          "execution_count": 138
        }
      ]
    },
    {
      "cell_type": "markdown",
      "source": [
        "# Predicton"
      ],
      "metadata": {
        "id": "GVeqLTu95CfR"
      }
    },
    {
      "cell_type": "code",
      "source": [
        "# Read train data\n",
        "\n",
        "test_df = pd.read_csv('test.csv')\n",
        "\n",
        "ids = test_df['Id'].values.astype(int)\n",
        "test_df = replace_nans(test_df)\n",
        "preprocessed_test_df = preprocessDataset(test_df)\n",
        "\n"
      ],
      "metadata": {
        "id": "oBYQYMvy5EmZ"
      },
      "execution_count": 139,
      "outputs": []
    },
    {
      "cell_type": "code",
      "source": [
        "#print(preprocessed_test_df.shape)\n",
        "\n",
        "unique_to_preprocessed_df = preprocessed_df.columns.difference(preprocessed_test_df.columns)\n",
        "#print(unique_to_preprocessed_df)\n",
        "\n",
        "# Populate difference of columns in test_Df\n",
        "for column in unique_to_preprocessed_df:\n",
        "    preprocessed_test_df[column] = 0\n",
        "\n",
        "# maintain order of the columns too:\n",
        "ordered_columns = [col for col in preprocessed_df.columns if col in preprocessed_test_df.columns]\n",
        "\n",
        "preprocessed_test_df = preprocessed_test_df[ordered_columns]\n",
        "preprocessed_test_df.drop('SalePrice', axis=1, inplace=True)\n",
        "\n",
        "# check difference again:\n",
        "unique_to_preprocessed_df = preprocessed_df.columns.difference(preprocessed_test_df.columns)\n",
        "#print(unique_to_preprocessed_df)\n",
        "\n",
        "#print(\"Shape of train: \" + str(preprocessed_df.shape) + \" Shape of test: \" + str(preprocessed_test_df.shape))\n",
        "\n"
      ],
      "metadata": {
        "colab": {
          "base_uri": "https://localhost:8080/"
        },
        "id": "evWooZrz6a2H",
        "outputId": "0079b1c4-3f7c-4668-b181-6d9e9f4ca61a"
      },
      "execution_count": 140,
      "outputs": [
        {
          "output_type": "stream",
          "name": "stderr",
          "text": [
            "<ipython-input-140-ec42950fbb20>:14: SettingWithCopyWarning: \n",
            "A value is trying to be set on a copy of a slice from a DataFrame\n",
            "\n",
            "See the caveats in the documentation: https://pandas.pydata.org/pandas-docs/stable/user_guide/indexing.html#returning-a-view-versus-a-copy\n",
            "  preprocessed_test_df.drop('SalePrice', axis=1, inplace=True)\n"
          ]
        }
      ]
    },
    {
      "cell_type": "code",
      "source": [
        "predictions = model.predict(preprocessed_test_df)"
      ],
      "metadata": {
        "colab": {
          "base_uri": "https://localhost:8080/"
        },
        "id": "6apA9BKm5NOY",
        "outputId": "6e899591-73c2-4a21-f604-8531c765530b"
      },
      "execution_count": 141,
      "outputs": [
        {
          "output_type": "stream",
          "name": "stdout",
          "text": [
            "46/46 [==============================] - 0s 5ms/step\n"
          ]
        }
      ]
    },
    {
      "cell_type": "code",
      "source": [
        "# concatenate predictions with ids and store to file.\n",
        "\n",
        "result = np.column_stack((ids, predictions))\n",
        "\n",
        "print(\"Predictions shape: \" + str(predictions.shape))\n",
        "print(\"ids shape: \" + str(ids.shape))\n",
        "print(\"result shape: \" + str(result.shape))"
      ],
      "metadata": {
        "colab": {
          "base_uri": "https://localhost:8080/"
        },
        "id": "_migelCQ6T3X",
        "outputId": "5080dbe4-b452-48f6-a6bd-454c8c99b41f"
      },
      "execution_count": 142,
      "outputs": [
        {
          "output_type": "stream",
          "name": "stdout",
          "text": [
            "Predictions shape: (1459, 1)\n",
            "ids shape: (1459,)\n",
            "result shape: (1459, 2)\n"
          ]
        }
      ]
    },
    {
      "cell_type": "code",
      "source": [
        "\n",
        "result_df = pd.DataFrame(result, columns=['Id', 'SalePrice'])\n",
        "result_df['Id'] = result_df['Id'].astype(int)\n",
        "\n",
        "\n",
        "# Save the DataFrame to a CSV file\n",
        "result_df.to_csv('predictions.csv', index=False)\n"
      ],
      "metadata": {
        "id": "3CSbpZB1-mei"
      },
      "execution_count": 143,
      "outputs": []
    },
    {
      "cell_type": "code",
      "source": [
        "print(\"Current Working Directory:\", os.getcwd())\n"
      ],
      "metadata": {
        "colab": {
          "base_uri": "https://localhost:8080/"
        },
        "id": "PXdWVuCq_i2L",
        "outputId": "ddba4466-93cc-4874-b659-a93fe3edc34a"
      },
      "execution_count": null,
      "outputs": [
        {
          "output_type": "stream",
          "name": "stdout",
          "text": [
            "Current Working Directory: /content\n"
          ]
        }
      ]
    },
    {
      "cell_type": "code",
      "source": [],
      "metadata": {
        "id": "oM4fncpSED14"
      },
      "execution_count": null,
      "outputs": []
    }
  ]
}