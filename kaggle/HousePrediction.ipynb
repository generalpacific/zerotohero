{
  "nbformat": 4,
  "nbformat_minor": 0,
  "metadata": {
    "colab": {
      "provenance": [],
      "authorship_tag": "ABX9TyOFLYBNu5KOx7HoGVnFCFKY"
    },
    "kernelspec": {
      "name": "python3",
      "display_name": "Python 3"
    },
    "language_info": {
      "name": "python"
    }
  },
  "cells": [
    {
      "cell_type": "markdown",
      "source": [
        "### Add Imports"
      ],
      "metadata": {
        "id": "Fb-MSCDkOYQ-"
      }
    },
    {
      "cell_type": "code",
      "source": [
        "import numpy as np\n",
        "import copy\n",
        "import os\n",
        "import matplotlib.pyplot as plt\n",
        "import sklearn\n",
        "import sklearn.datasets\n",
        "import sklearn.linear_model\n",
        "import pandas as pd\n",
        "from sklearn.preprocessing import MinMaxScaler\n",
        "\n",
        "import tensorflow as tf\n",
        "from tensorflow.keras.models import Sequential\n",
        "from tensorflow.keras.layers import Dense\n",
        "\n",
        "\n",
        "%matplotlib inline\n",
        "\n",
        "%load_ext autoreload\n",
        "%autoreload 2"
      ],
      "metadata": {
        "colab": {
          "base_uri": "https://localhost:8080/"
        },
        "id": "iHLhJwHZOZtG",
        "outputId": "2061299f-5fd8-41b8-8fb8-80b643e0757e"
      },
      "execution_count": 112,
      "outputs": [
        {
          "output_type": "stream",
          "name": "stdout",
          "text": [
            "The autoreload extension is already loaded. To reload it, use:\n",
            "  %reload_ext autoreload\n"
          ]
        }
      ]
    },
    {
      "cell_type": "markdown",
      "source": [
        "### Read dataset and print the shapes"
      ],
      "metadata": {
        "id": "x9ae3KsfOemE"
      }
    },
    {
      "cell_type": "code",
      "source": [
        "df = pd.read_csv('train.csv')\n",
        "\n",
        "feature_names = df.columns\n",
        "X = df.iloc[:, :-1].values\n",
        "Y = df.iloc[:, -1].values"
      ],
      "metadata": {
        "id": "pfU-HUKTRabe"
      },
      "execution_count": 85,
      "outputs": []
    },
    {
      "cell_type": "code",
      "source": [
        "print(\"Feature Names: \")\n",
        "print(feature_names)\n",
        "print(\"Features Matrix (X):\")\n",
        "print(X[:2])\n",
        "print(\"\\nTarget Vector (Y):\")\n",
        "print(Y[:2])"
      ],
      "metadata": {
        "colab": {
          "base_uri": "https://localhost:8080/"
        },
        "id": "uwfPMEg2OxOk",
        "outputId": "5dbd7d06-9b75-4971-da06-69be2eadd4c1"
      },
      "execution_count": 51,
      "outputs": [
        {
          "output_type": "stream",
          "name": "stdout",
          "text": [
            "Feature Names: \n",
            "Index(['Id', 'MSSubClass', 'MSZoning', 'LotFrontage', 'LotArea', 'Street',\n",
            "       'Alley', 'LotShape', 'LandContour', 'Utilities', 'LotConfig',\n",
            "       'LandSlope', 'Neighborhood', 'Condition1', 'Condition2', 'BldgType',\n",
            "       'HouseStyle', 'OverallQual', 'OverallCond', 'YearBuilt', 'YearRemodAdd',\n",
            "       'RoofStyle', 'RoofMatl', 'Exterior1st', 'Exterior2nd', 'MasVnrType',\n",
            "       'MasVnrArea', 'ExterQual', 'ExterCond', 'Foundation', 'BsmtQual',\n",
            "       'BsmtCond', 'BsmtExposure', 'BsmtFinType1', 'BsmtFinSF1',\n",
            "       'BsmtFinType2', 'BsmtFinSF2', 'BsmtUnfSF', 'TotalBsmtSF', 'Heating',\n",
            "       'HeatingQC', 'CentralAir', 'Electrical', '1stFlrSF', '2ndFlrSF',\n",
            "       'LowQualFinSF', 'GrLivArea', 'BsmtFullBath', 'BsmtHalfBath', 'FullBath',\n",
            "       'HalfBath', 'BedroomAbvGr', 'KitchenAbvGr', 'KitchenQual',\n",
            "       'TotRmsAbvGrd', 'Functional', 'Fireplaces', 'FireplaceQu', 'GarageType',\n",
            "       'GarageYrBlt', 'GarageFinish', 'GarageCars', 'GarageArea', 'GarageQual',\n",
            "       'GarageCond', 'PavedDrive', 'WoodDeckSF', 'OpenPorchSF',\n",
            "       'EnclosedPorch', '3SsnPorch', 'ScreenPorch', 'PoolArea', 'PoolQC',\n",
            "       'Fence', 'MiscFeature', 'MiscVal', 'MoSold', 'YrSold', 'SaleType',\n",
            "       'SaleCondition', 'SalePrice'],\n",
            "      dtype='object')\n",
            "Features Matrix (X):\n",
            "[[1 60 'RL' 65.0 8450 'Pave' nan 'Reg' 'Lvl' 'AllPub' 'Inside' 'Gtl'\n",
            "  'CollgCr' 'Norm' 'Norm' '1Fam' '2Story' 7 5 2003 2003 'Gable' 'CompShg'\n",
            "  'VinylSd' 'VinylSd' 'BrkFace' 196.0 'Gd' 'TA' 'PConc' 'Gd' 'TA' 'No'\n",
            "  'GLQ' 706 'Unf' 0 150 856 'GasA' 'Ex' 'Y' 'SBrkr' 856 854 0 1710 1 0 2\n",
            "  1 3 1 'Gd' 8 'Typ' 0 nan 'Attchd' 2003.0 'RFn' 2 548 'TA' 'TA' 'Y' 0 61\n",
            "  0 0 0 0 nan nan nan 0 2 2008 'WD' 'Normal']\n",
            " [2 20 'RL' 80.0 9600 'Pave' nan 'Reg' 'Lvl' 'AllPub' 'FR2' 'Gtl'\n",
            "  'Veenker' 'Feedr' 'Norm' '1Fam' '1Story' 6 8 1976 1976 'Gable'\n",
            "  'CompShg' 'MetalSd' 'MetalSd' 'None' 0.0 'TA' 'TA' 'CBlock' 'Gd' 'TA'\n",
            "  'Gd' 'ALQ' 978 'Unf' 0 284 1262 'GasA' 'Ex' 'Y' 'SBrkr' 1262 0 0 1262 0\n",
            "  1 2 0 3 1 'TA' 6 'Typ' 1 'TA' 'Attchd' 1976.0 'RFn' 2 460 'TA' 'TA' 'Y'\n",
            "  298 0 0 0 0 0 nan nan nan 0 5 2007 'WD' 'Normal']]\n",
            "\n",
            "Target Vector (Y):\n",
            "[208500 181500]\n"
          ]
        }
      ]
    },
    {
      "cell_type": "markdown",
      "source": [
        "### See features"
      ],
      "metadata": {
        "id": "2JtuGb15OmvX"
      }
    },
    {
      "cell_type": "markdown",
      "source": [
        "##### See Unique values per column"
      ],
      "metadata": {
        "id": "A9fJyyGMS3rS"
      }
    },
    {
      "cell_type": "code",
      "source": [
        "def create_ranges(series, num_bins=20):\n",
        "    min_val, max_val = series.min(), series.max()\n",
        "    range_step = (max_val - min_val) / num_bins\n",
        "    ranges = [f\"{min_val + range_step * i:.2f} - {min_val + range_step * (i+1):.2f}\" for i in range(num_bins)]\n",
        "    return ranges\n",
        "\n",
        "def print_ranges(df):\n",
        "  for column in df.columns:\n",
        "      unique_values = df[column].unique()\n",
        "\n",
        "      if unique_values.size > 20 and np.issubdtype(df[column].dtype, np.number):\n",
        "            print(f\"Column '{column}' has more than 20 unique numeric values. Creating ranges:\")\n",
        "            print(create_ranges(df[column]))\n",
        "      else:\n",
        "        print(f\"Unique values in '{column}':\")\n",
        "        print(unique_values)\n",
        "      print()\n",
        "\n",
        "print_ranges(df)"
      ],
      "metadata": {
        "id": "LJsRjbfQOpLx"
      },
      "execution_count": null,
      "outputs": []
    },
    {
      "cell_type": "markdown",
      "source": [
        "##### Check for Nans"
      ],
      "metadata": {
        "id": "OQymkpXSbZaG"
      }
    },
    {
      "cell_type": "code",
      "source": [
        "def replaceNans(df):\n",
        "  df_numeric = df.select_dtypes(include=[np.number])\n",
        "  df[df_numeric.columns] = df_numeric.fillna(0)\n",
        "  return df\n",
        "\n",
        "df = replaceNans(df)"
      ],
      "metadata": {
        "id": "zovtjadPboCP"
      },
      "execution_count": 86,
      "outputs": []
    },
    {
      "cell_type": "markdown",
      "source": [
        "### Feature Engineering"
      ],
      "metadata": {
        "id": "16eNG8YcOp1B"
      }
    },
    {
      "cell_type": "code",
      "source": [
        "def preprocessDataset(df):\n",
        "  numerical_data = df.select_dtypes(include=['int64', 'float64'])\n",
        "  categorical_data = df.select_dtypes(include=['object'])\n",
        "\n",
        "  # One hot encoding for categories\n",
        "  categorical_data_encoded = pd.get_dummies(categorical_data)\n",
        "\n",
        "  # Apply Min-Max Scaling to numerical data\n",
        "  scaler = MinMaxScaler()\n",
        "  numerical_data_scaled = scaler.fit_transform(numerical_data)\n",
        "  numerical_data_scaled_df = pd.DataFrame(numerical_data_scaled, columns=numerical_data.columns)\n",
        "\n",
        "  preprocessed_df = pd.concat([numerical_data_scaled_df, categorical_data_encoded], axis=1)\n",
        "  preprocessed_df.drop('Id', axis=1, inplace=True)\n",
        "  return preprocessed_df\n",
        "\n",
        "preprocessed_df = preprocessDataset(df)\n",
        "#print(preprocessed_df)"
      ],
      "metadata": {
        "id": "QiNJmrnROtFd"
      },
      "execution_count": 96,
      "outputs": []
    },
    {
      "cell_type": "code",
      "source": [
        "preprocessed_X = preprocessed_df.iloc[:, :-1].values\n",
        "Y = preprocessed_df.iloc[:, -1].values"
      ],
      "metadata": {
        "id": "IzigsJNq7fek"
      },
      "execution_count": 97,
      "outputs": []
    },
    {
      "cell_type": "code",
      "source": [
        "print(preprocessed_X.shape)"
      ],
      "metadata": {
        "colab": {
          "base_uri": "https://localhost:8080/"
        },
        "id": "aabSEXKg6kfq",
        "outputId": "3f4d0a8e-128d-4bf9-a63c-0d37d82d2b79"
      },
      "execution_count": 98,
      "outputs": [
        {
          "output_type": "stream",
          "name": "stdout",
          "text": [
            "(1460, 288)\n"
          ]
        }
      ]
    },
    {
      "cell_type": "markdown",
      "source": [
        "#### Train"
      ],
      "metadata": {
        "id": "xRjhQu2DZryX"
      }
    },
    {
      "cell_type": "code",
      "source": [
        "input_shape = (preprocessed_X.shape[1],)\n",
        "model = Sequential([\n",
        "    Dense(512, input_shape=input_shape),\n",
        "    Dense(256),\n",
        "    Dense(100),\n",
        "    Dense(1)\n",
        "])\n",
        "\n",
        "model.compile(optimizer='adam',\n",
        "              loss='mean_squared_error',\n",
        "              metrics=['mae'])"
      ],
      "metadata": {
        "id": "ljFX0zGyZwRl"
      },
      "execution_count": 90,
      "outputs": []
    },
    {
      "cell_type": "code",
      "source": [
        "model.fit(preprocessed_X, Y, epochs=1000, batch_size=32)\n"
      ],
      "metadata": {
        "id": "-MMEj1QQaqV1"
      },
      "execution_count": null,
      "outputs": []
    },
    {
      "cell_type": "markdown",
      "source": [
        "# Predicton"
      ],
      "metadata": {
        "id": "GVeqLTu95CfR"
      }
    },
    {
      "cell_type": "code",
      "source": [
        "# Read train data\n",
        "\n",
        "test_df = pd.read_csv('test.csv')\n",
        "\n",
        "ids = test_df['Id'].values.astype(int)\n",
        "test_df = replaceNans(test_df)\n",
        "preprocessed_test_df = preprocessDataset(test_df)\n",
        "\n"
      ],
      "metadata": {
        "id": "oBYQYMvy5EmZ"
      },
      "execution_count": 114,
      "outputs": []
    },
    {
      "cell_type": "code",
      "source": [
        "print(preprocessed_test_df.shape)\n",
        "\n",
        "unique_to_preprocessed_df = preprocessed_df.columns.difference(preprocessed_test_df.columns)\n",
        "print(unique_to_preprocessed_df)\n",
        "\n",
        "# Populate difference of columns in test_Df\n",
        "for column in unique_to_preprocessed_df:\n",
        "    preprocessed_test_df[column] = 0\n",
        "\n",
        "# maintain order of the columns too:\n",
        "ordered_columns = [col for col in preprocessed_df.columns if col in preprocessed_test_df.columns]\n",
        "\n",
        "preprocessed_test_df = preprocessed_test_df[ordered_columns]\n",
        "preprocessed_test_df.drop('SalePrice', axis=1, inplace=True)\n",
        "\n",
        "# check difference again:\n",
        "unique_to_preprocessed_df = preprocessed_df.columns.difference(preprocessed_test_df.columns)\n",
        "print(unique_to_preprocessed_df)\n",
        "\n",
        "print(\"Shape of train: \" + str(preprocessed_df.shape) + \" Shape of test: \" + str(preprocessed_test_df.shape))\n",
        "\n"
      ],
      "metadata": {
        "colab": {
          "base_uri": "https://localhost:8080/"
        },
        "id": "evWooZrz6a2H",
        "outputId": "bfcacf58-b967-4ee7-9f6c-f966274641b7"
      },
      "execution_count": 107,
      "outputs": [
        {
          "output_type": "stream",
          "name": "stdout",
          "text": [
            "(1459, 270)\n",
            "Index(['Condition2_RRAe', 'Condition2_RRAn', 'Condition2_RRNn',\n",
            "       'Electrical_Mix', 'Exterior1st_ImStucc', 'Exterior1st_Stone',\n",
            "       'Exterior2nd_Other', 'GarageQual_Ex', 'Heating_Floor', 'Heating_OthW',\n",
            "       'HouseStyle_2.5Fin', 'MiscFeature_TenC', 'PoolQC_Fa',\n",
            "       'RoofMatl_ClyTile', 'RoofMatl_Membran', 'RoofMatl_Metal',\n",
            "       'RoofMatl_Roll', 'SalePrice', 'Utilities_NoSeWa'],\n",
            "      dtype='object')\n",
            "Index(['SalePrice'], dtype='object')\n",
            "Shape of train: (1460, 289) Shape of test: (1459, 288)\n"
          ]
        },
        {
          "output_type": "stream",
          "name": "stderr",
          "text": [
            "<ipython-input-107-0cd5a408a60a>:14: SettingWithCopyWarning: \n",
            "A value is trying to be set on a copy of a slice from a DataFrame\n",
            "\n",
            "See the caveats in the documentation: https://pandas.pydata.org/pandas-docs/stable/user_guide/indexing.html#returning-a-view-versus-a-copy\n",
            "  preprocessed_test_df.drop('SalePrice', axis=1, inplace=True)\n"
          ]
        }
      ]
    },
    {
      "cell_type": "code",
      "source": [
        "predictions = model.predict(preprocessed_test_df)"
      ],
      "metadata": {
        "colab": {
          "base_uri": "https://localhost:8080/"
        },
        "id": "6apA9BKm5NOY",
        "outputId": "03639eef-3d62-49c4-8058-68d052625e4d"
      },
      "execution_count": 108,
      "outputs": [
        {
          "output_type": "stream",
          "name": "stdout",
          "text": [
            "46/46 [==============================] - 0s 4ms/step\n"
          ]
        }
      ]
    },
    {
      "cell_type": "code",
      "source": [
        "# concatenate predictions with ids and store to file.\n",
        "\n",
        "result = np.column_stack((ids, predictions))\n",
        "\n",
        "print(\"Predictions shape: \" + str(predictions.shape))\n",
        "print(\"ids shape: \" + str(ids.shape))\n",
        "print(\"result shape: \" + str(result.shape))"
      ],
      "metadata": {
        "colab": {
          "base_uri": "https://localhost:8080/"
        },
        "id": "_migelCQ6T3X",
        "outputId": "4ac19eeb-2683-4247-d92c-416d2fe38d9e"
      },
      "execution_count": 115,
      "outputs": [
        {
          "output_type": "stream",
          "name": "stdout",
          "text": [
            "Predictions shape: (1459, 1)\n",
            "ids shape: (1459,)\n",
            "result shape: (1459, 2)\n"
          ]
        }
      ]
    },
    {
      "cell_type": "code",
      "source": [
        "\n",
        "result_df = pd.DataFrame(result, columns=['Id', 'SalePrice'])\n",
        "result_df['Id'] = result_df['Id'].astype(int)\n",
        "\n",
        "\n",
        "# Save the DataFrame to a CSV file\n",
        "result_df.to_csv('predictions.csv', index=False)\n"
      ],
      "metadata": {
        "id": "3CSbpZB1-mei"
      },
      "execution_count": 117,
      "outputs": []
    },
    {
      "cell_type": "code",
      "source": [
        "print(\"Current Working Directory:\", os.getcwd())\n"
      ],
      "metadata": {
        "colab": {
          "base_uri": "https://localhost:8080/"
        },
        "id": "PXdWVuCq_i2L",
        "outputId": "ddba4466-93cc-4874-b659-a93fe3edc34a"
      },
      "execution_count": 113,
      "outputs": [
        {
          "output_type": "stream",
          "name": "stdout",
          "text": [
            "Current Working Directory: /content\n"
          ]
        }
      ]
    },
    {
      "cell_type": "code",
      "source": [],
      "metadata": {
        "id": "oM4fncpSED14"
      },
      "execution_count": null,
      "outputs": []
    }
  ]
}