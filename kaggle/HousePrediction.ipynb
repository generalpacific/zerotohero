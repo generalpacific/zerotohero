{
  "nbformat": 4,
  "nbformat_minor": 0,
  "metadata": {
    "colab": {
      "provenance": [],
      "authorship_tag": "ABX9TyOeBHhS28GBMINFw7VPI0bl"
    },
    "kernelspec": {
      "name": "python3",
      "display_name": "Python 3"
    },
    "language_info": {
      "name": "python"
    }
  },
  "cells": [
    {
      "cell_type": "markdown",
      "source": [
        "### Add Imports"
      ],
      "metadata": {
        "id": "Fb-MSCDkOYQ-"
      }
    },
    {
      "cell_type": "code",
      "source": [
        "import numpy as np\n",
        "import copy\n",
        "import os\n",
        "import matplotlib.pyplot as plt\n",
        "import sklearn\n",
        "import sklearn.datasets\n",
        "import sklearn.linear_model\n",
        "import pandas as pd\n",
        "from sklearn.preprocessing import MinMaxScaler\n",
        "\n",
        "import tensorflow as tf\n",
        "from tensorflow.keras.models import Sequential\n",
        "from tensorflow.keras.layers import Dense\n",
        "\n",
        "\n",
        "%matplotlib inline\n",
        "\n",
        "%load_ext autoreload\n",
        "%autoreload 2"
      ],
      "metadata": {
        "id": "iHLhJwHZOZtG"
      },
      "execution_count": 1,
      "outputs": []
    },
    {
      "cell_type": "markdown",
      "source": [
        "### Read dataset and print the shapes"
      ],
      "metadata": {
        "id": "x9ae3KsfOemE"
      }
    },
    {
      "cell_type": "code",
      "source": [
        "df = pd.read_csv('train.csv')\n",
        "\n",
        "feature_names = df.columns\n",
        "X = df.iloc[:, :-1].values\n",
        "Y = df.iloc[:, -1].values"
      ],
      "metadata": {
        "id": "pfU-HUKTRabe"
      },
      "execution_count": 2,
      "outputs": []
    },
    {
      "cell_type": "code",
      "source": [
        "#print(\"Feature Names: \")\n",
        "#print(feature_names)\n",
        "#print(\"Features Matrix (X):\")\n",
        "#print(X[:2])\n",
        "#print(\"\\nTarget Vector (Y):\")\n",
        "#print(Y[:2])"
      ],
      "metadata": {
        "id": "uwfPMEg2OxOk"
      },
      "execution_count": null,
      "outputs": []
    },
    {
      "cell_type": "markdown",
      "source": [
        "### See features"
      ],
      "metadata": {
        "id": "2JtuGb15OmvX"
      }
    },
    {
      "cell_type": "markdown",
      "source": [
        "##### See Unique values per column"
      ],
      "metadata": {
        "id": "A9fJyyGMS3rS"
      }
    },
    {
      "cell_type": "code",
      "source": [
        "def create_ranges(series, num_bins=20):\n",
        "    min_val, max_val = series.min(), series.max()\n",
        "    range_step = (max_val - min_val) / num_bins\n",
        "    ranges = [f\"{min_val + range_step * i:.2f} - {min_val + range_step * (i+1):.2f}\" for i in range(num_bins)]\n",
        "    return ranges\n",
        "\n",
        "def print_ranges(df):\n",
        "  for column in df.columns:\n",
        "      unique_values = df[column].unique()\n",
        "\n",
        "      if unique_values.size > 20 and np.issubdtype(df[column].dtype, np.number):\n",
        "            print(f\"Column '{column}' has more than 20 unique numeric values. Creating ranges:\")\n",
        "            print(create_ranges(df[column]))\n",
        "      else:\n",
        "        print(f\"Unique values in '{column}':\")\n",
        "        print(unique_values)\n",
        "      print()\n",
        "\n",
        "#print_ranges(df)"
      ],
      "metadata": {
        "id": "LJsRjbfQOpLx"
      },
      "execution_count": null,
      "outputs": []
    },
    {
      "cell_type": "markdown",
      "source": [
        "##### Check for Nans"
      ],
      "metadata": {
        "id": "OQymkpXSbZaG"
      }
    },
    {
      "cell_type": "code",
      "source": [
        "def replace_nans(df):\n",
        "  df_numeric = df.select_dtypes(include=[np.number])\n",
        "  df[df_numeric.columns] = df_numeric.fillna(0)\n",
        "  return df\n",
        "\n",
        "df = replace_nans(df)"
      ],
      "metadata": {
        "id": "zovtjadPboCP"
      },
      "execution_count": 3,
      "outputs": []
    },
    {
      "cell_type": "markdown",
      "source": [
        "### Feature Engineering"
      ],
      "metadata": {
        "id": "16eNG8YcOp1B"
      }
    },
    {
      "cell_type": "code",
      "source": [
        "def preprocessDataset(df):\n",
        "  numerical_data = df.select_dtypes(include=['int64', 'float64'])\n",
        "  categorical_data = df.select_dtypes(include=['object'])\n",
        "\n",
        "  # One hot encoding for categories\n",
        "  categorical_data_encoded = pd.get_dummies(categorical_data)\n",
        "\n",
        "  # Apply Min-Max Scaling to numerical data\n",
        "  scaler = MinMaxScaler()\n",
        "  numerical_data_scaled = scaler.fit_transform(numerical_data)\n",
        "  numerical_data_scaled_df = pd.DataFrame(numerical_data_scaled, columns=numerical_data.columns)\n",
        "\n",
        "  preprocessed_df = pd.concat([numerical_data_scaled_df, categorical_data_encoded], axis=1)\n",
        "  preprocessed_df.drop('Id', axis=1, inplace=True)\n",
        "  return preprocessed_df\n",
        "\n",
        "preprocessed_df = preprocessDataset(df)\n",
        "#print(preprocessed_df)"
      ],
      "metadata": {
        "id": "QiNJmrnROtFd"
      },
      "execution_count": 4,
      "outputs": []
    },
    {
      "cell_type": "code",
      "source": [
        "preprocessed_X = preprocessed_df.iloc[:, :-1].values\n",
        "Y = preprocessed_df.iloc[:, -1].values"
      ],
      "metadata": {
        "id": "IzigsJNq7fek"
      },
      "execution_count": 5,
      "outputs": []
    },
    {
      "cell_type": "code",
      "source": [
        "print(preprocessed_X.shape)"
      ],
      "metadata": {
        "colab": {
          "base_uri": "https://localhost:8080/"
        },
        "id": "aabSEXKg6kfq",
        "outputId": "3f4d0a8e-128d-4bf9-a63c-0d37d82d2b79"
      },
      "execution_count": null,
      "outputs": [
        {
          "output_type": "stream",
          "name": "stdout",
          "text": [
            "(1460, 288)\n"
          ]
        }
      ]
    },
    {
      "cell_type": "markdown",
      "source": [
        "#### Train"
      ],
      "metadata": {
        "id": "xRjhQu2DZryX"
      }
    },
    {
      "cell_type": "code",
      "source": [
        "input_shape = (preprocessed_X.shape[1],)\n",
        "model = Sequential([\n",
        "    Dense(2024, input_shape=input_shape),\n",
        "    Dense(1024),\n",
        "    Dense(512),\n",
        "    Dense(256),\n",
        "    Dense(1)\n",
        "])\n",
        "\n",
        "model.compile(optimizer='adam',\n",
        "              loss='mean_squared_error',\n",
        "              metrics=[tf.keras.metrics.RootMeanSquaredError(name='rmse')])"
      ],
      "metadata": {
        "id": "ljFX0zGyZwRl"
      },
      "execution_count": 6,
      "outputs": []
    },
    {
      "cell_type": "code",
      "source": [
        "model.fit(preprocessed_X, Y, epochs=100, batch_size=4)\n"
      ],
      "metadata": {
        "id": "-MMEj1QQaqV1",
        "colab": {
          "base_uri": "https://localhost:8080/"
        },
        "outputId": "62d9a44a-1b2e-42d6-9305-65010c6374ee"
      },
      "execution_count": 7,
      "outputs": [
        {
          "output_type": "stream",
          "name": "stdout",
          "text": [
            "Epoch 1/100\n",
            "365/365 [==============================] - 23s 60ms/step - loss: 1.6227 - rmse: 1.2739\n",
            "Epoch 2/100\n",
            "365/365 [==============================] - 24s 64ms/step - loss: 0.0118 - rmse: 0.1085\n",
            "Epoch 3/100\n",
            "365/365 [==============================] - 22s 59ms/step - loss: 0.0090 - rmse: 0.0950\n",
            "Epoch 4/100\n",
            "365/365 [==============================] - 22s 60ms/step - loss: 0.0103 - rmse: 0.1016\n",
            "Epoch 5/100\n",
            "365/365 [==============================] - 22s 60ms/step - loss: 0.0191 - rmse: 0.1382\n",
            "Epoch 6/100\n",
            "365/365 [==============================] - 21s 58ms/step - loss: 0.0094 - rmse: 0.0969\n",
            "Epoch 7/100\n",
            "365/365 [==============================] - 22s 61ms/step - loss: 0.0104 - rmse: 0.1019\n",
            "Epoch 8/100\n",
            "365/365 [==============================] - 22s 60ms/step - loss: 2919.0339 - rmse: 54.0281\n",
            "Epoch 9/100\n",
            "365/365 [==============================] - 21s 59ms/step - loss: 68.1974 - rmse: 8.2582\n",
            "Epoch 10/100\n",
            "365/365 [==============================] - 22s 61ms/step - loss: 0.2868 - rmse: 0.5355\n",
            "Epoch 11/100\n",
            "365/365 [==============================] - 23s 62ms/step - loss: 0.0938 - rmse: 0.3063\n",
            "Epoch 12/100\n",
            "365/365 [==============================] - 22s 60ms/step - loss: 0.0770 - rmse: 0.2775\n",
            "Epoch 13/100\n",
            "365/365 [==============================] - 23s 63ms/step - loss: 0.0742 - rmse: 0.2725\n",
            "Epoch 14/100\n",
            "365/365 [==============================] - 22s 61ms/step - loss: 0.0655 - rmse: 0.2559\n",
            "Epoch 15/100\n",
            "365/365 [==============================] - 23s 63ms/step - loss: 0.0635 - rmse: 0.2520\n",
            "Epoch 16/100\n",
            "365/365 [==============================] - 23s 62ms/step - loss: 0.0562 - rmse: 0.2370\n",
            "Epoch 17/100\n",
            "365/365 [==============================] - 23s 63ms/step - loss: 0.0522 - rmse: 0.2284\n",
            "Epoch 18/100\n",
            "365/365 [==============================] - 22s 60ms/step - loss: 0.0462 - rmse: 0.2150\n",
            "Epoch 19/100\n",
            "365/365 [==============================] - 22s 60ms/step - loss: 0.0423 - rmse: 0.2058\n",
            "Epoch 20/100\n",
            "365/365 [==============================] - 22s 61ms/step - loss: 0.0397 - rmse: 0.1992\n",
            "Epoch 21/100\n",
            "365/365 [==============================] - 21s 59ms/step - loss: 0.0349 - rmse: 0.1868\n",
            "Epoch 22/100\n",
            "365/365 [==============================] - 22s 60ms/step - loss: 0.0291 - rmse: 0.1705\n",
            "Epoch 23/100\n",
            "365/365 [==============================] - 22s 60ms/step - loss: 0.0276 - rmse: 0.1662\n",
            "Epoch 24/100\n",
            "365/365 [==============================] - 21s 59ms/step - loss: 0.0265 - rmse: 0.1627\n",
            "Epoch 25/100\n",
            "365/365 [==============================] - 22s 60ms/step - loss: 0.0230 - rmse: 0.1516\n",
            "Epoch 26/100\n",
            "365/365 [==============================] - 22s 59ms/step - loss: 0.0174 - rmse: 0.1321\n",
            "Epoch 27/100\n",
            "365/365 [==============================] - 21s 58ms/step - loss: 0.0244 - rmse: 0.1561\n",
            "Epoch 28/100\n",
            "365/365 [==============================] - 23s 62ms/step - loss: 0.0151 - rmse: 0.1230\n",
            "Epoch 29/100\n",
            "365/365 [==============================] - 22s 61ms/step - loss: 0.0126 - rmse: 0.1124\n",
            "Epoch 30/100\n",
            "365/365 [==============================] - 22s 60ms/step - loss: 0.0154 - rmse: 0.1242\n",
            "Epoch 31/100\n",
            "365/365 [==============================] - 22s 60ms/step - loss: 0.0427 - rmse: 0.2066\n",
            "Epoch 32/100\n",
            "365/365 [==============================] - 22s 60ms/step - loss: 0.0170 - rmse: 0.1305\n",
            "Epoch 33/100\n",
            "365/365 [==============================] - 22s 59ms/step - loss: 0.0924 - rmse: 0.3040\n",
            "Epoch 34/100\n",
            "365/365 [==============================] - 22s 61ms/step - loss: 0.0165 - rmse: 0.1286\n",
            "Epoch 35/100\n",
            "365/365 [==============================] - 22s 60ms/step - loss: 0.1462 - rmse: 0.3823\n",
            "Epoch 36/100\n",
            "365/365 [==============================] - 21s 59ms/step - loss: 0.0188 - rmse: 0.1373\n",
            "Epoch 37/100\n",
            "365/365 [==============================] - 22s 60ms/step - loss: 0.0142 - rmse: 0.1192\n",
            "Epoch 38/100\n",
            "365/365 [==============================] - 22s 60ms/step - loss: 0.0186 - rmse: 0.1364\n",
            "Epoch 39/100\n",
            "365/365 [==============================] - 22s 60ms/step - loss: 0.0509 - rmse: 0.2256\n",
            "Epoch 40/100\n",
            "365/365 [==============================] - 22s 61ms/step - loss: 0.0089 - rmse: 0.0943\n",
            "Epoch 41/100\n",
            "365/365 [==============================] - 22s 61ms/step - loss: 0.0178 - rmse: 0.1334\n",
            "Epoch 42/100\n",
            "365/365 [==============================] - 22s 59ms/step - loss: 0.0670 - rmse: 0.2588\n",
            "Epoch 43/100\n",
            "365/365 [==============================] - 22s 61ms/step - loss: 0.0138 - rmse: 0.1176\n",
            "Epoch 44/100\n",
            "365/365 [==============================] - 22s 59ms/step - loss: 0.0094 - rmse: 0.0969\n",
            "Epoch 45/100\n",
            "365/365 [==============================] - 21s 59ms/step - loss: 0.0056 - rmse: 0.0746\n",
            "Epoch 46/100\n",
            "365/365 [==============================] - 22s 60ms/step - loss: 0.0099 - rmse: 0.0993\n",
            "Epoch 47/100\n",
            "365/365 [==============================] - 22s 60ms/step - loss: 0.0161 - rmse: 0.1267\n",
            "Epoch 48/100\n",
            "365/365 [==============================] - 22s 59ms/step - loss: 0.0060 - rmse: 0.0772\n",
            "Epoch 49/100\n",
            "365/365 [==============================] - 22s 61ms/step - loss: 0.0070 - rmse: 0.0834\n",
            "Epoch 50/100\n",
            "365/365 [==============================] - 22s 62ms/step - loss: 0.0037 - rmse: 0.0611\n",
            "Epoch 51/100\n",
            "365/365 [==============================] - 22s 60ms/step - loss: 0.0098 - rmse: 0.0991\n",
            "Epoch 52/100\n",
            "365/365 [==============================] - 22s 61ms/step - loss: 0.0062 - rmse: 0.0785\n",
            "Epoch 53/100\n",
            "365/365 [==============================] - 22s 61ms/step - loss: 0.0048 - rmse: 0.0693\n",
            "Epoch 54/100\n",
            "365/365 [==============================] - 21s 58ms/step - loss: 0.0064 - rmse: 0.0799\n",
            "Epoch 55/100\n",
            "365/365 [==============================] - 23s 62ms/step - loss: 0.0074 - rmse: 0.0861\n",
            "Epoch 56/100\n",
            "365/365 [==============================] - 22s 60ms/step - loss: 0.0524 - rmse: 0.2288\n",
            "Epoch 57/100\n",
            "365/365 [==============================] - 22s 59ms/step - loss: 0.0058 - rmse: 0.0762\n",
            "Epoch 58/100\n",
            "365/365 [==============================] - 22s 61ms/step - loss: 0.0033 - rmse: 0.0573\n",
            "Epoch 59/100\n",
            "365/365 [==============================] - 21s 57ms/step - loss: 0.0026 - rmse: 0.0506\n",
            "Epoch 60/100\n",
            "365/365 [==============================] - 22s 59ms/step - loss: 0.0025 - rmse: 0.0501\n",
            "Epoch 61/100\n",
            "365/365 [==============================] - 22s 60ms/step - loss: 0.0027 - rmse: 0.0519\n",
            "Epoch 62/100\n",
            "365/365 [==============================] - 21s 58ms/step - loss: 0.0028 - rmse: 0.0534\n",
            "Epoch 63/100\n",
            "365/365 [==============================] - 22s 60ms/step - loss: 0.0030 - rmse: 0.0544\n",
            "Epoch 64/100\n",
            "365/365 [==============================] - 22s 61ms/step - loss: 29.1372 - rmse: 5.3979\n",
            "Epoch 65/100\n",
            "365/365 [==============================] - 26s 70ms/step - loss: 0.0335 - rmse: 0.1829\n",
            "Epoch 66/100\n",
            "365/365 [==============================] - 21s 58ms/step - loss: 0.0154 - rmse: 0.1239\n",
            "Epoch 67/100\n",
            "365/365 [==============================] - 21s 59ms/step - loss: 0.0094 - rmse: 0.0970\n",
            "Epoch 68/100\n",
            "365/365 [==============================] - 22s 61ms/step - loss: 0.0071 - rmse: 0.0841\n",
            "Epoch 69/100\n",
            "365/365 [==============================] - 22s 61ms/step - loss: 0.0053 - rmse: 0.0728\n",
            "Epoch 70/100\n",
            "365/365 [==============================] - 23s 63ms/step - loss: 0.0054 - rmse: 0.0737\n",
            "Epoch 71/100\n",
            "365/365 [==============================] - 22s 60ms/step - loss: 0.0043 - rmse: 0.0655\n",
            "Epoch 72/100\n",
            "365/365 [==============================] - 22s 60ms/step - loss: 0.0043 - rmse: 0.0656\n",
            "Epoch 73/100\n",
            "365/365 [==============================] - 22s 61ms/step - loss: 0.0077 - rmse: 0.0880\n",
            "Epoch 74/100\n",
            "365/365 [==============================] - 22s 60ms/step - loss: 0.0042 - rmse: 0.0652\n",
            "Epoch 75/100\n",
            "365/365 [==============================] - 22s 61ms/step - loss: 0.0109 - rmse: 0.1045\n",
            "Epoch 76/100\n",
            "365/365 [==============================] - 22s 61ms/step - loss: 0.0042 - rmse: 0.0648\n",
            "Epoch 77/100\n",
            "365/365 [==============================] - 22s 62ms/step - loss: 0.0073 - rmse: 0.0853\n",
            "Epoch 78/100\n",
            "365/365 [==============================] - 22s 61ms/step - loss: 0.0090 - rmse: 0.0951\n",
            "Epoch 79/100\n",
            "365/365 [==============================] - 23s 63ms/step - loss: 0.0071 - rmse: 0.0842\n",
            "Epoch 80/100\n",
            "365/365 [==============================] - 23s 64ms/step - loss: 0.0095 - rmse: 0.0977\n",
            "Epoch 81/100\n",
            "365/365 [==============================] - 22s 61ms/step - loss: 0.0061 - rmse: 0.0781\n",
            "Epoch 82/100\n",
            "365/365 [==============================] - 23s 62ms/step - loss: 0.0034 - rmse: 0.0583\n",
            "Epoch 83/100\n",
            "365/365 [==============================] - 23s 62ms/step - loss: 0.0039 - rmse: 0.0627\n",
            "Epoch 84/100\n",
            "365/365 [==============================] - 22s 59ms/step - loss: 0.0035 - rmse: 0.0592\n",
            "Epoch 85/100\n",
            "365/365 [==============================] - 22s 62ms/step - loss: 0.0039 - rmse: 0.0626\n",
            "Epoch 86/100\n",
            "365/365 [==============================] - 22s 62ms/step - loss: 0.0040 - rmse: 0.0634\n",
            "Epoch 87/100\n",
            "365/365 [==============================] - 22s 59ms/step - loss: 0.0038 - rmse: 0.0613\n",
            "Epoch 88/100\n",
            "365/365 [==============================] - 22s 61ms/step - loss: 0.0034 - rmse: 0.0587\n",
            "Epoch 89/100\n",
            "365/365 [==============================] - 22s 61ms/step - loss: 0.0029 - rmse: 0.0537\n",
            "Epoch 90/100\n",
            "365/365 [==============================] - 21s 59ms/step - loss: 0.0052 - rmse: 0.0723\n",
            "Epoch 91/100\n",
            "365/365 [==============================] - 22s 60ms/step - loss: 0.0046 - rmse: 0.0682\n",
            "Epoch 92/100\n",
            "365/365 [==============================] - 22s 61ms/step - loss: 0.0031 - rmse: 0.0554\n",
            "Epoch 93/100\n",
            "365/365 [==============================] - 23s 62ms/step - loss: 0.0052 - rmse: 0.0721\n",
            "Epoch 94/100\n",
            "365/365 [==============================] - 23s 63ms/step - loss: 118.2300 - rmse: 10.8734\n",
            "Epoch 95/100\n",
            "365/365 [==============================] - 23s 63ms/step - loss: 0.0301 - rmse: 0.1734\n",
            "Epoch 96/100\n",
            "365/365 [==============================] - 24s 65ms/step - loss: 0.0192 - rmse: 0.1386\n",
            "Epoch 97/100\n",
            "365/365 [==============================] - 23s 63ms/step - loss: 0.0172 - rmse: 0.1311\n",
            "Epoch 98/100\n",
            "365/365 [==============================] - 23s 64ms/step - loss: 0.0141 - rmse: 0.1189\n",
            "Epoch 99/100\n",
            "365/365 [==============================] - 24s 64ms/step - loss: 0.0115 - rmse: 0.1072\n",
            "Epoch 100/100\n",
            "365/365 [==============================] - 23s 63ms/step - loss: 0.0100 - rmse: 0.0998\n"
          ]
        },
        {
          "output_type": "execute_result",
          "data": {
            "text/plain": [
              "<keras.src.callbacks.History at 0x7d282f68fca0>"
            ]
          },
          "metadata": {},
          "execution_count": 7
        }
      ]
    },
    {
      "cell_type": "markdown",
      "source": [
        "# Predicton"
      ],
      "metadata": {
        "id": "GVeqLTu95CfR"
      }
    },
    {
      "cell_type": "code",
      "source": [
        "# Read train data\n",
        "\n",
        "test_df = pd.read_csv('test.csv')\n",
        "\n",
        "ids = test_df['Id'].values.astype(int)\n",
        "test_df = replace_nans(test_df)\n",
        "preprocessed_test_df = preprocessDataset(test_df)\n",
        "\n"
      ],
      "metadata": {
        "id": "oBYQYMvy5EmZ"
      },
      "execution_count": 8,
      "outputs": []
    },
    {
      "cell_type": "code",
      "source": [
        "#print(preprocessed_test_df.shape)\n",
        "\n",
        "unique_to_preprocessed_df = preprocessed_df.columns.difference(preprocessed_test_df.columns)\n",
        "#print(unique_to_preprocessed_df)\n",
        "\n",
        "# Populate difference of columns in test_Df\n",
        "for column in unique_to_preprocessed_df:\n",
        "    preprocessed_test_df[column] = 0\n",
        "\n",
        "# maintain order of the columns too:\n",
        "ordered_columns = [col for col in preprocessed_df.columns if col in preprocessed_test_df.columns]\n",
        "\n",
        "preprocessed_test_df = preprocessed_test_df[ordered_columns]\n",
        "preprocessed_test_df.drop('SalePrice', axis=1, inplace=True)\n",
        "\n",
        "# check difference again:\n",
        "unique_to_preprocessed_df = preprocessed_df.columns.difference(preprocessed_test_df.columns)\n",
        "#print(unique_to_preprocessed_df)\n",
        "\n",
        "#print(\"Shape of train: \" + str(preprocessed_df.shape) + \" Shape of test: \" + str(preprocessed_test_df.shape))\n",
        "\n"
      ],
      "metadata": {
        "colab": {
          "base_uri": "https://localhost:8080/"
        },
        "id": "evWooZrz6a2H",
        "outputId": "5d27f7f9-2bcd-4115-d358-9cb60144270d"
      },
      "execution_count": 9,
      "outputs": [
        {
          "output_type": "stream",
          "name": "stderr",
          "text": [
            "<ipython-input-9-ec42950fbb20>:14: SettingWithCopyWarning: \n",
            "A value is trying to be set on a copy of a slice from a DataFrame\n",
            "\n",
            "See the caveats in the documentation: https://pandas.pydata.org/pandas-docs/stable/user_guide/indexing.html#returning-a-view-versus-a-copy\n",
            "  preprocessed_test_df.drop('SalePrice', axis=1, inplace=True)\n"
          ]
        }
      ]
    },
    {
      "cell_type": "code",
      "source": [
        "predictions = model.predict(preprocessed_test_df)"
      ],
      "metadata": {
        "colab": {
          "base_uri": "https://localhost:8080/"
        },
        "id": "6apA9BKm5NOY",
        "outputId": "5c4d2efe-bccd-4972-f5e5-63ed1701d282"
      },
      "execution_count": 10,
      "outputs": [
        {
          "output_type": "stream",
          "name": "stdout",
          "text": [
            "46/46 [==============================] - 1s 18ms/step\n"
          ]
        }
      ]
    },
    {
      "cell_type": "code",
      "source": [
        "# concatenate predictions with ids and store to file.\n",
        "\n",
        "result = np.column_stack((ids, predictions))\n",
        "\n",
        "print(\"Predictions shape: \" + str(predictions.shape))\n",
        "print(\"ids shape: \" + str(ids.shape))\n",
        "print(\"result shape: \" + str(result.shape))"
      ],
      "metadata": {
        "colab": {
          "base_uri": "https://localhost:8080/"
        },
        "id": "_migelCQ6T3X",
        "outputId": "b4e17577-5159-4da2-af87-8f53c19a5b8c"
      },
      "execution_count": 11,
      "outputs": [
        {
          "output_type": "stream",
          "name": "stdout",
          "text": [
            "Predictions shape: (1459, 1)\n",
            "ids shape: (1459,)\n",
            "result shape: (1459, 2)\n"
          ]
        }
      ]
    },
    {
      "cell_type": "code",
      "source": [
        "\n",
        "result_df = pd.DataFrame(result, columns=['Id', 'SalePrice'])\n",
        "result_df['Id'] = result_df['Id'].astype(int)\n",
        "\n",
        "\n",
        "# Save the DataFrame to a CSV file\n",
        "result_df.to_csv('predictions.csv', index=False)\n"
      ],
      "metadata": {
        "id": "3CSbpZB1-mei"
      },
      "execution_count": 12,
      "outputs": []
    },
    {
      "cell_type": "code",
      "source": [],
      "metadata": {
        "id": "oM4fncpSED14"
      },
      "execution_count": null,
      "outputs": []
    }
  ]
}