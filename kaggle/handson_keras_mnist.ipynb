{
  "nbformat": 4,
  "nbformat_minor": 0,
  "metadata": {
    "colab": {
      "provenance": [],
      "authorship_tag": "ABX9TyMVJIWFjqEDqWx0eE9BwAlh"
    },
    "kernelspec": {
      "name": "python3",
      "display_name": "Python 3"
    },
    "language_info": {
      "name": "python"
    }
  },
  "cells": [
    {
      "cell_type": "code",
      "execution_count": null,
      "metadata": {
        "id": "yfxWN9-MeyyQ"
      },
      "outputs": [],
      "source": [
        "import tensorflow as tf\n",
        "import matplotlib.pyplot as plt\n",
        "from keras.models import Sequential\n",
        "from keras.layers import Dense\n",
        "import numpy as np\n",
        "\n"
      ]
    },
    {
      "cell_type": "markdown",
      "source": [
        "\n",
        "Load dataset and see shapes"
      ],
      "metadata": {
        "id": "hmvs4usUgEDu"
      }
    },
    {
      "cell_type": "code",
      "source": [
        "mnist_dataset = tf.keras.datasets.fashion_mnist.load_data()\n",
        "\n",
        "(x_train_full, y_train_full), (x_test, y_test) = mnist_dataset\n",
        "\n",
        "print(x_train_full.shape)\n",
        "print(y_train_full.shape)\n",
        "print(x_test.shape)\n",
        "print(y_test.shape)\n",
        "\n"
      ],
      "metadata": {
        "colab": {
          "base_uri": "https://localhost:8080/"
        },
        "id": "CkKeVRwMfGlp",
        "outputId": "c3e90273-3534-47a9-b416-174379f5f7b4"
      },
      "execution_count": null,
      "outputs": [
        {
          "output_type": "stream",
          "name": "stdout",
          "text": [
            "(60000, 28, 28)\n",
            "(60000,)\n",
            "(10000, 28, 28)\n",
            "(10000,)\n"
          ]
        }
      ]
    },
    {
      "cell_type": "code",
      "source": [
        "x_train, y_train = x_train_full[:-5000], y_train_full[:-5000]\n",
        "x_validation, y_validation = x_train_full[-5000:], y_train_full[-5000:]\n",
        "print(x_train.shape)\n",
        "print(x_validation.shape)"
      ],
      "metadata": {
        "colab": {
          "base_uri": "https://localhost:8080/"
        },
        "id": "GPJRxvZkgDOi",
        "outputId": "3582377d-aeda-463b-a9cb-16c7156f8111"
      },
      "execution_count": null,
      "outputs": [
        {
          "output_type": "stream",
          "name": "stdout",
          "text": [
            "(55000, 28, 28)\n",
            "(5000, 28, 28)\n"
          ]
        }
      ]
    },
    {
      "cell_type": "markdown",
      "source": [
        "Normalize inputs"
      ],
      "metadata": {
        "id": "54qOtUOohLCV"
      }
    },
    {
      "cell_type": "code",
      "source": [
        "x_train, x_validation, x_test = x_train / 255.0, x_validation/ 255.0, x_test / 255.0"
      ],
      "metadata": {
        "id": "q4BkAkwRgzJB"
      },
      "execution_count": null,
      "outputs": []
    },
    {
      "cell_type": "code",
      "source": [
        "class_names = [\"T-shirt/top\", \"Trouser\", \"Pullover\", \"Dress\", \"Coat\", \"Sandal\", \"Shirt\", \"Sneaker\", \"Bag\", \"Ankle boot\"]"
      ],
      "metadata": {
        "id": "KENnVuHehkyK"
      },
      "execution_count": null,
      "outputs": []
    },
    {
      "cell_type": "markdown",
      "source": [
        "Visualize data"
      ],
      "metadata": {
        "id": "NfIa44xKiCG3"
      }
    },
    {
      "cell_type": "code",
      "source": [
        "for i in range(1):\n",
        "    plt.subplot(2, 5, i+1)\n",
        "    plt.imshow(x_train[i], cmap='gray')\n",
        "    plt.title(f\"Label: {class_names[y_train[i]]}\", bbox=dict(pad=5))\n",
        "    plt.axis('off')\n",
        "\n",
        "plt.show()"
      ],
      "metadata": {
        "colab": {
          "base_uri": "https://localhost:8080/",
          "height": 144
        },
        "id": "zXLgU53fiYsQ",
        "outputId": "75b1b655-4406-4f43-f5bc-0b1ee9c784ad"
      },
      "execution_count": null,
      "outputs": [
        {
          "output_type": "display_data",
          "data": {
            "text/plain": [
              "<Figure size 640x480 with 1 Axes>"
            ],
            "image/png": "[encoded data removed]"
          },
          "metadata": {}
        }
      ]
    },
    {
      "cell_type": "markdown",
      "source": [
        "Build NN"
      ],
      "metadata": {
        "id": "9bUZ0rAcjGz6"
      }
    },
    {
      "cell_type": "code",
      "source": [
        "#tf.random.set_seed(42)\n",
        "\n",
        "model = Sequential([\n",
        "tf.keras.layers.Input(shape=[28,28]),\n",
        "tf.keras.layers.Flatten(),\n",
        "Dense(300, activation=\"relu\"),\n",
        "Dense(100, activation=\"relu\"),\n",
        "Dense(10, activation=\"softmax\")])\n",
        "\n",
        "model.summary()\n",
        "\n"
      ],
      "metadata": {
        "colab": {
          "base_uri": "https://localhost:8080/"
        },
        "id": "T85O1uGsjEZf",
        "outputId": "fe36b2ed-61d3-475a-bac2-ea33b3401cf9"
      },
      "execution_count": null,
      "outputs": [
        {
          "output_type": "stream",
          "name": "stdout",
          "text": [
            "Model: \"sequential_3\"\n",
            "_________________________________________________________________\n",
            " Layer (type)                Output Shape              Param #   \n",
            "=================================================================\n",
            " flatten_3 (Flatten)         (None, 784)               0         \n",
            "                                                                 \n",
            " dense_9 (Dense)             (None, 300)               235500    \n",
            "                                                                 \n",
            " dense_10 (Dense)            (None, 100)               30100     \n",
            "                                                                 \n",
            " dense_11 (Dense)            (None, 10)                1010      \n",
            "                                                                 \n",
            "=================================================================\n",
            "Total params: 266,610\n",
            "Trainable params: 266,610\n",
            "Non-trainable params: 0\n",
            "_________________________________________________________________\n"
          ]
        }
      ]
    },
    {
      "cell_type": "code",
      "source": [
        "model.compile(loss=\"sparse_categorical_crossentropy\", optimizer=tf.keras.optimizers.SGD(learning_rate=0.1), metrics=[\"accuracy\"])"
      ],
      "metadata": {
        "id": "9lhmBslokjvz"
      },
      "execution_count": null,
      "outputs": []
    },
    {
      "cell_type": "markdown",
      "source": [
        "Train NN"
      ],
      "metadata": {
        "id": "-rxeP95rlsfM"
      }
    },
    {
      "cell_type": "code",
      "source": [
        "history = model.fit(x_train, y_train, epochs=30, validation_data=(x_validation, y_validation))"
      ],
      "metadata": {
        "colab": {
          "base_uri": "https://localhost:8080/"
        },
        "id": "rcT6AJL7ldx5",
        "outputId": "68f4681a-39f2-4701-fc85-64e90fe425d6"
      },
      "execution_count": null,
      "outputs": [
        {
          "output_type": "stream",
          "name": "stdout",
          "text": [
            "Epoch 1/30\n",
            "1719/1719 [==============================] - 6s 3ms/step - loss: 0.5312 - accuracy: 0.8079 - val_loss: 0.4378 - val_accuracy: 0.8326\n",
            "Epoch 2/30\n",
            "1719/1719 [==============================] - 5s 3ms/step - loss: 0.3874 - accuracy: 0.8567 - val_loss: 0.4159 - val_accuracy: 0.8420\n",
            "Epoch 3/30\n",
            "1719/1719 [==============================] - 5s 3ms/step - loss: 0.3451 - accuracy: 0.8720 - val_loss: 0.3975 - val_accuracy: 0.8550\n",
            "Epoch 4/30\n",
            "1719/1719 [==============================] - 6s 3ms/step - loss: 0.3226 - accuracy: 0.8811 - val_loss: 0.3522 - val_accuracy: 0.8730\n",
            "Epoch 5/30\n",
            "1719/1719 [==============================] - 5s 3ms/step - loss: 0.3020 - accuracy: 0.8877 - val_loss: 0.3257 - val_accuracy: 0.8778\n",
            "Epoch 6/30\n",
            "1719/1719 [==============================] - 5s 3ms/step - loss: 0.2845 - accuracy: 0.8927 - val_loss: 0.3499 - val_accuracy: 0.8766\n",
            "Epoch 7/30\n",
            "1719/1719 [==============================] - 5s 3ms/step - loss: 0.2739 - accuracy: 0.8970 - val_loss: 0.3301 - val_accuracy: 0.8798\n",
            "Epoch 8/30\n",
            "1719/1719 [==============================] - 5s 3ms/step - loss: 0.2621 - accuracy: 0.8998 - val_loss: 0.3444 - val_accuracy: 0.8756\n",
            "Epoch 9/30\n",
            "1719/1719 [==============================] - 5s 3ms/step - loss: 0.2515 - accuracy: 0.9052 - val_loss: 0.3245 - val_accuracy: 0.8824\n",
            "Epoch 10/30\n",
            "1719/1719 [==============================] - 5s 3ms/step - loss: 0.2404 - accuracy: 0.9085 - val_loss: 0.3278 - val_accuracy: 0.8822\n",
            "Epoch 11/30\n",
            "1719/1719 [==============================] - 5s 3ms/step - loss: 0.2333 - accuracy: 0.9122 - val_loss: 0.3253 - val_accuracy: 0.8790\n",
            "Epoch 12/30\n",
            "1719/1719 [==============================] - 5s 3ms/step - loss: 0.2239 - accuracy: 0.9143 - val_loss: 0.3201 - val_accuracy: 0.8846\n",
            "Epoch 13/30\n",
            "1719/1719 [==============================] - 5s 3ms/step - loss: 0.2188 - accuracy: 0.9177 - val_loss: 0.3076 - val_accuracy: 0.8884\n",
            "Epoch 14/30\n",
            "1719/1719 [==============================] - 5s 3ms/step - loss: 0.2126 - accuracy: 0.9183 - val_loss: 0.3430 - val_accuracy: 0.8852\n",
            "Epoch 15/30\n",
            "1719/1719 [==============================] - 5s 3ms/step - loss: 0.2047 - accuracy: 0.9224 - val_loss: 0.3272 - val_accuracy: 0.8934\n",
            "Epoch 16/30\n",
            "1719/1719 [==============================] - 5s 3ms/step - loss: 0.1977 - accuracy: 0.9252 - val_loss: 0.3258 - val_accuracy: 0.8854\n",
            "Epoch 17/30\n",
            "1719/1719 [==============================] - 5s 3ms/step - loss: 0.1925 - accuracy: 0.9263 - val_loss: 0.3393 - val_accuracy: 0.8896\n",
            "Epoch 18/30\n",
            "1719/1719 [==============================] - 5s 3ms/step - loss: 0.1879 - accuracy: 0.9289 - val_loss: 0.3213 - val_accuracy: 0.8924\n",
            "Epoch 19/30\n",
            "1719/1719 [==============================] - 5s 3ms/step - loss: 0.1845 - accuracy: 0.9303 - val_loss: 0.3407 - val_accuracy: 0.8846\n",
            "Epoch 20/30\n",
            "1719/1719 [==============================] - 5s 3ms/step - loss: 0.1785 - accuracy: 0.9329 - val_loss: 0.3370 - val_accuracy: 0.8886\n",
            "Epoch 21/30\n",
            "1719/1719 [==============================] - 5s 3ms/step - loss: 0.1699 - accuracy: 0.9345 - val_loss: 0.3188 - val_accuracy: 0.8886\n",
            "Epoch 22/30\n",
            "1719/1719 [==============================] - 5s 3ms/step - loss: 0.1670 - accuracy: 0.9371 - val_loss: 0.3363 - val_accuracy: 0.8896\n",
            "Epoch 23/30\n",
            "1719/1719 [==============================] - 5s 3ms/step - loss: 0.1632 - accuracy: 0.9375 - val_loss: 0.3714 - val_accuracy: 0.8800\n",
            "Epoch 24/30\n",
            "1719/1719 [==============================] - 5s 3ms/step - loss: 0.1586 - accuracy: 0.9394 - val_loss: 0.3449 - val_accuracy: 0.8960\n",
            "Epoch 25/30\n",
            "1719/1719 [==============================] - 5s 3ms/step - loss: 0.1544 - accuracy: 0.9412 - val_loss: 0.3538 - val_accuracy: 0.8908\n",
            "Epoch 26/30\n",
            "1719/1719 [==============================] - 5s 3ms/step - loss: 0.1519 - accuracy: 0.9420 - val_loss: 0.3753 - val_accuracy: 0.8866\n",
            "Epoch 27/30\n",
            "1719/1719 [==============================] - 6s 3ms/step - loss: 0.1484 - accuracy: 0.9432 - val_loss: 0.3862 - val_accuracy: 0.8878\n",
            "Epoch 28/30\n",
            "1719/1719 [==============================] - 5s 3ms/step - loss: 0.1418 - accuracy: 0.9464 - val_loss: 0.3863 - val_accuracy: 0.8924\n",
            "Epoch 29/30\n",
            "1719/1719 [==============================] - 6s 3ms/step - loss: 0.1389 - accuracy: 0.9472 - val_loss: 0.3554 - val_accuracy: 0.8898\n",
            "Epoch 30/30\n",
            "1719/1719 [==============================] - 5s 3ms/step - loss: 0.1340 - accuracy: 0.9496 - val_loss: 0.3666 - val_accuracy: 0.8914\n"
          ]
        }
      ]
    },
    {
      "cell_type": "markdown",
      "source": [
        "Example evaluation"
      ],
      "metadata": {
        "id": "7lV7HW4pmxux"
      }
    },
    {
      "cell_type": "code",
      "source": [
        "model.evaluate(x_test, y_test)"
      ],
      "metadata": {
        "colab": {
          "base_uri": "https://localhost:8080/"
        },
        "id": "YeksyXzbmz41",
        "outputId": "cca7f043-7af8-4aac-81e5-b4522b2e71ce"
      },
      "execution_count": null,
      "outputs": [
        {
          "output_type": "stream",
          "name": "stdout",
          "text": [
            "313/313 [==============================] - 1s 2ms/step - loss: 0.3761 - accuracy: 0.8931\n"
          ]
        },
        {
          "output_type": "execute_result",
          "data": {
            "text/plain": [
              "[0.37610477209091187, 0.8931000232696533]"
            ]
          },
          "metadata": {},
          "execution_count": 64
        }
      ]
    },
    {
      "cell_type": "code",
      "source": [
        "x_new = x_test[:3]\n",
        "y_prob = model.predict(x_new)\n",
        "y_prob.round(2)\n",
        "\n",
        "y_pred = y_prob.argmax(axis=-1)\n",
        "np.array(class_names)[y_pred]"
      ],
      "metadata": {
        "colab": {
          "base_uri": "https://localhost:8080/"
        },
        "id": "V_1PsHhkm36A",
        "outputId": "9d140b4c-73ba-4f26-c28d-930ea214cf07"
      },
      "execution_count": null,
      "outputs": [
        {
          "output_type": "stream",
          "name": "stdout",
          "text": [
            "1/1 [==============================] - 0s 50ms/step\n"
          ]
        },
        {
          "output_type": "execute_result",
          "data": {
            "text/plain": [
              "array(['Ankle boot', 'Pullover', 'Trouser'], dtype='<U11')"
            ]
          },
          "metadata": {},
          "execution_count": 65
        }
      ]
    },
    {
      "cell_type": "code",
      "source": [
        "for i in range(3):\n",
        "    plt.subplot(2, 5, i+1)\n",
        "    plt.imshow(x_new[i], cmap='gray')\n",
        "    plt.title(f\"Label: {class_names[y_pred[i]]}\", bbox=dict(pad=5))\n",
        "    plt.axis('off')\n",
        "\n",
        "plt.show()"
      ],
      "metadata": {
        "colab": {
          "base_uri": "https://localhost:8080/",
          "height": 144
        },
        "id": "DacwSp8qoT-r",
        "outputId": "cb107d14-d8c5-4725-9a8d-36d3620137f5"
      },
      "execution_count": null,
      "outputs": [
        {
          "output_type": "display_data",
          "data": {
            "text/plain": [
              "<Figure size 640x480 with 3 Axes>"
            ],
            "image/png": "[encoded data removed]"
          },
          "metadata": {}
        }
      ]
    }
  ]
}